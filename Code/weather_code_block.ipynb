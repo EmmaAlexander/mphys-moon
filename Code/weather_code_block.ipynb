{
 "cells": [
  {
   "cell_type": "markdown",
   "metadata": {},
   "source": [
    "CODE BLOCK TO EXTRACT WEATHER FROM LAT LONG"
   ]
  },
  {
   "cell_type": "code",
   "execution_count": 20,
   "metadata": {},
   "outputs": [],
   "source": [
    "import pandas as pd\n",
    "import reverse_geocode as rg\n",
    "import numpy as np"
   ]
  },
  {
   "cell_type": "code",
   "execution_count": 21,
   "metadata": {},
   "outputs": [],
   "source": [
    "from datetime import datetime,timedelta\n",
    "from astropy.time import Time\n",
    "from meteostat import Point, Hourly"
   ]
  },
  {
   "cell_type": "code",
   "execution_count": 22,
   "metadata": {},
   "outputs": [],
   "source": [
    "LIMITED = False\n",
    "METEOSTAT = False\n",
    "LINUX = False"
   ]
  },
  {
   "cell_type": "code",
   "execution_count": 23,
   "metadata": {},
   "outputs": [],
   "source": [
    "data_file = '..\\\\Data\\\\moon_sighting_data.csv'\n",
    "if LINUX:\n",
    "    data_file = '../Data/moon_sighting_data.csv'\n",
    "\n",
    "data = pd.read_csv(data_file)\n",
    "\n",
    "data = data[data[\"Source\"]==\"ICOUK\"]\n",
    "\n",
    "\n",
    "#data = data[['Latitude', \"Longitude\", 'Date']]\n",
    "if LIMITED:\n",
    "    df = data.copy('Deep').head(20)\n",
    "else:\n",
    "    df = data.copy('Deep')"
   ]
  },
  {
   "cell_type": "code",
   "execution_count": 24,
   "metadata": {},
   "outputs": [],
   "source": [
    "#index used\n",
    "i =334"
   ]
  },
  {
   "cell_type": "code",
   "execution_count": 25,
   "metadata": {},
   "outputs": [],
   "source": [
    "#get city from lat long, not rlly needed\n",
    "# city_arr = []\n",
    "# city_dic = rg.search(df[['Latitude', 'Longitude']])\n",
    "# for i in range(len(city_dic)):\n",
    "#     city_arr.append((city_dic[i])['city']+','+(city_dic[i])['country_code'])\n",
    "\n",
    "# df['City'] = city_arr"
   ]
  },
  {
   "cell_type": "code",
   "execution_count": 26,
   "metadata": {},
   "outputs": [],
   "source": [
    "#df"
   ]
  },
  {
   "cell_type": "code",
   "execution_count": 27,
   "metadata": {},
   "outputs": [],
   "source": [
    "if METEOSTAT:\n",
    "    # adds meteostat weather data for dataset\n",
    "\n",
    "    weather_data =[]\n",
    "    for i in range(len(city_dic)):\n",
    "        day = Time(df['Date'][i],format='jd').to_datetime()\n",
    "        weather_data_temp = Hourly(Point(df['Latitude'][i],df['Longitude'][i]), day-timedelta(hours=0.5), day + timedelta(hours=0.5)) #day+timedelta(days=1))\n",
    "        x = weather_data_temp.fetch()\n",
    "        if (len(x)>0):\n",
    "            weather_data.append(x)\n",
    "        else:\n",
    "            weather_data.append( pd.DataFrame(np.zeros([1, 11])*np.nan, columns = ['temp', 'dwpt', 'rhum', 'prcp', 'snow','wdir ','wspd','wpgt','pres', 'tsun', 'coco']))\n",
    "    weather_dataset = (pd.concat(weather_data, ignore_index=True)).drop(['wdir','wspd', 'wpgt'], axis=1)"
   ]
  },
  {
   "cell_type": "code",
   "execution_count": 28,
   "metadata": {},
   "outputs": [],
   "source": [
    "import requests\n",
    "from bs4 import BeautifulSoup\n",
    "import re\n"
   ]
  },
  {
   "cell_type": "code",
   "execution_count": 29,
   "metadata": {},
   "outputs": [
    {
     "name": "stdout",
     "output_type": "stream",
     "text": [
      "1613151000\n",
      "200\n"
     ]
    }
   ],
   "source": [
    "best_time = Time(df['Date'][i], format='jd') #best time in julian\n",
    "DATE = str(int(np.round(best_time.unix/60/30)*60*30)) #convert julian date to UNIX timestamp HOWEVER has british summertime\n",
    "print(DATE)\n",
    "url = 'https://www.weatheronline.co.uk/weather/maps/current?LANG=en&DATE='+ DATE  +'&CONT=ukuk&LAND=UK&KEY=UK&SORT=4&UD=0&INT=06&TYP=bedeckung&ART=tabelle&RUBRIK=akt&R=310&CEL=C&SI=mph'\n",
    "response = requests.get(url)\n",
    "print(response.status_code)"
   ]
  },
  {
   "cell_type": "code",
   "execution_count": 30,
   "metadata": {},
   "outputs": [],
   "source": [
    "soup = BeautifulSoup(response.text, 'html.parser')"
   ]
  },
  {
   "cell_type": "code",
   "execution_count": 31,
   "metadata": {},
   "outputs": [],
   "source": [
    "table = soup.find('table', class_ = 'gr3')\n",
    "\n",
    "table = str(table)\n",
    "#print(table)"
   ]
  },
  {
   "cell_type": "code",
   "execution_count": 32,
   "metadata": {},
   "outputs": [
    {
     "name": "stdout",
     "output_type": "stream",
     "text": [
      "['Camborne', 'Lerwick', 'Northolt', 'RAF Brize Norton', 'Lossiemouth', 'Coningsby', 'Isle of Man Airport', 'MoD Boscombe Down', 'Guernsey Airport', 'Yeovil', 'RAF Odiham']\n",
      "['03808', '03005', '03672', '03649', '03068', '03391', '03204', '03746', '03894', '03853', '03761']\n",
      "['7', '7', '6', '6', '4', '3', '3', '1', '1', '1', '1']\n"
     ]
    }
   ],
   "source": [
    "names = re.findall(\"(?<=CEL=C\\\">)(.*?)(?= \\()\", table)\n",
    "code = re.findall(\"(?<=WMO=)(.*?)(?=\\&amp)\", table)\n",
    "cloud_level = re.findall(\"(?<=<td>)(\\d)(?=<\\/td>)\", table)\n",
    "print(names)\n",
    "print(code)\n",
    "print(cloud_level)"
   ]
  },
  {
   "cell_type": "markdown",
   "metadata": {},
   "source": [
    "METEOSTAT distance comparison"
   ]
  },
  {
   "cell_type": "code",
   "execution_count": 33,
   "metadata": {},
   "outputs": [],
   "source": [
    "from meteostat import Stations"
   ]
  },
  {
   "cell_type": "code",
   "execution_count": 34,
   "metadata": {},
   "outputs": [
    {
     "name": "stdout",
     "output_type": "stream",
     "text": [
      "2021-02-12 17:31:40.512014\n"
     ]
    }
   ],
   "source": [
    "day = best_time.to_datetime()\n",
    "print(day)"
   ]
  },
  {
   "cell_type": "code",
   "execution_count": 35,
   "metadata": {},
   "outputs": [],
   "source": [
    "stations = Stations().nearby(df['Latitude'][i],df['Longitude'][i])\n",
    "stations = stations.inventory('hourly', day)\n",
    "station = stations.fetch(10)"
   ]
  },
  {
   "cell_type": "code",
   "execution_count": 36,
   "metadata": {},
   "outputs": [
    {
     "data": {
      "text/html": [
       "<div>\n",
       "<style scoped>\n",
       "    .dataframe tbody tr th:only-of-type {\n",
       "        vertical-align: middle;\n",
       "    }\n",
       "\n",
       "    .dataframe tbody tr th {\n",
       "        vertical-align: top;\n",
       "    }\n",
       "\n",
       "    .dataframe thead th {\n",
       "        text-align: right;\n",
       "    }\n",
       "</style>\n",
       "<table border=\"1\" class=\"dataframe\">\n",
       "  <thead>\n",
       "    <tr style=\"text-align: right;\">\n",
       "      <th></th>\n",
       "      <th>name</th>\n",
       "      <th>country</th>\n",
       "      <th>region</th>\n",
       "      <th>wmo</th>\n",
       "      <th>icao</th>\n",
       "      <th>latitude</th>\n",
       "      <th>longitude</th>\n",
       "      <th>elevation</th>\n",
       "      <th>timezone</th>\n",
       "      <th>hourly_start</th>\n",
       "      <th>hourly_end</th>\n",
       "      <th>daily_start</th>\n",
       "      <th>daily_end</th>\n",
       "      <th>monthly_start</th>\n",
       "      <th>monthly_end</th>\n",
       "      <th>distance</th>\n",
       "    </tr>\n",
       "    <tr>\n",
       "      <th>id</th>\n",
       "      <th></th>\n",
       "      <th></th>\n",
       "      <th></th>\n",
       "      <th></th>\n",
       "      <th></th>\n",
       "      <th></th>\n",
       "      <th></th>\n",
       "      <th></th>\n",
       "      <th></th>\n",
       "      <th></th>\n",
       "      <th></th>\n",
       "      <th></th>\n",
       "      <th></th>\n",
       "      <th></th>\n",
       "      <th></th>\n",
       "      <th></th>\n",
       "    </tr>\n",
       "  </thead>\n",
       "  <tbody>\n",
       "    <tr>\n",
       "      <th>03334</th>\n",
       "      <td>Manchester Airport</td>\n",
       "      <td>GB</td>\n",
       "      <td>ENG</td>\n",
       "      <td>03334</td>\n",
       "      <td>EGCC</td>\n",
       "      <td>53.3500</td>\n",
       "      <td>-2.2833</td>\n",
       "      <td>69.0</td>\n",
       "      <td>Europe/London</td>\n",
       "      <td>1933-09-30</td>\n",
       "      <td>2023-11-17</td>\n",
       "      <td>1973-01-01</td>\n",
       "      <td>2022-04-25</td>\n",
       "      <td>1957-01-01</td>\n",
       "      <td>2022-01-01</td>\n",
       "      <td>27780.788685</td>\n",
       "    </tr>\n",
       "    <tr>\n",
       "      <th>03318</th>\n",
       "      <td>Blackpool Airport</td>\n",
       "      <td>GB</td>\n",
       "      <td>ENG</td>\n",
       "      <td>03318</td>\n",
       "      <td>EGNH</td>\n",
       "      <td>53.7667</td>\n",
       "      <td>-3.0333</td>\n",
       "      <td>10.0</td>\n",
       "      <td>Europe/London</td>\n",
       "      <td>1973-01-01</td>\n",
       "      <td>2023-11-17</td>\n",
       "      <td>1973-01-02</td>\n",
       "      <td>2022-04-24</td>\n",
       "      <td>1981-01-01</td>\n",
       "      <td>2022-01-01</td>\n",
       "      <td>44468.650060</td>\n",
       "    </tr>\n",
       "    <tr>\n",
       "      <th>03321</th>\n",
       "      <td>Hawarden</td>\n",
       "      <td>GB</td>\n",
       "      <td>WLS</td>\n",
       "      <td>03321</td>\n",
       "      <td>EGNR</td>\n",
       "      <td>53.1667</td>\n",
       "      <td>-2.9833</td>\n",
       "      <td>10.0</td>\n",
       "      <td>Europe/London</td>\n",
       "      <td>1985-09-04</td>\n",
       "      <td>2023-11-17</td>\n",
       "      <td>1985-09-05</td>\n",
       "      <td>2022-04-24</td>\n",
       "      <td>2005-01-01</td>\n",
       "      <td>2022-01-01</td>\n",
       "      <td>58967.443229</td>\n",
       "    </tr>\n",
       "    <tr>\n",
       "      <th>EGNM0</th>\n",
       "      <td>Leeds And Bradford / Yeadon</td>\n",
       "      <td>GB</td>\n",
       "      <td>ENG</td>\n",
       "      <td>&lt;NA&gt;</td>\n",
       "      <td>EGNM</td>\n",
       "      <td>53.8667</td>\n",
       "      <td>-1.6500</td>\n",
       "      <td>208.0</td>\n",
       "      <td>Europe/London</td>\n",
       "      <td>1988-01-05</td>\n",
       "      <td>2023-11-17</td>\n",
       "      <td>1995-05-11</td>\n",
       "      <td>2022-04-27</td>\n",
       "      <td>2006-01-01</td>\n",
       "      <td>2022-01-01</td>\n",
       "      <td>60403.951143</td>\n",
       "    </tr>\n",
       "    <tr>\n",
       "      <th>03214</th>\n",
       "      <td>Walney Island</td>\n",
       "      <td>GB</td>\n",
       "      <td>CU</td>\n",
       "      <td>03214</td>\n",
       "      <td>EGNL</td>\n",
       "      <td>54.1167</td>\n",
       "      <td>-3.2500</td>\n",
       "      <td>15.0</td>\n",
       "      <td>Europe/London</td>\n",
       "      <td>1983-08-04</td>\n",
       "      <td>2023-10-06</td>\n",
       "      <td>1983-08-11</td>\n",
       "      <td>2022-03-25</td>\n",
       "      <td>2005-01-01</td>\n",
       "      <td>2021-01-01</td>\n",
       "      <td>79917.927119</td>\n",
       "    </tr>\n",
       "    <tr>\n",
       "      <th>03414</th>\n",
       "      <td>Shawbury</td>\n",
       "      <td>GB</td>\n",
       "      <td>ENG</td>\n",
       "      <td>03414</td>\n",
       "      <td>EGOS</td>\n",
       "      <td>52.8000</td>\n",
       "      <td>-2.6667</td>\n",
       "      <td>76.0</td>\n",
       "      <td>Europe/London</td>\n",
       "      <td>1973-01-01</td>\n",
       "      <td>2023-11-17</td>\n",
       "      <td>1973-01-01</td>\n",
       "      <td>2023-11-11</td>\n",
       "      <td>1973-01-01</td>\n",
       "      <td>2022-01-01</td>\n",
       "      <td>88478.882452</td>\n",
       "    </tr>\n",
       "    <tr>\n",
       "      <th>03266</th>\n",
       "      <td>Linton-On-Ouse</td>\n",
       "      <td>GB</td>\n",
       "      <td>ENG</td>\n",
       "      <td>03266</td>\n",
       "      <td>EGXU</td>\n",
       "      <td>54.0500</td>\n",
       "      <td>-1.2500</td>\n",
       "      <td>16.0</td>\n",
       "      <td>Europe/London</td>\n",
       "      <td>1973-01-01</td>\n",
       "      <td>2022-07-04</td>\n",
       "      <td>1973-01-09</td>\n",
       "      <td>2021-08-31</td>\n",
       "      <td>2000-01-01</td>\n",
       "      <td>2021-01-01</td>\n",
       "      <td>93416.895331</td>\n",
       "    </tr>\n",
       "    <tr>\n",
       "      <th>03264</th>\n",
       "      <td>Topcliffe / Dalton</td>\n",
       "      <td>GB</td>\n",
       "      <td>ENG</td>\n",
       "      <td>03264</td>\n",
       "      <td>EGXZ</td>\n",
       "      <td>54.2000</td>\n",
       "      <td>-1.3833</td>\n",
       "      <td>28.0</td>\n",
       "      <td>Europe/London</td>\n",
       "      <td>1994-07-20</td>\n",
       "      <td>2023-11-17</td>\n",
       "      <td>2005-08-24</td>\n",
       "      <td>2022-04-24</td>\n",
       "      <td>2010-01-01</td>\n",
       "      <td>2022-01-01</td>\n",
       "      <td>97138.834806</td>\n",
       "    </tr>\n",
       "    <tr>\n",
       "      <th>03257</th>\n",
       "      <td>Leeming</td>\n",
       "      <td>GB</td>\n",
       "      <td>ENG</td>\n",
       "      <td>03257</td>\n",
       "      <td>EGXE</td>\n",
       "      <td>54.3000</td>\n",
       "      <td>-1.5333</td>\n",
       "      <td>40.0</td>\n",
       "      <td>Europe/London</td>\n",
       "      <td>1973-01-01</td>\n",
       "      <td>2023-11-17</td>\n",
       "      <td>1973-01-01</td>\n",
       "      <td>2023-11-10</td>\n",
       "      <td>1971-01-01</td>\n",
       "      <td>2022-01-01</td>\n",
       "      <td>99097.026218</td>\n",
       "    </tr>\n",
       "    <tr>\n",
       "      <th>03354</th>\n",
       "      <td>Nottingham Weather Centre</td>\n",
       "      <td>GB</td>\n",
       "      <td>ENG</td>\n",
       "      <td>03354</td>\n",
       "      <td>&lt;NA&gt;</td>\n",
       "      <td>53.0000</td>\n",
       "      <td>-1.2500</td>\n",
       "      <td>117.0</td>\n",
       "      <td>Europe/London</td>\n",
       "      <td>2018-01-27</td>\n",
       "      <td>2023-11-17</td>\n",
       "      <td>2018-01-28</td>\n",
       "      <td>2022-04-24</td>\n",
       "      <td>2018-01-01</td>\n",
       "      <td>2022-01-01</td>\n",
       "      <td>101944.863037</td>\n",
       "    </tr>\n",
       "  </tbody>\n",
       "</table>\n",
       "</div>"
      ],
      "text/plain": [
       "                              name country region    wmo  icao  latitude  \\\n",
       "id                                                                         \n",
       "03334           Manchester Airport      GB    ENG  03334  EGCC   53.3500   \n",
       "03318            Blackpool Airport      GB    ENG  03318  EGNH   53.7667   \n",
       "03321                     Hawarden      GB    WLS  03321  EGNR   53.1667   \n",
       "EGNM0  Leeds And Bradford / Yeadon      GB    ENG   <NA>  EGNM   53.8667   \n",
       "03214                Walney Island      GB     CU  03214  EGNL   54.1167   \n",
       "03414                     Shawbury      GB    ENG  03414  EGOS   52.8000   \n",
       "03266               Linton-On-Ouse      GB    ENG  03266  EGXU   54.0500   \n",
       "03264           Topcliffe / Dalton      GB    ENG  03264  EGXZ   54.2000   \n",
       "03257                      Leeming      GB    ENG  03257  EGXE   54.3000   \n",
       "03354    Nottingham Weather Centre      GB    ENG  03354  <NA>   53.0000   \n",
       "\n",
       "       longitude  elevation       timezone hourly_start hourly_end  \\\n",
       "id                                                                   \n",
       "03334    -2.2833       69.0  Europe/London   1933-09-30 2023-11-17   \n",
       "03318    -3.0333       10.0  Europe/London   1973-01-01 2023-11-17   \n",
       "03321    -2.9833       10.0  Europe/London   1985-09-04 2023-11-17   \n",
       "EGNM0    -1.6500      208.0  Europe/London   1988-01-05 2023-11-17   \n",
       "03214    -3.2500       15.0  Europe/London   1983-08-04 2023-10-06   \n",
       "03414    -2.6667       76.0  Europe/London   1973-01-01 2023-11-17   \n",
       "03266    -1.2500       16.0  Europe/London   1973-01-01 2022-07-04   \n",
       "03264    -1.3833       28.0  Europe/London   1994-07-20 2023-11-17   \n",
       "03257    -1.5333       40.0  Europe/London   1973-01-01 2023-11-17   \n",
       "03354    -1.2500      117.0  Europe/London   2018-01-27 2023-11-17   \n",
       "\n",
       "      daily_start  daily_end monthly_start monthly_end       distance  \n",
       "id                                                                     \n",
       "03334  1973-01-01 2022-04-25    1957-01-01  2022-01-01   27780.788685  \n",
       "03318  1973-01-02 2022-04-24    1981-01-01  2022-01-01   44468.650060  \n",
       "03321  1985-09-05 2022-04-24    2005-01-01  2022-01-01   58967.443229  \n",
       "EGNM0  1995-05-11 2022-04-27    2006-01-01  2022-01-01   60403.951143  \n",
       "03214  1983-08-11 2022-03-25    2005-01-01  2021-01-01   79917.927119  \n",
       "03414  1973-01-01 2023-11-11    1973-01-01  2022-01-01   88478.882452  \n",
       "03266  1973-01-09 2021-08-31    2000-01-01  2021-01-01   93416.895331  \n",
       "03264  2005-08-24 2022-04-24    2010-01-01  2022-01-01   97138.834806  \n",
       "03257  1973-01-01 2023-11-10    1971-01-01  2022-01-01   99097.026218  \n",
       "03354  2018-01-28 2022-04-24    2018-01-01  2022-01-01  101944.863037  "
      ]
     },
     "execution_count": 36,
     "metadata": {},
     "output_type": "execute_result"
    }
   ],
   "source": [
    "station"
   ]
  },
  {
   "cell_type": "code",
   "execution_count": null,
   "metadata": {},
   "outputs": [],
   "source": []
  },
  {
   "cell_type": "code",
   "execution_count": 37,
   "metadata": {},
   "outputs": [
    {
     "ename": "IndexError",
     "evalue": "index 0 is out of bounds for axis 0 with size 0",
     "output_type": "error",
     "traceback": [
      "\u001b[1;31m---------------------------------------------------------------------------\u001b[0m",
      "\u001b[1;31mIndexError\u001b[0m                                Traceback (most recent call last)",
      "\u001b[1;32mc:\\Users\\Ezzy\\OneDrive - The University of Manchester\\MoonPhys\\mphys-moon\\Code\\weather_code_block.ipynb Cell 21\u001b[0m line \u001b[0;36m2\n\u001b[0;32m      <a href='vscode-notebook-cell:/c%3A/Users/Ezzy/OneDrive%20-%20The%20University%20of%20Manchester/MoonPhys/mphys-moon/Code/weather_code_block.ipynb#X35sZmlsZQ%3D%3D?line=0'>1</a>\u001b[0m \u001b[39m#finds the first agreement of metrostat and weather online to give closest station\u001b[39;00m\n\u001b[1;32m----> <a href='vscode-notebook-cell:/c%3A/Users/Ezzy/OneDrive%20-%20The%20University%20of%20Manchester/MoonPhys/mphys-moon/Code/weather_code_block.ipynb#X35sZmlsZQ%3D%3D?line=1'>2</a>\u001b[0m closest_name \u001b[39m=\u001b[39m station[\u001b[39m'\u001b[39m\u001b[39mname\u001b[39m\u001b[39m'\u001b[39m][np\u001b[39m.\u001b[39mwhere(np\u001b[39m.\u001b[39min1d(station\u001b[39m.\u001b[39mindex, code))[\u001b[39m0\u001b[39m][\u001b[39m0\u001b[39m]]\n\u001b[0;32m      <a href='vscode-notebook-cell:/c%3A/Users/Ezzy/OneDrive%20-%20The%20University%20of%20Manchester/MoonPhys/mphys-moon/Code/weather_code_block.ipynb#X35sZmlsZQ%3D%3D?line=2'>3</a>\u001b[0m \u001b[39mprint\u001b[39m(closest_name)\n\u001b[0;32m      <a href='vscode-notebook-cell:/c%3A/Users/Ezzy/OneDrive%20-%20The%20University%20of%20Manchester/MoonPhys/mphys-moon/Code/weather_code_block.ipynb#X35sZmlsZQ%3D%3D?line=3'>4</a>\u001b[0m cloud_level[np\u001b[39m.\u001b[39mwhere(np\u001b[39m.\u001b[39min1d(names, closest_name))[\u001b[39m0\u001b[39m][\u001b[39m0\u001b[39m]]\n",
      "\u001b[1;31mIndexError\u001b[0m: index 0 is out of bounds for axis 0 with size 0"
     ]
    }
   ],
   "source": [
    "#finds the first agreement of metrostat and weather online to give closest station\n",
    "closest_name = station['name'][np.where(np.in1d(station.index, code))[0][0]]\n",
    "print(closest_name)\n",
    "cloud_level[np.where(np.in1d(names, closest_name))[0][0]]"
   ]
  }
 ],
 "metadata": {
  "kernelspec": {
   "display_name": "Python 3",
   "language": "python",
   "name": "python3"
  },
  "language_info": {
   "codemirror_mode": {
    "name": "ipython",
    "version": 3
   },
   "file_extension": ".py",
   "mimetype": "text/x-python",
   "name": "python",
   "nbconvert_exporter": "python",
   "pygments_lexer": "ipython3",
   "version": "3.11.5"
  }
 },
 "nbformat": 4,
 "nbformat_minor": 2
}
