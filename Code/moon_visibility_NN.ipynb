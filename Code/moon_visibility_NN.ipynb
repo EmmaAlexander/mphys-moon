{
 "cells": [
  {
   "cell_type": "code",
   "execution_count": 18,
   "metadata": {},
   "outputs": [],
   "source": [
    "import pandas as pd\n",
    "import numpy as np\n",
    "from sklearn.model_selection import train_test_split\n",
    "import matplotlib.pyplot as plt"
   ]
  },
  {
   "cell_type": "code",
   "execution_count": 19,
   "metadata": {},
   "outputs": [],
   "source": [
    "import torch\n",
    "\n",
    "import torchvision.transforms as transforms\n",
    "\n",
    "import torch.nn as nn\n",
    "import torch.nn.functional as F\n",
    "import torch.optim as optim\n",
    "from torch.utils.data import TensorDataset"
   ]
  },
  {
   "cell_type": "code",
   "execution_count": 20,
   "metadata": {},
   "outputs": [
    {
     "data": {
      "text/plain": [
       "False"
      ]
     },
     "execution_count": 20,
     "metadata": {},
     "output_type": "execute_result"
    }
   ],
   "source": [
    "torch.cuda.is_available()"
   ]
  },
  {
   "cell_type": "code",
   "execution_count": 21,
   "metadata": {},
   "outputs": [
    {
     "ename": "RuntimeError",
     "evalue": "The NVIDIA driver on your system is too old (found version 11000). Please update your GPU driver by downloading and installing a new version from the URL: http://www.nvidia.com/Download/index.aspx Alternatively, go to: https://pytorch.org to install a PyTorch version that has been compiled with your version of the CUDA driver.",
     "output_type": "error",
     "traceback": [
      "\u001b[0;31m---------------------------------------------------------------------------\u001b[0m",
      "\u001b[0;31mRuntimeError\u001b[0m                              Traceback (most recent call last)",
      "\u001b[1;32m/raid/scratch/npower/mphys2023-24/mphys-moon/Code/moon_visibility_NN.ipynb Cell 4\u001b[0m line \u001b[0;36m2\n\u001b[1;32m      <a href='vscode-notebook-cell://ssh-remote%2Blofar5/raid/scratch/npower/mphys2023-24/mphys-moon/Code/moon_visibility_NN.ipynb#W2sdnNjb2RlLXJlbW90ZQ%3D%3D?line=0'>1</a>\u001b[0m METHOD \u001b[39m=\u001b[39m \u001b[39mFalse\u001b[39;00m\n\u001b[0;32m----> <a href='vscode-notebook-cell://ssh-remote%2Blofar5/raid/scratch/npower/mphys2023-24/mphys-moon/Code/moon_visibility_NN.ipynb#W2sdnNjb2RlLXJlbW90ZQ%3D%3D?line=1'>2</a>\u001b[0m torch\u001b[39m.\u001b[39mzeros(\u001b[39m1\u001b[39m)\u001b[39m.\u001b[39mcuda()\n\u001b[1;32m      <a href='vscode-notebook-cell://ssh-remote%2Blofar5/raid/scratch/npower/mphys2023-24/mphys-moon/Code/moon_visibility_NN.ipynb#W2sdnNjb2RlLXJlbW90ZQ%3D%3D?line=2'>3</a>\u001b[0m LINUX \u001b[39m=\u001b[39m \u001b[39mTrue\u001b[39;00m \u001b[39m#Use linux file paths\u001b[39;00m\n\u001b[1;32m      <a href='vscode-notebook-cell://ssh-remote%2Blofar5/raid/scratch/npower/mphys2023-24/mphys-moon/Code/moon_visibility_NN.ipynb#W2sdnNjb2RlLXJlbW90ZQ%3D%3D?line=4'>5</a>\u001b[0m device \u001b[39m=\u001b[39m torch\u001b[39m.\u001b[39mdevice(\u001b[39m'\u001b[39m\u001b[39mcuda\u001b[39m\u001b[39m'\u001b[39m \u001b[39mif\u001b[39;00m torch\u001b[39m.\u001b[39mcuda\u001b[39m.\u001b[39mis_available() \u001b[39melse\u001b[39;00m \u001b[39m'\u001b[39m\u001b[39mcpu\u001b[39m\u001b[39m'\u001b[39m)\n",
      "File \u001b[0;32m/raid/scratch/npower/miniconda/lib/python3.11/site-packages/torch/cuda/__init__.py:298\u001b[0m, in \u001b[0;36m_lazy_init\u001b[0;34m()\u001b[0m\n\u001b[1;32m    296\u001b[0m \u001b[39mif\u001b[39;00m \u001b[39m\"\u001b[39m\u001b[39mCUDA_MODULE_LOADING\u001b[39m\u001b[39m\"\u001b[39m \u001b[39mnot\u001b[39;00m \u001b[39min\u001b[39;00m os\u001b[39m.\u001b[39menviron:\n\u001b[1;32m    297\u001b[0m     os\u001b[39m.\u001b[39menviron[\u001b[39m\"\u001b[39m\u001b[39mCUDA_MODULE_LOADING\u001b[39m\u001b[39m\"\u001b[39m] \u001b[39m=\u001b[39m \u001b[39m\"\u001b[39m\u001b[39mLAZY\u001b[39m\u001b[39m\"\u001b[39m\n\u001b[0;32m--> 298\u001b[0m torch\u001b[39m.\u001b[39m_C\u001b[39m.\u001b[39m_cuda_init()\n\u001b[1;32m    299\u001b[0m \u001b[39m# Some of the queued calls may reentrantly call _lazy_init();\u001b[39;00m\n\u001b[1;32m    300\u001b[0m \u001b[39m# we need to just return without initializing in that case.\u001b[39;00m\n\u001b[1;32m    301\u001b[0m \u001b[39m# However, we must not let any *other* threads in!\u001b[39;00m\n\u001b[1;32m    302\u001b[0m _tls\u001b[39m.\u001b[39mis_initializing \u001b[39m=\u001b[39m \u001b[39mTrue\u001b[39;00m\n",
      "\u001b[0;31mRuntimeError\u001b[0m: The NVIDIA driver on your system is too old (found version 11000). Please update your GPU driver by downloading and installing a new version from the URL: http://www.nvidia.com/Download/index.aspx Alternatively, go to: https://pytorch.org to install a PyTorch version that has been compiled with your version of the CUDA driver."
     ]
    }
   ],
   "source": [
    "METHOD = False\n",
    "torch.zeros(1).cuda()\n",
    "LINUX = True #Use linux file paths\n",
    "\n",
    "device = torch.device('cuda' if torch.cuda.is_available() else 'cpu')\n",
    "print('Using device:', device)\n",
    "\n",
    "\n",
    "#Additional Info when using cuda\n",
    "if device.type == 'cuda':\n",
    "    print(torch.cuda.get_device_name(0))\n",
    "    print('Memory Usage:')\n",
    "    print('Allocated:', round(torch.cuda.memory_allocated(0)/1024**3,1), 'GB')\n",
    "    print('Cached:   ', round(torch.cuda.memory_reserved(0)/1024**3,1), 'GB')"
   ]
  },
  {
   "cell_type": "code",
   "execution_count": null,
   "metadata": {},
   "outputs": [],
   "source": [
    "\n",
    "\n",
    "icouk_data_file = '..\\\\Data\\\\icouk_sighting_data_with_params.csv'\n",
    "icop_data_file = '..\\\\Data\\\\icop_ahmed_2020_sighting_data_with_params.csv'\n",
    "alrefay_data_file = '..\\\\Data\\\\alrefay_2018_sighting_data_with_params.csv'\n",
    "allawi_data_file = '..\\\\Data\\\\schaefer_odeh_allawi_2022_sighting_data_with_params.csv'\n",
    "\n",
    "if LINUX:\n",
    "    icouk_data_file = '../Data/icouk_sighting_data_with_params.csv'\n",
    "    icop_data_file = '../Data/icop_ahmed_2020_sighting_data_with_params.csv'\n",
    "    alrefay_data_file = '../Data/alrefay_2018_sighting_data_with_params.csv'\n",
    "    allawi_data_file = '../Data/schaefer_odeh_allawi_2022_sighting_data_with_params.csv'\n",
    "\n",
    "icouk_data = pd.read_csv(icouk_data_file)\n",
    "icop_data = pd.read_csv(icop_data_file)\n",
    "alrefay_data = pd.read_csv(alrefay_data_file)\n",
    "allawi_data = pd.read_csv(allawi_data_file)\n",
    "\n",
    "data = pd.concat([icouk_data,icop_data,alrefay_data,allawi_data])\n",
    "\n",
    "print(f\"Loaded {data.shape[0]} rows\")\n",
    "\n",
    "data = data.drop([\"Index\",\"q\",\"W\",\"q'\",\"W'\",'Visibility'], axis = 1)\n",
    "\n",
    "if METHOD: # method and methods columns, will be changed\n",
    "    data = data.drop('Seen', axis = 1) # replaced by method column\n",
    "    ptype = [r\"Not_seen\", r\"Seen_eye\", r\"Seen_binoculars\", r\"Seen_telescope\", r\"Seen_ccd\"] # CHANGE THIS\n",
    "else:\n",
    "    data = data[data[\"Method\"] !=\"Seen_binoculars\"] #DROP BINOCULARS\n",
    "    data = data[data[\"Method\"] !=\"Seen_ccd\"] #DROP CCD\n",
    "    data = data[data[\"Method\"] !=\"Seen_telescope\"] #DROP TELESCOPE\n",
    "    \n",
    "    data=data.drop(['Method','Methods'], axis = 1)\n",
    "    # List of label options\n",
    "    ptype = [r\"Seen\", r\"Not_seen\"]\n",
    "\n",
    "print(f\"Selected {data.shape[0]} rows\")\n",
    "\n",
    "variable_list =  data.columns.tolist()\n",
    "variable_list.remove('Seen')\n",
    "\n",
    "data['Sunset'] -= data['Date'] # reducing magnitude of date datapoints\n",
    "data['Moonset'] -= data['Date']\n",
    "data['Date'] -= 2400000\n",
    "data['Date'] *= 1/10000"
   ]
  },
  {
   "cell_type": "code",
   "execution_count": null,
   "metadata": {},
   "outputs": [],
   "source": [
    "data.head(10)"
   ]
  },
  {
   "cell_type": "code",
   "execution_count": null,
   "metadata": {},
   "outputs": [],
   "source": [
    "y = np.array(data['Seen'])\n",
    "X = np.array(data[variable_list])\n",
    "\n",
    "y[y == 'Seen'] = int(1)\n",
    "y[y == 'Not_seen'] = int(0)\n",
    "\n",
    "X_train, X_val_and_test, Y_train, Y_val_and_test = train_test_split(X, y, test_size=0.3)\n",
    "X_val, X_test, Y_val, Y_test = train_test_split(X_val_and_test, Y_val_and_test, test_size=0.5)"
   ]
  },
  {
   "cell_type": "code",
   "execution_count": null,
   "metadata": {},
   "outputs": [],
   "source": [
    "# Define the neural network model\n",
    "class CustomNN(nn.Module):\n",
    "    def __init__(self, input_size, hidden_size, output_size):\n",
    "        super(CustomNN, self).__init__()\n",
    "        self.fc1 = nn.Linear(input_size, hidden_size)\n",
    "        self.fc2 = nn.Linear(hidden_size, hidden_size)\n",
    "        self.fc3 = nn.Linear(hidden_size, output_size)  # Output layer with 1 neuron for binary classification\n",
    "    \n",
    "    def forward(self, x):\n",
    "        x = torch.relu(self.fc1(x))\n",
    "        x = torch.relu(self.fc2(x))\n",
    "        x = self.fc3(x)  # Sigmoid activation for binary classification, now softmax\n",
    "        return x\n",
    "    \n",
    "input_size = len(variable_list)  # Number of input variables\n",
    "hidden_size = 32  # Number of neurons in the hidden layers #32\n",
    "output_size = 2 # for binary output\n",
    "model = CustomNN(input_size, hidden_size, output_size)\n",
    "\n",
    "num_epochs = 300\n",
    "batch_size = 32\n",
    "\n",
    "# Define binary cross-entropy loss and Adam optimizer\n",
    "criterion = nn.CrossEntropyLoss() #nn.CrossEntropyLoss()\n",
    "optimizer = optim.Adam(model.parameters(), lr=0.001, weight_decay = 0.0001) #0.001\n",
    "scheduler = torch.optim.lr_scheduler.ReduceLROnPlateau(optimizer=optimizer, patience=2, factor=0.9) # i dont know what this is"
   ]
  },
  {
   "cell_type": "markdown",
   "metadata": {},
   "source": [
    "MY METHOD"
   ]
  },
  {
   "cell_type": "code",
   "execution_count": null,
   "metadata": {},
   "outputs": [],
   "source": [
    "X_train_tensor = torch.from_numpy(X_train).float()\n",
    "Y_train_tensor = torch.from_numpy(Y_train.astype(\"float64\")).float()\n",
    "\n",
    "X_test_tensor = torch.from_numpy(X_test).float()\n",
    "Y_test_tensor = torch.from_numpy(Y_test.astype(\"float64\")).float()"
   ]
  },
  {
   "cell_type": "code",
   "execution_count": null,
   "metadata": {},
   "outputs": [],
   "source": [
    "# # Paramaters for a loop\n",
    "\n",
    "\n",
    "# for epoch in range(num_epochs):\n",
    "#     correct = 0\n",
    "#     for i in range(0, len(X_train), batch_size):\n",
    "#         inputs = X_train_tensor[i:i+batch_size]\n",
    "#         targets = Y_train_tensor[i:i+batch_size]\n",
    "\n",
    "#         targets = targets.type(torch.LongTensor)  \n",
    "        \n",
    "#         # Forward pass\n",
    "#         outputs = model(inputs)\n",
    "#         loss = criterion(outputs, targets)\n",
    "        \n",
    "        \n",
    "#         # Backward pass and optimization\n",
    "#         optimizer.zero_grad()\n",
    "#         loss.backward()\n",
    "#         optimizer.step()\n",
    "        \n",
    "#     # Print training loss after each epoch\n",
    "#     print(f'Epoch [{epoch+1}/{num_epochs}], Loss: {loss.item():.4f}')"
   ]
  },
  {
   "cell_type": "markdown",
   "metadata": {},
   "source": [
    "ANNA METHOD"
   ]
  },
  {
   "cell_type": "code",
   "execution_count": null,
   "metadata": {},
   "outputs": [],
   "source": [
    "#data prep for anna code\n",
    "trainset = TensorDataset(X_train_tensor, Y_train_tensor)\n",
    "testset = TensorDataset(X_test_tensor, Y_test_tensor)\n",
    "\n",
    "train_loader = torch.utils.data.DataLoader(trainset, batch_size=batch_size, shuffle=True)\n",
    "test_loader = torch.utils.data.DataLoader(testset, batch_size=batch_size, shuffle=True)"
   ]
  },
  {
   "cell_type": "code",
   "execution_count": null,
   "metadata": {},
   "outputs": [],
   "source": [
    "def train(model, trainloader, optimiser, device):\n",
    "\n",
    "    train_loss = 0.0\n",
    "\n",
    "    model.train()\n",
    "    for batch_idx, (data, labels) in enumerate(trainloader):\n",
    "        data, labels = data.to(device), labels.to(device)\n",
    "\n",
    "        optimiser.zero_grad()\n",
    "\n",
    "        #p_y = F.softmax(model(data), dim=1)\n",
    "        #loss = model.loss(p_y, labels)\n",
    "        p_y = model(data)\n",
    "        loss_criterion = nn.CrossEntropyLoss()\n",
    "        labels = labels.type(torch.LongTensor)  \n",
    "        loss = loss_criterion(p_y, labels)\n",
    "            \n",
    "        train_loss += loss.item() * data.size(0)\n",
    "\n",
    "        loss.backward()\n",
    "        optimiser.step()\n",
    "\n",
    "    train_loss /= len(trainloader.dataset)\n",
    "    return train_loss\n",
    "\n",
    "def test(model, testloader, device):\n",
    "\n",
    "    correct = 0\n",
    "    #total = 0\n",
    "    test_loss = 0.0\n",
    "\n",
    "    model.eval()\n",
    "    with torch.no_grad():\n",
    "        for batch_idx, (data, labels) in enumerate(testloader):\n",
    "            data, labels = data.to(device), labels.to(device)\n",
    "\n",
    "            #p_y = F.softmax(model(data), dim=1)\n",
    "            #loss = model.loss(p_y, labels)\n",
    "            p_y = model(data)\n",
    "            loss_criterion = nn.CrossEntropyLoss()\n",
    "            labels = labels.type(torch.LongTensor)  \n",
    "            loss = loss_criterion(p_y, labels)\n",
    "                \n",
    "            test_loss += loss.item() * data.size(0)\n",
    "\n",
    "            preds = p_y.argmax(dim=1, keepdim=True)\n",
    "            correct += preds.eq(labels.view_as(preds)).sum().item()\n",
    "\n",
    "        test_loss /= len(testloader.dataset)\n",
    "        accuracy = correct / len(testloader.dataset)\n",
    "\n",
    "    return test_loss, accuracy"
   ]
  },
  {
   "cell_type": "code",
   "execution_count": null,
   "metadata": {},
   "outputs": [],
   "source": [
    "# #anna method\n",
    "result_arr=[]\n",
    "_bestacc = 0.\n",
    "quiet = True\n",
    "result_arr = np.zeros((num_epochs,4))\n",
    "\n",
    "for epoch in range(num_epochs):  # loop over the dataset multiple times\n",
    "    \n",
    "    train_loss = train(model, train_loader, optimizer, device)\n",
    "    test_loss, accuracy = test(model, test_loader, device)\n",
    "        \n",
    "    scheduler.step(test_loss)\n",
    "\n",
    "    # check early stopping criteria:\n",
    "    #if early_stopping and accuracy>_bestacc:\n",
    "    #    _bestacc = accuracy\n",
    "    #    torch.save(model.state_dict(), modfile)\n",
    "    #    best_acc = accuracy\n",
    "    #    best_epoch = epoch\n",
    "        \n",
    "    # create output row:\n",
    "    results = [epoch, train_loss, test_loss, accuracy]\n",
    "    \n",
    "    result_arr[epoch] = results\n",
    "    if not quiet:\n",
    "        print('Epoch: {}, Validation Loss: {:4f}, Validation Accuracy: {:4f}'.format(epoch, test_loss, accuracy))\n",
    "        print('Current learning rate is: {}'.format(optimizer.param_groups[0]['lr']))\n",
    "        \n",
    "print(\"Final validation error: \",100.*(1 - accuracy))\n",
    "#if early_stopping:\n",
    "#    print(\"Best validation error: \",100.*(1 - best_acc),\" @ epoch: \"+str(best_epoch))r    result_arr"
   ]
  },
  {
   "cell_type": "code",
   "execution_count": null,
   "metadata": {},
   "outputs": [],
   "source": [
    "#print(result_arr)\n",
    "#plt.fig()\n",
    "plt.plot(result_arr[:,0],result_arr[:,3],linestyle='-', label='Accuracy')\n",
    "plt.plot(result_arr[:,0],result_arr[:,2],linestyle='-', c='orange',label='Test loss')\n",
    "plt.plot(result_arr[:,0],result_arr[:,1],linestyle='-', c='violet',label='Train loss')\n",
    "plt.ylim(0,1)\n",
    "plt.xlim(0,num_epochs-1)\n",
    "plt.title('NN training cycle')\n",
    "plt.xlabel('Epochs')\n",
    "plt.grid()\n",
    "plt.legend()\n",
    "plt.show()"
   ]
  },
  {
   "cell_type": "code",
   "execution_count": null,
   "metadata": {},
   "outputs": [],
   "source": [
    "print(r'Final accuracy is {}'.format(result_arr[3,-1]))"
   ]
  },
  {
   "cell_type": "code",
   "execution_count": null,
   "metadata": {},
   "outputs": [],
   "source": [
    "X_test_tensor = torch.Tensor(X_test)\n",
    "predictions = model(X_test_tensor)"
   ]
  },
  {
   "cell_type": "code",
   "execution_count": null,
   "metadata": {},
   "outputs": [],
   "source": [
    "#model = Sequential([\n",
    "#    Dense(32, activation='softmax', input_shape=(18,)),\n",
    "#    Dense(32, activation='softmax'),\n",
    "#    Dense(1, activation='sigmoid'), # refelects catagory\n",
    "#])\n",
    "\n",
    "#model.compile(optimizer='adam',\n",
    "#              loss='binary_crossentropy',\n",
    "#              metrics=['accuracy'])\n",
    "#\n",
    "#hist = model.fit(X_train, Y_train,\n",
    "#          batch_size=32, epochs=100,\n",
    "#          validation_data=(X_val, Y_val))"
   ]
  },
  {
   "cell_type": "code",
   "execution_count": null,
   "metadata": {},
   "outputs": [],
   "source": [
    "#model.evaluate(X_test, Y_test)[1]"
   ]
  }
 ],
 "metadata": {
  "kernelspec": {
   "display_name": "base",
   "language": "python",
   "name": "python3"
  },
  "language_info": {
   "codemirror_mode": {
    "name": "ipython",
    "version": 3
   },
   "file_extension": ".py",
   "mimetype": "text/x-python",
   "name": "python",
   "nbconvert_exporter": "python",
   "pygments_lexer": "ipython3",
   "version": "3.11.5"
  }
 },
 "nbformat": 4,
 "nbformat_minor": 2
}
