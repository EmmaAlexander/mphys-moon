{
 "cells": [
  {
   "cell_type": "markdown",
   "metadata": {},
   "source": [
    "# Machine learning to predict new crescent moon visibility"
   ]
  },
  {
   "cell_type": "markdown",
   "metadata": {},
   "source": [
    "## Imports"
   ]
  },
  {
   "cell_type": "code",
   "execution_count": 230,
   "metadata": {},
   "outputs": [],
   "source": [
    "import warnings\n",
    "warnings.simplefilter(action='ignore', category=FutureWarning) #Issue with xgboost & new pandas version\n",
    "import pandas as pd\n",
    "import numpy as np\n",
    "import seaborn as sns\n",
    "import matplotlib.pyplot as plt\n",
    "from  matplotlib.colors import LinearSegmentedColormap\n",
    "from astropy.time import Time\n",
    "from enum import Enum\n",
    "import shap\n",
    "import cartopy.crs as ccrs\n",
    "\n",
    "# MACHINE LEARNING IMPORTS\n",
    "from xgboost import XGBClassifier\n",
    "from sklearn.model_selection import train_test_split, GridSearchCV\n",
    "from sklearn.ensemble import RandomForestClassifier,AdaBoostClassifier,ExtraTreesClassifier\n",
    "from sklearn.tree import DecisionTreeClassifier\n",
    "from sklearn.neighbors import KNeighborsClassifier\n",
    "from sklearn.multioutput import MultiOutputClassifier\n",
    "from sklearn.naive_bayes import GaussianNB\n",
    "from sklearn.svm import SVC\n",
    "from sklearn.metrics import confusion_matrix, ConfusionMatrixDisplay, roc_curve, roc_auc_score, accuracy_score,precision_score,recall_score,f1_score\n",
    "from sklearn.preprocessing import MultiLabelBinarizer\n",
    "from sklearn.gaussian_process import GaussianProcessClassifier\n",
    "from sklearn.linear_model import LogisticRegression, SGDClassifier\n",
    "from sklearn.neural_network import MLPClassifier"
   ]
  },
  {
   "cell_type": "code",
   "execution_count": 231,
   "metadata": {},
   "outputs": [],
   "source": [
    "class methods(Enum):\n",
    "    XGBoost = 0\n",
    "    RandomForest = 1\n",
    "    DecisionTree = 2\n",
    "    NearestNeighbours = 3\n",
    "    NaiveBayes = 4\n",
    "    AdaBoost = 5\n",
    "    GaussianProcess = 6\n",
    "    ExtraTrees = 7\n",
    "    SupportVector = 8\n",
    "    Logistic = 9\n",
    "    NeuralNet = 10\n",
    "\n",
    "class outputs(Enum):\n",
    "    Binary = 0 #Naked eye seen or not seen\n",
    "    MultiLabel = 1 #Replace naked eye seen column with either seen, visual aid or not seen\n",
    "    MultiOutput = 2 #Replace naked eye seen column with array of methods"
   ]
  },
  {
   "cell_type": "markdown",
   "metadata": {},
   "source": [
    "## Options and setup"
   ]
  },
  {
   "cell_type": "code",
   "execution_count": 232,
   "metadata": {},
   "outputs": [],
   "source": [
    "CLOUDCUT = False # Only use clear data points\n",
    "GRID_SEARCH = False # gridsearch for best hyperparameters\n",
    "REPEAT_ACCURACY = True #Run 20 times and calculate average accuracy\n",
    "USE_GPU = False #Use a GPU if available\n",
    "SHAP_ANALYSIS = False #Run shap analysis of data\n",
    "PREDICT_VISIBILITY = False #Predict visibility based on file with generated parameters\n",
    "COMPARE_METHODS = False #Calculate accuracy for all available methods\n",
    "WEATHER_DATA = False\n",
    "DATA_FILE = '../Data/moon_sighting_data.csv' #File containing data\n",
    "\n",
    "\n",
    "METHOD = methods.XGBoost #Select ML model to use\n",
    "OUTPUT = outputs.MultiOutput #Select output - binary eye visibility, seen/aid/not seen, or specific methods\n",
    "\n",
    "#Drop index, dependent parameters (q value etc) and visibility scale. q' value is excluded automatically\n",
    "#VARS_TO_DROP = [\"Index\",\"q\",\"W\",\"Source\",\"Date\"]\n",
    "VARS_TO_DROP = [\"Index\",\"q\",\"W\",\"Source\",\"Date\",\"Sunset\",\"Moonset\"]\n",
    "#VARS_TO_DROP = [\"Index\",\"q\",\"W\",\"Source\",\"Date\", \"Longitude\",\"Latitude\"]\n",
    "#VARS_TO_DROP = [\"Index\",\"q\",\"W\",\"Source\",\"Date\", \"Longitude\",\"Latitude\",\"Sunset\",\"Moonset\"]\n",
    "#VARS_TO_DROP = [\"Index\",\"q\",\"W\",\"Source\",\"Date\", \"Longitude\",\"Latitude\",\"Sunset\",\"Moonset\",\"Sun Alt\", \"Sun Az\", \"Moon Alt\", \"Moon Az\"]\n",
    "#VARS_TO_DROP = [\"Index\",\"q\",\"W\",\"Source\",\"Date\", \"Longitude\",\"Latitude\",\"Sunset\",\"Moonset\",\"ARCV\", \"DAZ\"]\n",
    "\n",
    "if WEATHER_DATA:\n",
    "    DATA_FILE = '../Data/cloud_data_distance_cut.csv'\n",
    "    VARS_TO_DROP = [\"Index\",\"q\",\"W\",\"Distance\", \"Cloud Level\",\"Source\",\"Visibility\"]\n",
    "\n",
    "TITLE = f\"{METHOD.name} {OUTPUT.name} visibility\""
   ]
  },
  {
   "cell_type": "markdown",
   "metadata": {},
   "source": [
    "## Hyperparameters"
   ]
  },
  {
   "cell_type": "code",
   "execution_count": 233,
   "metadata": {},
   "outputs": [],
   "source": [
    "def set_params():\n",
    "    if METHOD == methods.XGBoost:\n",
    "        if OUTPUT == outputs.MultiOutput:\n",
    "            params = {'learning_rate': 0.1733, 'max_depth': 6, 'n_estimators': 50}\n",
    "        elif OUTPUT == outputs.MultiLabel:\n",
    "            params = {'learning_rate': 0.4183, 'max_depth': 2, 'n_estimators': 100}\n",
    "        elif OUTPUT == outputs.Binary:\n",
    "            params = {'learning_rate': 0.55, 'max_depth': 3, 'n_estimators': 110}\n",
    "            #params = {'learning_rate': 1, 'max_depth': 10, 'n_estimators': 300}\n",
    "            \n",
    "    elif METHOD == methods.RandomForest: #Random forest\n",
    "        if OUTPUT == outputs.MultiOutput:\n",
    "            params = {}\n",
    "        elif OUTPUT == outputs.MultiLabel:\n",
    "            params = {'max_depth': 10, 'max_features': 'log2', 'n_estimators': 50}\n",
    "        elif OUTPUT == outputs.Binary:\n",
    "            params = params = {'max_depth': 12, 'n_estimators': 150}\n",
    "    else:\n",
    "        params = {}\n",
    "    #params = {}\n",
    "    return params"
   ]
  },
  {
   "cell_type": "markdown",
   "metadata": {},
   "source": [
    "## Reading in data"
   ]
  },
  {
   "cell_type": "code",
   "execution_count": 234,
   "metadata": {},
   "outputs": [
    {
     "name": "stdout",
     "output_type": "stream",
     "text": [
      "Loaded 5302 rows\n",
      "Using 5302 rows\n"
     ]
    }
   ],
   "source": [
    "data = pd.read_csv(DATA_FILE)\n",
    "\n",
    "print(f\"Loaded {data.shape[0]} rows\")\n",
    "\n",
    "if OUTPUT == outputs.MultiOutput:\n",
    "    data = data.drop([\"Seen\", \"Method\"], axis = 1) # replaced by methods column\n",
    "\n",
    "    ptype = [\"Seen_eye\", \"Seen_binoculars\", \"Seen_telescope\", \"Seen_ccd\",\"Not_seen\"]\n",
    "\n",
    "elif OUTPUT == outputs.MultiLabel:\n",
    "    data = data.drop([\"Seen\", \"Methods\"], axis = 1) # replaced by method column\n",
    "    data[\"Method\"] = data[\"Method\"].replace(\"Seen_binoculars\", \"Seen_with_aid\")\n",
    "    data[\"Method\"] = data[\"Method\"].replace(\"Seen_telescope\", \"Seen_with_aid\")\n",
    "    data[\"Method\"] = data[\"Method\"].replace(\"Seen_ccd\", \"Seen_with_aid\")\n",
    "\n",
    "    ptype = [\"Seen_eye\", \"Seen_with_aid\", \"Not_seen\"]\n",
    "\n",
    "\n",
    "elif OUTPUT == outputs.Binary:\n",
    "    data = data[data[\"Method\"] !=\"Seen_binoculars\"] #DROP BINOCULARS\n",
    "    data = data[data[\"Method\"] !=\"Seen_ccd\"] #DROP CCD\n",
    "    data = data[data[\"Method\"] !=\"Seen_telescope\"] #DROP TELESCOPE\n",
    "    \n",
    "    data=data.drop(['Method','Methods'], axis = 1) #Only use seen\n",
    "\n",
    "    ptype = [\"Seen\", \"Not_seen\"]\n",
    "\n",
    "\n",
    "if CLOUDCUT:\n",
    "    #data = data[data[\"Cloud Level\"] <= 0.5]\n",
    "    data = data[data[\"Cloud Level\"] == 0]\n",
    "\n",
    "#Drop index, dependent parameters (q value etc) and visibility scale\n",
    "data = data.drop(VARS_TO_DROP+[\"q'\"], axis = 1)\n",
    "\n",
    "if PREDICT_VISIBILITY:\n",
    "    data = data.drop(\"Cloud Level\", axis = 1) #Remove cloud level for future predictions\n",
    "\n",
    "print(f\"Using {data.shape[0]} rows\")\n",
    "#data.head(5)"
   ]
  },
  {
   "cell_type": "markdown",
   "metadata": {},
   "source": [
    "## Visualising variables"
   ]
  },
  {
   "cell_type": "code",
   "execution_count": 235,
   "metadata": {},
   "outputs": [
    {
     "name": "stdout",
     "output_type": "stream",
     "text": [
      "['Latitude', 'Longitude', 'Moon Age', 'Lag', 'Moon Alt', 'Moon Az', 'Sun Alt', 'Sun Az', 'Moon-Earth Dist', 'Sun-Moon Dist', 'ARCL', 'ARCV', 'DAZ', 'Illumination', 'Parallax', \"W'\", 'Cloud Level', 'Method']\n"
     ]
    }
   ],
   "source": [
    "# Visualising a couple of variables.\n",
    "variable_list =  data.columns.tolist()\n",
    "print(variable_list)\n",
    "\n",
    "# Plot data\n",
    "showpairplot = False\n",
    "if showpairplot == True:\n",
    "   fig = sns.pairplot(data[variable_list], hue = 'Seen', palette = 'bright')\n",
    "\n",
    "   # Change location of legend\n",
    "   fig._legend.set_bbox_to_anchor((1.05, 0.5))\n",
    "\n",
    "   # Add legend\n",
    "   for t, l in zip(fig._legend.texts, ptype):\n",
    "      t.set_text(str(t.get_text()) + \" - \" + str(l))\n",
    "\n",
    "   plt.show()"
   ]
  },
  {
   "cell_type": "markdown",
   "metadata": {},
   "source": [
    "## Selecting a ML model"
   ]
  },
  {
   "cell_type": "code",
   "execution_count": 236,
   "metadata": {},
   "outputs": [],
   "source": [
    "def select_model():\n",
    "    if METHOD == methods.XGBoost:\n",
    "        if OUTPUT == outputs.MultiOutput:\n",
    "            if USE_GPU:\n",
    "                method = \"gpu_hist\"\n",
    "            else:\n",
    "                method = \"hist\"\n",
    "            model = XGBClassifier(tree_method=method, n_jobs=-1)\n",
    "        else:\n",
    "            model = XGBClassifier(n_jobs=-1)\n",
    "\n",
    "    elif METHOD == methods.RandomForest:\n",
    "        if OUTPUT == outputs.MultiOutput:\n",
    "            model = MultiOutputClassifier(RandomForestClassifier(n_jobs=-1))\n",
    "        else:\n",
    "            model = RandomForestClassifier(n_jobs=-1)\n",
    "\n",
    "    elif METHOD == methods.DecisionTree:\n",
    "        if OUTPUT == outputs.MultiOutput:\n",
    "            model = MultiOutputClassifier(DecisionTreeClassifier())\n",
    "        else:\n",
    "            model = DecisionTreeClassifier()\n",
    "\n",
    "    elif METHOD == methods.NearestNeighbours:\n",
    "        if OUTPUT == outputs.MultiOutput:\n",
    "            model = MultiOutputClassifier(KNeighborsClassifier())\n",
    "        else:\n",
    "            model = KNeighborsClassifier()\n",
    "\n",
    "    elif METHOD == methods.NaiveBayes:\n",
    "        if OUTPUT == outputs.MultiOutput:\n",
    "            model = MultiOutputClassifier(GaussianNB())\n",
    "        else:\n",
    "            model = GaussianNB()\n",
    "\n",
    "    elif METHOD == methods.SupportVector:\n",
    "        if OUTPUT == outputs.MultiOutput:\n",
    "            model = MultiOutputClassifier(SGDClassifier())\n",
    "        else:\n",
    "            model = SGDClassifier()\n",
    "\n",
    "    elif METHOD == methods.AdaBoost:\n",
    "        if OUTPUT == outputs.MultiOutput:\n",
    "            model = MultiOutputClassifier(AdaBoostClassifier())\n",
    "        else:\n",
    "            model = AdaBoostClassifier()\n",
    "    elif METHOD == methods.GaussianProcess:\n",
    "        if OUTPUT == outputs.MultiOutput:\n",
    "            model = MultiOutputClassifier(GaussianProcessClassifier())\n",
    "        else:\n",
    "            model = GaussianProcessClassifier()\n",
    "    elif METHOD == methods.Logistic:\n",
    "        if OUTPUT == outputs.MultiOutput:\n",
    "            model = MultiOutputClassifier(LogisticRegression())\n",
    "        else:\n",
    "            model = LogisticRegression()\n",
    "    elif METHOD == methods.NeuralNet:\n",
    "        if OUTPUT == outputs.MultiOutput:\n",
    "            model = MultiOutputClassifier(MLPClassifier())\n",
    "        else:\n",
    "            model = MLPClassifier()\n",
    "    elif METHOD == methods.ExtraTrees:\n",
    "        if OUTPUT == outputs.MultiOutput:\n",
    "            model = MultiOutputClassifier(ExtraTreesClassifier())\n",
    "        else:\n",
    "            model = ExtraTreesClassifier()\n",
    "        \n",
    "    model = model.set_params(**set_params())\n",
    "    return model"
   ]
  },
  {
   "cell_type": "markdown",
   "metadata": {},
   "source": [
    "## ML Training"
   ]
  },
  {
   "cell_type": "code",
   "execution_count": 237,
   "metadata": {},
   "outputs": [
    {
     "data": {
      "text/html": [
       "<style>#sk-container-id-9 {color: black;}#sk-container-id-9 pre{padding: 0;}#sk-container-id-9 div.sk-toggleable {background-color: white;}#sk-container-id-9 label.sk-toggleable__label {cursor: pointer;display: block;width: 100%;margin-bottom: 0;padding: 0.3em;box-sizing: border-box;text-align: center;}#sk-container-id-9 label.sk-toggleable__label-arrow:before {content: \"▸\";float: left;margin-right: 0.25em;color: #696969;}#sk-container-id-9 label.sk-toggleable__label-arrow:hover:before {color: black;}#sk-container-id-9 div.sk-estimator:hover label.sk-toggleable__label-arrow:before {color: black;}#sk-container-id-9 div.sk-toggleable__content {max-height: 0;max-width: 0;overflow: hidden;text-align: left;background-color: #f0f8ff;}#sk-container-id-9 div.sk-toggleable__content pre {margin: 0.2em;color: black;border-radius: 0.25em;background-color: #f0f8ff;}#sk-container-id-9 input.sk-toggleable__control:checked~div.sk-toggleable__content {max-height: 200px;max-width: 100%;overflow: auto;}#sk-container-id-9 input.sk-toggleable__control:checked~label.sk-toggleable__label-arrow:before {content: \"▾\";}#sk-container-id-9 div.sk-estimator input.sk-toggleable__control:checked~label.sk-toggleable__label {background-color: #d4ebff;}#sk-container-id-9 div.sk-label input.sk-toggleable__control:checked~label.sk-toggleable__label {background-color: #d4ebff;}#sk-container-id-9 input.sk-hidden--visually {border: 0;clip: rect(1px 1px 1px 1px);clip: rect(1px, 1px, 1px, 1px);height: 1px;margin: -1px;overflow: hidden;padding: 0;position: absolute;width: 1px;}#sk-container-id-9 div.sk-estimator {font-family: monospace;background-color: #f0f8ff;border: 1px dotted black;border-radius: 0.25em;box-sizing: border-box;margin-bottom: 0.5em;}#sk-container-id-9 div.sk-estimator:hover {background-color: #d4ebff;}#sk-container-id-9 div.sk-parallel-item::after {content: \"\";width: 100%;border-bottom: 1px solid gray;flex-grow: 1;}#sk-container-id-9 div.sk-label:hover label.sk-toggleable__label {background-color: #d4ebff;}#sk-container-id-9 div.sk-serial::before {content: \"\";position: absolute;border-left: 1px solid gray;box-sizing: border-box;top: 0;bottom: 0;left: 50%;z-index: 0;}#sk-container-id-9 div.sk-serial {display: flex;flex-direction: column;align-items: center;background-color: white;padding-right: 0.2em;padding-left: 0.2em;position: relative;}#sk-container-id-9 div.sk-item {position: relative;z-index: 1;}#sk-container-id-9 div.sk-parallel {display: flex;align-items: stretch;justify-content: center;background-color: white;position: relative;}#sk-container-id-9 div.sk-item::before, #sk-container-id-9 div.sk-parallel-item::before {content: \"\";position: absolute;border-left: 1px solid gray;box-sizing: border-box;top: 0;bottom: 0;left: 50%;z-index: -1;}#sk-container-id-9 div.sk-parallel-item {display: flex;flex-direction: column;z-index: 1;position: relative;background-color: white;}#sk-container-id-9 div.sk-parallel-item:first-child::after {align-self: flex-end;width: 50%;}#sk-container-id-9 div.sk-parallel-item:last-child::after {align-self: flex-start;width: 50%;}#sk-container-id-9 div.sk-parallel-item:only-child::after {width: 0;}#sk-container-id-9 div.sk-dashed-wrapped {border: 1px dashed gray;margin: 0 0.4em 0.5em 0.4em;box-sizing: border-box;padding-bottom: 0.4em;background-color: white;}#sk-container-id-9 div.sk-label label {font-family: monospace;font-weight: bold;display: inline-block;line-height: 1.2em;}#sk-container-id-9 div.sk-label-container {text-align: center;}#sk-container-id-9 div.sk-container {/* jupyter's `normalize.less` sets `[hidden] { display: none; }` but bootstrap.min.css set `[hidden] { display: none !important; }` so we also need the `!important` here to be able to override the default hidden behavior on the sphinx rendered scikit-learn.org. See: https://github.com/scikit-learn/scikit-learn/issues/21755 */display: inline-block !important;position: relative;}#sk-container-id-9 div.sk-text-repr-fallback {display: none;}</style><div id=\"sk-container-id-9\" class=\"sk-top-container\"><div class=\"sk-text-repr-fallback\"><pre>XGBClassifier(base_score=None, booster=None, callbacks=None,\n",
       "              colsample_bylevel=None, colsample_bynode=None,\n",
       "              colsample_bytree=None, early_stopping_rounds=None,\n",
       "              enable_categorical=False, eval_metric=None, feature_types=None,\n",
       "              gamma=None, gpu_id=None, grow_policy=None, importance_type=None,\n",
       "              interaction_constraints=None, learning_rate=0.4183, max_bin=None,\n",
       "              max_cat_threshold=None, max_cat_to_onehot=None,\n",
       "              max_delta_step=None, max_depth=2, max_leaves=None,\n",
       "              min_child_weight=None, missing=nan, monotone_constraints=None,\n",
       "              n_estimators=100, n_jobs=-1, num_parallel_tree=None,\n",
       "              objective=&#x27;multi:softprob&#x27;, predictor=None, ...)</pre><b>In a Jupyter environment, please rerun this cell to show the HTML representation or trust the notebook. <br />On GitHub, the HTML representation is unable to render, please try loading this page with nbviewer.org.</b></div><div class=\"sk-container\" hidden><div class=\"sk-item\"><div class=\"sk-estimator sk-toggleable\"><input class=\"sk-toggleable__control sk-hidden--visually\" id=\"sk-estimator-id-9\" type=\"checkbox\" checked><label for=\"sk-estimator-id-9\" class=\"sk-toggleable__label sk-toggleable__label-arrow\">XGBClassifier</label><div class=\"sk-toggleable__content\"><pre>XGBClassifier(base_score=None, booster=None, callbacks=None,\n",
       "              colsample_bylevel=None, colsample_bynode=None,\n",
       "              colsample_bytree=None, early_stopping_rounds=None,\n",
       "              enable_categorical=False, eval_metric=None, feature_types=None,\n",
       "              gamma=None, gpu_id=None, grow_policy=None, importance_type=None,\n",
       "              interaction_constraints=None, learning_rate=0.4183, max_bin=None,\n",
       "              max_cat_threshold=None, max_cat_to_onehot=None,\n",
       "              max_delta_step=None, max_depth=2, max_leaves=None,\n",
       "              min_child_weight=None, missing=nan, monotone_constraints=None,\n",
       "              n_estimators=100, n_jobs=-1, num_parallel_tree=None,\n",
       "              objective=&#x27;multi:softprob&#x27;, predictor=None, ...)</pre></div></div></div></div></div>"
      ],
      "text/plain": [
       "XGBClassifier(base_score=None, booster=None, callbacks=None,\n",
       "              colsample_bylevel=None, colsample_bynode=None,\n",
       "              colsample_bytree=None, early_stopping_rounds=None,\n",
       "              enable_categorical=False, eval_metric=None, feature_types=None,\n",
       "              gamma=None, gpu_id=None, grow_policy=None, importance_type=None,\n",
       "              interaction_constraints=None, learning_rate=0.4183, max_bin=None,\n",
       "              max_cat_threshold=None, max_cat_to_onehot=None,\n",
       "              max_delta_step=None, max_depth=2, max_leaves=None,\n",
       "              min_child_weight=None, missing=nan, monotone_constraints=None,\n",
       "              n_estimators=100, n_jobs=-1, num_parallel_tree=None,\n",
       "              objective='multi:softprob', predictor=None, ...)"
      ]
     },
     "execution_count": 237,
     "metadata": {},
     "output_type": "execute_result"
    }
   ],
   "source": [
    "# List of features without label feature\n",
    "variable_list =  data.columns.tolist()\n",
    "features = variable_list\n",
    "\n",
    "\n",
    "if OUTPUT == outputs.MultiOutput:\n",
    "    orig_y = np.array(data['Methods'].str.split(\";\"))\n",
    "    mlb = MultiLabelBinarizer(classes=ptype)\n",
    "    y = mlb.fit_transform(orig_y)\n",
    "    features.remove('Methods')\n",
    "    # test = pd.DataFrame(y, columns=mlb.classes_)\n",
    "    # print(test.head(10))\n",
    "\n",
    "elif OUTPUT == outputs.MultiLabel:\n",
    "    data[\"Method\"] = data[\"Method\"].replace(\"Seen_eye\",2) #XGboost needs 1 and 0\n",
    "    data[\"Method\"] = data[\"Method\"].replace(\"Seen_with_aid\",1)\n",
    "    data[\"Method\"] = data[\"Method\"].replace(\"Not_seen\",0)\n",
    "    y = np.array(data['Method'])\n",
    "    features.remove('Method')\n",
    "    \n",
    "elif OUTPUT == outputs.Binary:\n",
    "    if METHOD == methods.XGBoost:\n",
    "        data[\"Seen\"] = data[\"Seen\"].replace(\"Seen\",1) #XGboost needs 1 and 0\n",
    "        data[\"Seen\"] = data[\"Seen\"].replace(\"Not_seen\", 0)\n",
    "    y = np.array(data['Seen'])\n",
    "    features.remove('Seen')\n",
    "    pos = 'Seen' # for ROC curve +ve result\n",
    "\n",
    "X = data[features]\n",
    "\n",
    "\n",
    "x_train, x_test, y_train, y_test = train_test_split(X, y, test_size=0.2) # 80/20 training/test split\n",
    "if METHOD == methods.NearestNeighbours: # Bug with KNN requires numpy arrays\n",
    "    x_train = x_train.values\n",
    "    x_test = x_test.values\n",
    "\n",
    "model = select_model()\n",
    "# Fitting takes the input and \"truth\" data for classification purposes\n",
    "model.fit(x_train, y_train)"
   ]
  },
  {
   "cell_type": "markdown",
   "metadata": {},
   "source": [
    "## Accuracy of ML model"
   ]
  },
  {
   "cell_type": "code",
   "execution_count": 238,
   "metadata": {},
   "outputs": [
    {
     "name": "stdout",
     "output_type": "stream",
     "text": [
      "Test accuracy 0.877. Train accuracy 0.837\n",
      "Oob Score: 0.837\n"
     ]
    }
   ],
   "source": [
    "def get_easiest_method_array(methods):\n",
    "    easiest_methods = np.zeros(methods.shape)\n",
    "    easiest_methods[np.arange(0,methods.shape[0],1),np.argmax(methods,axis=1)] = 1\n",
    "    return easiest_methods\n",
    "\n",
    "def get_easiest_method_names(methods):\n",
    "    easiest_methods = get_easiest_method_array(methods)\n",
    "    return mlb.inverse_transform(easiest_methods.astype(int))\n",
    "\n",
    "# Produce predictions for the classification of your training dataset using your model:\n",
    "y_predtrain = model.predict(x_train)\n",
    "y_predtest = model.predict(x_test)\n",
    "# plot the accuracies of said predictions\n",
    "print(f\"Test accuracy {accuracy_score(y_train, y_predtrain):.3f}. Train accuracy {accuracy_score(y_test, y_predtest):.3f}\")\n",
    "if OUTPUT == outputs.MultiOutput:\n",
    "    print(\"Accuracy on testing dataset (easiest method only):\", accuracy_score(get_easiest_method_names(y_test), get_easiest_method_names(y_predtest)))\n",
    "print(f'Oob Score: {model.score(x_test, y_test):.3f}')"
   ]
  },
  {
   "cell_type": "markdown",
   "metadata": {},
   "source": [
    "## Repeating to calculate accuracy"
   ]
  },
  {
   "cell_type": "code",
   "execution_count": 239,
   "metadata": {},
   "outputs": [
    {
     "name": "stdout",
     "output_type": "stream",
     "text": [
      "When run 20 times the accuracy is 0.826 ± 0.010\n",
      "When run 20 times the ROC score is 0.937 ± 0.005\n",
      "When run 20 times the precision is 0.820 ± 0.011\n",
      "When run 20 times the recall is 0.826 ± 0.010\n",
      "When run 20 times the F1 score is 0.821 ± 0.011\n"
     ]
    }
   ],
   "source": [
    "def traintestml(X,y, rf):\n",
    "        accuracy_arr = []\n",
    "        roc_arr = []\n",
    "        precision_arr = []\n",
    "        recall_arr = []\n",
    "        f1_arr = []\n",
    "        for i in range(20):\n",
    "            x_train, x_test, y_train, y_test = train_test_split(X, y, test_size=0.2)\n",
    "            # Fitting takes the input and \"truth\" data for classification purposes\n",
    "            if METHOD == methods.NearestNeighbours: # Bug with KNN requires numpy arrays\n",
    "                model.fit(x_train.values, y_train)\n",
    "                y_pred = model.predict(x_test.values)\n",
    "            else:\n",
    "                model.fit(x_train, y_train)\n",
    "                y_pred = model.predict(x_test)\n",
    "            # Produce predictions for the classification of your training dataset using your model:\n",
    "            \n",
    "            if OUTPUT == outputs.MultiOutput:\n",
    "                roc_auc = 0\n",
    "            elif OUTPUT == outputs.MultiLabel:\n",
    "                if METHOD == methods.NearestNeighbours: # Bug with KNN requires numpy arrays\n",
    "                    y_pred_prob = model.predict_proba(x_test.values)\n",
    "                else:\n",
    "                    y_pred_prob = model.predict_proba(x_test)\n",
    "               \n",
    "                roc_auc = roc_auc_score(y_test, y_pred_prob, multi_class=\"ovr\")\n",
    "\n",
    "                \n",
    "                precision_arr.append(precision_score(y_test, y_pred, average='weighted'))\n",
    "                recall_arr.append(recall_score(y_test, y_pred, average='weighted'))\n",
    "                f1_arr.append(f1_score(y_test, y_pred, average='weighted'))\n",
    "            \n",
    "            elif OUTPUT == outputs.Binary:\n",
    "                if METHOD == methods.NearestNeighbours: # Bug with KNN requires numpy arrays\n",
    "                    y_pred_prob = model.predict_proba(x_test.values)[:, 1] \n",
    "                else:\n",
    "                    y_pred_prob = model.predict_proba(x_test)[:, 1] \n",
    "                roc_auc = roc_auc_score(y_test, y_pred_prob)\n",
    "\n",
    "                precision_arr.append(precision_score(y_test, y_pred))\n",
    "                recall_arr.append(recall_score(y_test, y_pred))\n",
    "                f1_arr.append(f1_score(y_test, y_pred))\n",
    "            accuracy_arr.append(accuracy_score(y_test, y_pred))\n",
    "            roc_arr.append(roc_auc)\n",
    "\n",
    "        accuracy_avg = np.mean(accuracy_arr)\n",
    "        accuracy_std = np.std(accuracy_arr)\n",
    "        roc_avg = np.mean(roc_arr)\n",
    "        roc_std = np.std(roc_arr)\n",
    "        precision_avg = np.mean(precision_arr)\n",
    "        precision_std = np.std(precision_arr)\n",
    "        recall_avg = np.mean(recall_arr)\n",
    "        recall_std = np.std(recall_arr)\n",
    "        f1_avg = np.mean(f1_arr)\n",
    "        f1_std = np.std(f1_arr)\n",
    "\n",
    "        return accuracy_avg,accuracy_std,roc_avg,roc_std,precision_avg,precision_std,recall_avg,recall_std,f1_avg,f1_std\n",
    "\n",
    "if REPEAT_ACCURACY:\n",
    "    # Function to run the model several times to get an average\n",
    "\n",
    "    model = select_model()\n",
    "    metrics=traintestml(X,y, model)\n",
    "\n",
    "    print(f\"When run 20 times the accuracy is {metrics[0]:.3f} ± {metrics[1]:.3f}\")\n",
    "    print(f\"When run 20 times the ROC score is {metrics[2]:.3f} ± {metrics[3]:.3f}\")\n",
    "    print(f\"When run 20 times the precision is {metrics[4]:.3f} ± {metrics[5]:.3f}\")\n",
    "    print(f\"When run 20 times the recall is {metrics[6]:.3f} ± {metrics[7]:.3f}\")\n",
    "    print(f\"When run 20 times the F1 score is {metrics[8]:.3f} ± {metrics[9]:.3f}\")"
   ]
  },
  {
   "cell_type": "markdown",
   "metadata": {},
   "source": [
    "## ROC curve"
   ]
  },
  {
   "cell_type": "code",
   "execution_count": 240,
   "metadata": {},
   "outputs": [
    {
     "name": "stdout",
     "output_type": "stream",
     "text": [
      "ROC curve: 0.970\n"
     ]
    }
   ],
   "source": [
    "# Get predicted class probabilities for the test set \n",
    "if METHOD != methods.SupportVector:\n",
    "    if OUTPUT == outputs.MultiOutput:\n",
    "        #y_pred_prob = rf.predict_proba(x_test)\n",
    "        #roc_auc = roc_auc_score(y_test, y_pred_prob)\n",
    "        print(\"Not currently working\")\n",
    "    elif OUTPUT == outputs.MultiLabel:\n",
    "        y_pred_prob = model.predict_proba(x_test)\n",
    "        roc_auc = roc_auc_score(y_test, y_pred_prob, multi_class=\"ovr\")\n",
    "        print(f\"ROC curve: {roc_auc:.3f}\")\n",
    "    elif OUTPUT == outputs.Binary:\n",
    "        y_pred_prob = model.predict_proba(x_test)[:, 1] \n",
    "        roc_auc = roc_auc_score(y_test, y_pred_prob)\n",
    "        print(f\"ROC curve: {roc_auc:.3f}\")"
   ]
  },
  {
   "cell_type": "code",
   "execution_count": 241,
   "metadata": {},
   "outputs": [
    {
     "data": {
      "image/png": "[encoded data removed]",
      "text/plain": [
       "<Figure size 800x400 with 2 Axes>"
      ]
     },
     "metadata": {},
     "output_type": "display_data"
    }
   ],
   "source": [
    "if OUTPUT != outputs.MultiOutput and METHOD != methods.SupportVector:\n",
    "    # Compute the false positive rate (FPR) \n",
    "    # and true positive rate (TPR) for different classification thresholds\n",
    "    if OUTPUT == outputs.MultiLabel:\n",
    "        pos = 2\n",
    "        fpr, tpr, thresholds = roc_curve(y_test, y_pred_prob[:,2], pos_label=pos)\n",
    "    else:\n",
    "        if METHOD == methods.XGBoost:\n",
    "            pos = 1\n",
    "        fpr, tpr, thresholds = roc_curve(y_test, y_pred_prob, pos_label=pos)\n",
    "    fig = plt.figure(figsize=(8,4))\n",
    "    ax1 = fig.add_subplot(1,2,1)\n",
    "    # Plot the ROC curve \n",
    "    ax1.plot(fpr, tpr, label='ROC curve (area = %0.3f)' % roc_auc) \n",
    "    # roc curve for tpr = fpr  \n",
    "    ax1.plot([0, 1], [0, 1], 'k--', label='Random classifier') \n",
    "    ax1.set_xlabel('False Positive Rate') \n",
    "    ax1.set_ylabel('True Positive Rate') \n",
    "    ax1.set_title(f'ROC Curve') \n",
    "    ax1.legend(loc=\"lower right\") \n",
    "\n",
    "    ax2 = fig.add_subplot(1,2,2)\n",
    "    ax2.hist(y_pred_prob, bins=10) \n",
    "    ax2.set_xlim(0, 1) \n",
    "    ax2.set_title(f'Predicted probabilities') \n",
    "    ax2.set_xlabel('Predicted probability') \n",
    "    ax2.set_ylabel('Frequency')\n",
    "    fig.suptitle(TITLE)\n",
    "    plt.show()"
   ]
  },
  {
   "cell_type": "markdown",
   "metadata": {},
   "source": [
    "## Confusion Matrix"
   ]
  },
  {
   "cell_type": "code",
   "execution_count": 242,
   "metadata": {},
   "outputs": [
    {
     "data": {
      "image/png": "[encoded data removed]",
      "text/plain": [
       "<Figure size 640x480 with 1 Axes>"
      ]
     },
     "metadata": {},
     "output_type": "display_data"
    }
   ],
   "source": [
    "# plot your confusion matrix\n",
    "if OUTPUT == outputs.MultiOutput:\n",
    "    cm = confusion_matrix(get_easiest_method_names(y_test), get_easiest_method_names(y_predtest),normalize = 'true')\n",
    "else:\n",
    "    cm = confusion_matrix(y_test, y_predtest,normalize = 'true')\n",
    "disp = ConfusionMatrixDisplay(confusion_matrix=cm, display_labels=ptype)\n",
    "\n",
    "colours = ['#ffffcc','#a1dab4','#41b6c4','#2c7fb8','#253494']\n",
    "custom_cmap = LinearSegmentedColormap.from_list('custom_cmap', colours, N=20)\n",
    "\n",
    "disp.plot(xticks_rotation=45,cmap = custom_cmap,values_format=\".3f\",colorbar=False) #values_format=\".1%\")\n",
    "for labels in disp.text_.ravel():\n",
    "    if OUTPUT == outputs.MultiOutput:\n",
    "        labels.set_fontsize(14)\n",
    "    elif OUTPUT == outputs.MultiLabel:\n",
    "        labels.set_fontsize(20)\n",
    "    elif OUTPUT == outputs.Binary:\n",
    "        labels.set_fontsize(26)\n",
    "fig = disp.figure_\n",
    "ax = disp.ax_\n",
    "ax.set_xlabel('Predicted Labels',fontsize=12)\n",
    "ax.set_ylabel('True Labels',fontsize=12)\n",
    "ax.tick_params(axis='both', which='major', labelsize=12)\n",
    "ax.tick_params(axis='both', which='minor', labelsize=10)\n",
    "plt.title(f\"Confusion matrix ({TITLE})\")\n",
    "plt.show()"
   ]
  },
  {
   "cell_type": "markdown",
   "metadata": {},
   "source": [
    "## Importance Graph"
   ]
  },
  {
   "cell_type": "code",
   "execution_count": 243,
   "metadata": {},
   "outputs": [
    {
     "data": {
      "image/png": "[encoded data removed]",
      "text/plain": [
       "<Figure size 640x480 with 1 Axes>"
      ]
     },
     "metadata": {},
     "output_type": "display_data"
    }
   ],
   "source": [
    "# Plot importance\n",
    "if METHOD == methods.XGBoost or METHOD == methods.RandomForest:\n",
    "\n",
    "    if METHOD != methods.XGBoost and OUTPUT == outputs.MultiOutput:\n",
    "        feat_impts = [] \n",
    "        for clf in model.estimators_:\n",
    "            feat_impts.append(clf.feature_importances_) \n",
    "\n",
    "        importance = np.mean(feat_impts, axis=0)\n",
    "\n",
    "    else:\n",
    "        importance = model.feature_importances_\n",
    "\n",
    "    ytix = features\n",
    "    plt.barh(range(len(features)), importance)\n",
    "    plt.yticks(range(len(features)), features)\n",
    "    plt.xlabel(\"Importance\")\n",
    "    plt.ylabel(\"Features\")\n",
    "    plt.title(f\"Importance Graph ({TITLE})\")\n",
    "    plt.show()"
   ]
  },
  {
   "cell_type": "markdown",
   "metadata": {},
   "source": [
    "## SHAP Analysis"
   ]
  },
  {
   "cell_type": "code",
   "execution_count": 244,
   "metadata": {},
   "outputs": [],
   "source": [
    "if SHAP_ANALYSIS:\n",
    "    explainer = shap.Explainer(model)\n",
    "    shap_values = explainer.shap_values(X)\n",
    "    plt.figure(figsize=(6,10))\n",
    "    shap.summary_plot(shap_values, X, plot_type=\"bar\",plot_size=[8,5],show=False)\n",
    "    plt.ylabel(\"Features\")\n",
    "    plt.xlabel(\"Absolute Mean SHAP Value\")\n",
    "    plt.title(f\"Importance Graph ({TITLE})\")\n",
    "    plt.show()"
   ]
  },
  {
   "cell_type": "code",
   "execution_count": 245,
   "metadata": {},
   "outputs": [],
   "source": [
    "if SHAP_ANALYSIS:\n",
    "    shap.summary_plot(shap_values, X,plot_size=[8,7],show=False)\n",
    "    plt.ylabel(\"Features\")\n",
    "    plt.title(f\"Importance Graph ({TITLE})\")\n",
    "    plt.show()"
   ]
  },
  {
   "cell_type": "markdown",
   "metadata": {},
   "source": [
    "## Generating contour map based on predictions"
   ]
  },
  {
   "cell_type": "code",
   "execution_count": 246,
   "metadata": {},
   "outputs": [],
   "source": [
    "def contour_plot(lat_arr, lon_arr, qvals, labels,title,labels_no):\n",
    "    plt.figure(figsize=(9,5))\n",
    "\n",
    "    x, y = np.meshgrid(lon_arr,lat_arr,indexing='xy')\n",
    "    sqqvals = np.reshape(qvals,(len(lat_arr),len(lon_arr)))\n",
    "    \n",
    "    ax = plt.axes(projection=ccrs.PlateCarree())\n",
    "    ax.coastlines()\n",
    "    ax.gridlines(draw_labels=True, dms=True, x_inline=False, y_inline=False)\n",
    "\n",
    "    if labels_no == 2: #Binary\n",
    "        all_colours = ['#ca0020','#0571b0']\n",
    "        if np.all(sqqvals==0): # All not seen\n",
    "             colours = ['#ca0020']\n",
    "             cs = plt.contourf(x, y ,sqqvals,alpha=0.6, extend='max',colors=colours)\n",
    "        elif np.all(sqqvals==1): # All seen\n",
    "             colours = ['#0571b0']\n",
    "             cs = plt.contourf(x, y ,sqqvals,alpha=0.6, extend='max',colors=colours)\n",
    "        else:\n",
    "            cs = plt.contourf(x, y ,sqqvals,alpha=0.6,extend='max',colors=all_colours)\n",
    "    elif labels_no == 3: #With aid\n",
    "        all_colours = ['#ca0020','#f4a582','#0571b0']\n",
    "        if np.all(sqqvals==0): # All not seen\n",
    "             colours = ['#ca0020']\n",
    "             cs = plt.contourf(x, y ,sqqvals,alpha=0.6, extend='max',colors=colours)\n",
    "        elif np.all(sqqvals==2): # All seen\n",
    "             colours = ['#0571b0']\n",
    "             cs = plt.contourf(x, y ,sqqvals,alpha=0.6, extend='max',colors=colours)\n",
    "        elif np.all(sqqvals==1): # All seen with aid\n",
    "             colours = ['#f4a582']\n",
    "             cs = plt.contourf(x, y ,sqqvals,alpha=0.6, extend='max',colors=colours)\n",
    "        else:\n",
    "            cs = plt.contourf(x, y ,sqqvals,alpha=0.6, levels=labels_no,extend='max',colors=all_colours)\n",
    "   \n",
    "    nm = [plt.Rectangle((0, 0), 1, 1, color=color) for color in all_colours]\n",
    "    leg = plt.legend(nm, labels, loc='upper center', bbox_to_anchor=(0.5, -0.05), ncol=labels_no)\n",
    "    for lh in leg.legend_handles: \n",
    "        lh.set_alpha(0.6)\n",
    "    if -np.min(lon_arr)+ np.max(lon_arr) ==360:\n",
    "        plt.ylim(-90,90)\n",
    "        plt.xlim(-180,180)\n",
    "    else:\n",
    "        ax.set_extent((np.min(lon_arr), np.max(lon_arr),np.min(lat_arr), np.max(lat_arr)),crs=ccrs.PlateCarree()) \n",
    "\n",
    "    title_date = obs_date.to_datetime().date()\n",
    "    #plt.title(f\"{title} Predicted New Crescent visibility at best time ({title_date})\")\n",
    "    plt.savefig(f\"..\\\\Graphs\\\\Prediction Global moon visibility at best time ({title_date}).png\",dpi=200)\n",
    "    plt.show()\n",
    "\n",
    "\n",
    "def yallop_to_scale(q_values,binary):\n",
    "    quantified_q = np.empty((q_values.size),dtype=str)\n",
    "    if binary:\n",
    "        quantified_q[q_values > 0.216] = 1 #A Easily visible\n",
    "        quantified_q[np.logical_and(0.216 >= q_values, q_values > -0.014)] = 1 #B Visible under perfect conditions\n",
    "        quantified_q[np.logical_and(-0.014 >= q_values, q_values > -0.160)] = 1 #C May need optical aid to find crescent\n",
    "        quantified_q[np.logical_and(-0.160 >= q_values, q_values > -0.232)] = 0 #D Will need optical aid to find crescent\n",
    "        quantified_q[np.logical_and(-0.232 >= q_values, q_values > -0.293)] = 0 #E Not visible with a telescope ARCL ≤ 8·5°\n",
    "        quantified_q[-0.293 >= q_values] = 0 #F Not visible, below Danjon limit, ARCL ≤ 8°\n",
    "    else:\n",
    "        quantified_q[q_values > 0.216] = 2 #A Easily visible\n",
    "        quantified_q[np.logical_and(0.216 >= q_values, q_values > -0.014)] = 2 #B Visible under perfect conditions\n",
    "        quantified_q[np.logical_and(-0.014 >= q_values, q_values > -0.160)] = 1 #C May need optical aid to find crescent\n",
    "        quantified_q[np.logical_and(-0.160 >= q_values, q_values > -0.232)] = 1 #D Will need optical aid to find crescent\n",
    "        quantified_q[np.logical_and(-0.232 >= q_values, q_values > -0.293)] = 0 #E Not visible with a telescope ARCL ≤ 8·5°\n",
    "        quantified_q[-0.293 >= q_values] = 0 #F Not visible, below Danjon limit, ARCL ≤ 8°\n",
    "    return quantified_q\n",
    "\n",
    "def predict_contour_plot(obs_date,min_lat, max_lat, min_lon, max_lon, no_of_points):\n",
    "    file_path = f'../Data/Generated/{obs_date.to_datetime().date()} LAT {min_lat} {max_lat} LON {min_lon} {max_lon} {no_of_points}x{no_of_points}'\n",
    "    generated_params = pd.read_csv(file_path+'.csv')\n",
    "\n",
    "    #Plots moon visibility across a world map\n",
    "    lat_arr = np.linspace(min_lat, max_lat, no_of_points)\n",
    "    lon_arr = np.linspace(min_lon, max_lon, no_of_points)\n",
    "\n",
    "    #Get q-values and features from generated data\n",
    "    yallop_qval = generated_params[\"q'\"].to_numpy(dtype=float)\n",
    "    generated_params = generated_params.drop(VARS_TO_DROP+[\"Seen\",\"q'\"], axis = 1)\n",
    "\n",
    "    #Predict visibility using features\n",
    "    \n",
    "    x_train, x_test, y_train, y_test = train_test_split(X, y, test_size=0.2) # 80/20 training/test split\n",
    "    model = select_model()\n",
    "    model.fit(x_train, y_train)\n",
    "    prediction = model.predict(generated_params).astype(int)\n",
    "\n",
    "    if OUTPUT == outputs.Binary:\n",
    "        if METHOD != methods.XGBoost: #Non-xgboost predicts labels not numbers\n",
    "            prediction[prediction==\"Seen\"] = 1\n",
    "            prediction[prediction==\"Not_seen\"] = 0\n",
    "            prediction = prediction.astype(int)\n",
    "        #Convert yallop q-values into predictions\n",
    "        yallop_prediction = yallop_to_scale(yallop_qval,True).astype(int)\n",
    "\n",
    "        print(f\"Y: Seen: {yallop_prediction[yallop_prediction==1].shape[0]} Not Seen: {yallop_prediction[yallop_prediction==0].shape[0]}\")\n",
    "        print(f\"ML: Seen: {prediction[prediction==1].shape[0]} Not Seen: {prediction[prediction==0].shape[0]}\")\n",
    "        print(f\"Accuracy (compared to Yallop q values): {accuracy_score(prediction,yallop_prediction):.1%}\")\n",
    "        contour_plot(lat_arr, lon_arr, prediction,[\"Not seen\",'Seen'],METHOD.name,2)\n",
    "        contour_plot(lat_arr, lon_arr, yallop_prediction,[\"Not seen\",'Seen'],\"Yallop\",2)\n",
    "\n",
    "    elif OUTPUT == outputs.MultiLabel:\n",
    "        if METHOD != methods.XGBoost: #Non-xgboost predicts labels not numbers\n",
    "            prediction[prediction==\"Seen\"] = 2\n",
    "            prediction[prediction==\"Seen_with_aid\"] = 1\n",
    "            prediction[prediction==\"Not_seen\"] = 0\n",
    "            prediction = prediction.astype(int)\n",
    "        yallop_prediction = yallop_to_scale(yallop_qval,False).astype(int)\n",
    "\n",
    "        print(f\"Y: Seen: {yallop_prediction[yallop_prediction==2].shape[0]} Aid: {yallop_prediction[yallop_prediction==1].shape[0]} Not Seen: {yallop_prediction[yallop_prediction==0].shape[0]}\")\n",
    "        print(f\"ML: Seen: {prediction[prediction==2].shape[0]} Aid: {prediction[prediction==1].shape[0]} Not Seen: {prediction[prediction==0].shape[0]}\")\n",
    "        print(f\"Accuracy (compared to Yallop q values): {accuracy_score(prediction,yallop_prediction):.1%}\")\n",
    "        contour_plot(lat_arr, lon_arr, prediction,[\"Not seen\",\"Seen with aid\",'Seen'],METHOD.name,3)\n",
    "        contour_plot(lat_arr, lon_arr, yallop_prediction,[\"Not seen\",\"Seen with aid\", 'Seen'],\"Yallop\",3)\n",
    "\n",
    "if PREDICT_VISIBILITY:\n",
    "    obs_date = Time(\"2023-03-22\")\n",
    "    \n",
    "    predict_contour_plot(obs_date,min_lat=-60, max_lat=60, min_lon=-180, max_lon=180, no_of_points=100)\n",
    "\n",
    "    obs_date = Time(\"2023-12-14\")\n",
    "    obs_date = Time(\"2023-10-15\")\n",
    "    #create_contour_plot(obs_date,min_lat=-60, max_lat=60, min_lon=-180, max_lon=180, no_of_points=40)\n",
    "    #predict_contour_plot(obs_date,min_lat=48, max_lat=60, min_lon=-8, max_lon=2, no_of_points=50)"
   ]
  },
  {
   "cell_type": "markdown",
   "metadata": {},
   "source": [
    "## Comparing ML models"
   ]
  },
  {
   "cell_type": "code",
   "execution_count": 247,
   "metadata": {},
   "outputs": [],
   "source": [
    "if COMPARE_METHODS:\n",
    "    method_metrics = pd.DataFrame(columns=[\"Method\", \"Accuracy\", \"Accuracy std\", \"ROC\",\"ROC std\",\"Precision\",\"Precision std\",\"Recall\",\"Recall std\",\"F1\",\"F1 std\"])\n",
    "    \n",
    "    for method_type in methods:\n",
    "        i = method_type.value\n",
    "        if i <=7: #Ignore non-working models\n",
    "            METHOD = method_type\n",
    "            model = select_model()\n",
    "            metrics = traintestml(X,y, model)\n",
    "            method_metrics.loc[i] = [method_type.name]+list(metrics)\n",
    "            print(f\"{method_type.name}: Test accuracy {metrics[0]:.3f}\")\n",
    "\n",
    "    print(method_metrics.head(10))\n",
    "    method_metrics.to_csv(\"method comparison.csv\")"
   ]
  },
  {
   "cell_type": "code",
   "execution_count": 248,
   "metadata": {},
   "outputs": [],
   "source": [
    "if COMPARE_METHODS:    \n",
    "    fig, axes = plt.subplots(2,4, figsize=(15, 5))\n",
    "    x_train, x_test, y_train, y_test = train_test_split(X, y, test_size=0.2)\n",
    "    for method_type in methods:\n",
    "        i = method_type.value\n",
    "        if i <=7: #Ignore non-working models\n",
    "            METHOD = method_type\n",
    "            model = select_model()\n",
    "            if METHOD == methods.NearestNeighbours: # Bug with KNN requires numpy arrays\n",
    "                model.fit(x_train.values, y_train)\n",
    "                y_predtrain = model.predict(x_train.values)\n",
    "                y_predtest = model.predict(x_test.values)\n",
    "            else:\n",
    "                model.fit(x_train, y_train)\n",
    "                y_predtrain = model.predict(x_train)\n",
    "                y_predtest = model.predict(x_test)\n",
    "            # plot the accuracies of said predictions\n",
    "            train_acc = accuracy_score(y_test, y_predtest)\n",
    "            print(f\"{method_type.name}: Test accuracy {accuracy_score(y_train, y_predtrain):.3f}. Train accuracy {train_acc:.3f}\")\n",
    "\n",
    "            if OUTPUT == outputs.MultiOutput:\n",
    "                cm = confusion_matrix(get_easiest_method_names(y_test), get_easiest_method_names(y_predtest),normalize = 'true')\n",
    "            else:\n",
    "                cm = confusion_matrix(y_test, y_predtest,normalize = 'true')\n",
    "            disp = ConfusionMatrixDisplay(confusion_matrix=cm, display_labels=ptype)\n",
    "            disp.plot(ax=axes.flatten()[i], xticks_rotation=45)\n",
    "            disp.ax_.set_title(f\"{method_type.name}\")\n",
    "            disp.im_.colorbar.remove()\n",
    "            disp.ax_.set_xlabel('')\n",
    "            if method_type.value !=0:\n",
    "                disp.ax_.set_ylabel('')\n",
    "\n",
    "\n",
    "    fig.text(0.4, 0.1, 'Predicted label', ha='left')\n",
    "    plt.subplots_adjust(wspace=1, hspace=0.5)\n",
    "    fig.colorbar(disp.im_, ax=axes)\n",
    "\n",
    "    plt.show()"
   ]
  },
  {
   "cell_type": "markdown",
   "metadata": {},
   "source": [
    "## Hyperparameter adjustment"
   ]
  },
  {
   "cell_type": "code",
   "execution_count": 249,
   "metadata": {},
   "outputs": [],
   "source": [
    "if GRID_SEARCH and not (METHOD != methods.XGBoost and OUTPUT == outputs.MultiOutput):\n",
    "    model = select_model()\n",
    "\n",
    "    if METHOD == methods.XGBoost:\n",
    "        test_params = {\n",
    "            'max_depth': np.arange(2,10,2),\n",
    "            'n_estimators': [10,25,30,50,100,200],\n",
    "            'learning_rate': np.linspace(0.01,0.5,7)}\n",
    "            #     'max_leaf_nodes': [2,5,10,20],\n",
    "    else:\n",
    "\n",
    "        test_params = {\n",
    "            'max_depth': np.arange(2,16,1),\n",
    "            'n_estimators': [10,25,30,50,100,150,200]}\n",
    "            #'max_features': ['sqrt', 'log2', None]}\n",
    "            # 'max_leaf_nodes': [2,5,10,20],\n",
    "            # 'min_samples_leaf': [2,3, 5,10],\n",
    "            # 'min_samples_split': [2,3,5,10]}\n",
    "\n",
    "    # Instantiate the grid search model\n",
    "    grid_search = GridSearchCV(estimator=model,\n",
    "        param_grid=test_params,\n",
    "         verbose=2,n_jobs=-1,\n",
    "          scoring=\"roc_auc\")\n",
    "\n",
    "    grid_search.fit(x_train, y_train)\n",
    "    #print(grid_search.best_score_)\n",
    "    model_best = grid_search.best_estimator_\n",
    "    print(grid_search.best_params_) \n",
    "\n",
    "    # Produce predictions for the classification of your training dataset using your model:\n",
    "    y_pred_best = model_best.predict(x_train)\n",
    "\n",
    "    # plot the accuracies of said predictions\n",
    "    model_best_acc_train = accuracy_score(y_train, y_pred_best)\n",
    "    \n",
    "    print(f\"Accuracy on training dataset: {round(model_best_acc_train,5)}\",)\n",
    "    \n",
    "    y_pred_best = model_best.predict(x_test)\n",
    "    model_best_acc_test = accuracy_score(y_test, y_pred_best)\n",
    "    print(f\"Accuracy on testing dataset:{round(model_best_acc_test,5)}\")\n",
    "    "
   ]
  }
 ],
 "metadata": {
  "kernelspec": {
   "display_name": "Python 3 (ipykernel)",
   "language": "python",
   "name": "python3"
  },
  "language_info": {
   "codemirror_mode": {
    "name": "ipython",
    "version": 3
   },
   "file_extension": ".py",
   "mimetype": "text/x-python",
   "name": "python",
   "nbconvert_exporter": "python",
   "pygments_lexer": "ipython3",
   "version": "3.11.5"
  }
 },
 "nbformat": 4,
 "nbformat_minor": 4
}
