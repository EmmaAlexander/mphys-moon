{
 "cells": [
  {
   "cell_type": "code",
   "execution_count": 126,
   "metadata": {},
   "outputs": [],
   "source": [
    "import numpy as np\n",
    "import requests\n",
    "from bs4 import BeautifulSoup\n",
    "import re\n",
    "import pandas as pd\n",
    "from translate import Translator\n",
    "translator = Translator(to_lang=\"ar\")"
   ]
  },
  {
   "cell_type": "code",
   "execution_count": 127,
   "metadata": {},
   "outputs": [],
   "source": [
    "#Muharram\tSafar\tRabee' Al-Awwal\tRabee' Al-Aakher\tJumadal Al-Aula\tJumadal Al-Aakherah\tRajab\tSha'ban\tRamadan\tShawwal\tDhul Qeadah\tDhul Hijjah\n",
    "islamic_months = [\"muh\",\"saf\",\"raa\",\"rat\",\"jua\",\"jut\",\"raj\",\"sha\",\"ram\",\"shw\",\"kea\",\"hej\"]\n",
    "last_recorded = \"shw41\"\n",
    "current = \"jua45\"\n",
    "month_to_search = \"kea41\""
   ]
  },
  {
   "cell_type": "code",
   "execution_count": 128,
   "metadata": {},
   "outputs": [
    {
     "name": "stdout",
     "output_type": "stream",
     "text": [
      "https://www.astronomycenter.net/icop/kea41.html\n",
      "200\n"
     ]
    }
   ],
   "source": [
    "\n",
    "url = \"https://www.astronomycenter.net/icop/\"+month_to_search+\".html\"\n",
    "print(url)\n",
    "\n",
    "headers = {\n",
    "\"Accept\": \"text/html,application/xhtml+xml,application/xml;q=0.9,image/avif,image/webp,image/apng,*/*;q=0.8,application/signed-exchange;v=b3;q=0.7\",\n",
    "\"Accept-Encoding\" : \"gzip, deflate, br\",\n",
    "\"Accept-Language\" : \"en-GB,en;q=0.9\",\n",
    "\"Cache-Control\" : \"max-age=0\",\n",
    "\"Cookie\" : \"ASP.NET_SessionId=skottm30rlapyeln5m1mrgq2; lang=en; _gid=GA1.2.809394619.1700578346; _ga=GA1.2.421384393.1700578346; _ga_1LJHW8NDRE=GS1.1.1700578345.1.1.1700579677.47.0.0\",\n",
    "\"Dnt\" : \"1\",\n",
    "\"Referer\" : \"https://www.astronomycenter.net/res.html\",\n",
    "\"User-Agent\" : \"Mozilla/5.0 (Windows NT 10.0; Win64; x64) AppleWebKit/537.36 (KHTML, like Gecko) Chrome/119.0.0.0 Safari/537.36\"\n",
    "}\n",
    "response = requests.get(url, headers =headers)\n",
    "print(response.status_code)\n",
    "soup = BeautifulSoup(response.text, 'html.parser')"
   ]
  },
  {
   "cell_type": "code",
   "execution_count": 129,
   "metadata": {},
   "outputs": [
    {
     "name": "stdout",
     "output_type": "stream",
     "text": [
      "44\n",
      "0\n",
      "0\n",
      "44\n",
      "44\n",
      "44\n"
     ]
    },
    {
     "ename": "ValueError",
     "evalue": "All arrays must be of the same length",
     "output_type": "error",
     "traceback": [
      "\u001b[1;31m---------------------------------------------------------------------------\u001b[0m",
      "\u001b[1;31mValueError\u001b[0m                                Traceback (most recent call last)",
      "\u001b[1;32mc:\\Users\\Neil Power\\OneDrive - The University of Manchester\\Physics\\Year 4\\MoonPhys\\mphys-moon\\Code\\icop_data_scrape.ipynb Cell 4\u001b[0m line \u001b[0;36m7\n\u001b[0;32m     <a href='vscode-notebook-cell:/c%3A/Users/Neil%20Power/OneDrive%20-%20The%20University%20of%20Manchester/Physics/Year%204/MoonPhys/mphys-moon/Code/icop_data_scrape.ipynb#W3sZmlsZQ%3D%3D?line=59'>60</a>\u001b[0m \u001b[39mprint\u001b[39m(\u001b[39mlen\u001b[39m(visibilities))\n\u001b[0;32m     <a href='vscode-notebook-cell:/c%3A/Users/Neil%20Power/OneDrive%20-%20The%20University%20of%20Manchester/Physics/Year%204/MoonPhys/mphys-moon/Code/icop_data_scrape.ipynb#W3sZmlsZQ%3D%3D?line=61'>62</a>\u001b[0m initial_data \u001b[39m=\u001b[39m {\u001b[39m\"\u001b[39m\u001b[39mIslamic Month\u001b[39m\u001b[39m\"\u001b[39m: islamic_dates,\n\u001b[0;32m     <a href='vscode-notebook-cell:/c%3A/Users/Neil%20Power/OneDrive%20-%20The%20University%20of%20Manchester/Physics/Year%204/MoonPhys/mphys-moon/Code/icop_data_scrape.ipynb#W3sZmlsZQ%3D%3D?line=62'>63</a>\u001b[0m                 \u001b[39m\"\u001b[39m\u001b[39mDate\u001b[39m\u001b[39m\"\u001b[39m: obs_dates,\n\u001b[0;32m     <a href='vscode-notebook-cell:/c%3A/Users/Neil%20Power/OneDrive%20-%20The%20University%20of%20Manchester/Physics/Year%204/MoonPhys/mphys-moon/Code/icop_data_scrape.ipynb#W3sZmlsZQ%3D%3D?line=63'>64</a>\u001b[0m                 \u001b[39m\"\u001b[39m\u001b[39mCity\u001b[39m\u001b[39m\"\u001b[39m: cities,\n\u001b[1;32m   (...)\u001b[0m\n\u001b[0;32m     <a href='vscode-notebook-cell:/c%3A/Users/Neil%20Power/OneDrive%20-%20The%20University%20of%20Manchester/Physics/Year%204/MoonPhys/mphys-moon/Code/icop_data_scrape.ipynb#W3sZmlsZQ%3D%3D?line=72'>73</a>\u001b[0m                         \u001b[39m\"\u001b[39m\u001b[39mV Telescope\u001b[39m\u001b[39m\"\u001b[39m: v_telescope ,\n\u001b[0;32m     <a href='vscode-notebook-cell:/c%3A/Users/Neil%20Power/OneDrive%20-%20The%20University%20of%20Manchester/Physics/Year%204/MoonPhys/mphys-moon/Code/icop_data_scrape.ipynb#W3sZmlsZQ%3D%3D?line=73'>74</a>\u001b[0m                         \u001b[39m\"\u001b[39m\u001b[39mV CCD\u001b[39m\u001b[39m\"\u001b[39m: v_ccd }\n\u001b[1;32m---> <a href='vscode-notebook-cell:/c%3A/Users/Neil%20Power/OneDrive%20-%20The%20University%20of%20Manchester/Physics/Year%204/MoonPhys/mphys-moon/Code/icop_data_scrape.ipynb#W3sZmlsZQ%3D%3D?line=74'>75</a>\u001b[0m data \u001b[39m=\u001b[39m pd\u001b[39m.\u001b[39mDataFrame(initial_data)\n\u001b[0;32m     <a href='vscode-notebook-cell:/c%3A/Users/Neil%20Power/OneDrive%20-%20The%20University%20of%20Manchester/Physics/Year%204/MoonPhys/mphys-moon/Code/icop_data_scrape.ipynb#W3sZmlsZQ%3D%3D?line=75'>76</a>\u001b[0m data\u001b[39m.\u001b[39mto_csv(\u001b[39m\"\u001b[39m\u001b[39m..\u001b[39m\u001b[39m\\\\\u001b[39;00m\u001b[39mData\u001b[39m\u001b[39m\\\\\u001b[39;00m\u001b[39mICOP Updated\u001b[39m\u001b[39m\\\\\u001b[39;00m\u001b[39m\"\u001b[39m\u001b[39m+\u001b[39mmonth_to_search\u001b[39m+\u001b[39m\u001b[39m\"\u001b[39m\u001b[39m.csv\u001b[39m\u001b[39m\"\u001b[39m)\n\u001b[0;32m     <a href='vscode-notebook-cell:/c%3A/Users/Neil%20Power/OneDrive%20-%20The%20University%20of%20Manchester/Physics/Year%204/MoonPhys/mphys-moon/Code/icop_data_scrape.ipynb#W3sZmlsZQ%3D%3D?line=76'>77</a>\u001b[0m data\u001b[39m.\u001b[39mhead(\u001b[39m100\u001b[39m)\n",
      "File \u001b[1;32mc:\\ProgramData\\miniconda3\\envs\\mphys-moon\\Lib\\site-packages\\pandas\\core\\frame.py:736\u001b[0m, in \u001b[0;36mDataFrame.__init__\u001b[1;34m(self, data, index, columns, dtype, copy)\u001b[0m\n\u001b[0;32m    730\u001b[0m     mgr \u001b[39m=\u001b[39m \u001b[39mself\u001b[39m\u001b[39m.\u001b[39m_init_mgr(\n\u001b[0;32m    731\u001b[0m         data, axes\u001b[39m=\u001b[39m{\u001b[39m\"\u001b[39m\u001b[39mindex\u001b[39m\u001b[39m\"\u001b[39m: index, \u001b[39m\"\u001b[39m\u001b[39mcolumns\u001b[39m\u001b[39m\"\u001b[39m: columns}, dtype\u001b[39m=\u001b[39mdtype, copy\u001b[39m=\u001b[39mcopy\n\u001b[0;32m    732\u001b[0m     )\n\u001b[0;32m    734\u001b[0m \u001b[39melif\u001b[39;00m \u001b[39misinstance\u001b[39m(data, \u001b[39mdict\u001b[39m):\n\u001b[0;32m    735\u001b[0m     \u001b[39m# GH#38939 de facto copy defaults to False only in non-dict cases\u001b[39;00m\n\u001b[1;32m--> 736\u001b[0m     mgr \u001b[39m=\u001b[39m dict_to_mgr(data, index, columns, dtype\u001b[39m=\u001b[39mdtype, copy\u001b[39m=\u001b[39mcopy, typ\u001b[39m=\u001b[39mmanager)\n\u001b[0;32m    737\u001b[0m \u001b[39melif\u001b[39;00m \u001b[39misinstance\u001b[39m(data, ma\u001b[39m.\u001b[39mMaskedArray):\n\u001b[0;32m    738\u001b[0m     \u001b[39mfrom\u001b[39;00m \u001b[39mnumpy\u001b[39;00m\u001b[39m.\u001b[39;00m\u001b[39mma\u001b[39;00m \u001b[39mimport\u001b[39;00m mrecords\n",
      "File \u001b[1;32mc:\\ProgramData\\miniconda3\\envs\\mphys-moon\\Lib\\site-packages\\pandas\\core\\internals\\construction.py:503\u001b[0m, in \u001b[0;36mdict_to_mgr\u001b[1;34m(data, index, columns, dtype, typ, copy)\u001b[0m\n\u001b[0;32m    499\u001b[0m     \u001b[39melse\u001b[39;00m:\n\u001b[0;32m    500\u001b[0m         \u001b[39m# dtype check to exclude e.g. range objects, scalars\u001b[39;00m\n\u001b[0;32m    501\u001b[0m         arrays \u001b[39m=\u001b[39m [x\u001b[39m.\u001b[39mcopy() \u001b[39mif\u001b[39;00m \u001b[39mhasattr\u001b[39m(x, \u001b[39m\"\u001b[39m\u001b[39mdtype\u001b[39m\u001b[39m\"\u001b[39m) \u001b[39melse\u001b[39;00m x \u001b[39mfor\u001b[39;00m x \u001b[39min\u001b[39;00m arrays]\n\u001b[1;32m--> 503\u001b[0m \u001b[39mreturn\u001b[39;00m arrays_to_mgr(arrays, columns, index, dtype\u001b[39m=\u001b[39mdtype, typ\u001b[39m=\u001b[39mtyp, consolidate\u001b[39m=\u001b[39mcopy)\n",
      "File \u001b[1;32mc:\\ProgramData\\miniconda3\\envs\\mphys-moon\\Lib\\site-packages\\pandas\\core\\internals\\construction.py:114\u001b[0m, in \u001b[0;36marrays_to_mgr\u001b[1;34m(arrays, columns, index, dtype, verify_integrity, typ, consolidate)\u001b[0m\n\u001b[0;32m    111\u001b[0m \u001b[39mif\u001b[39;00m verify_integrity:\n\u001b[0;32m    112\u001b[0m     \u001b[39m# figure out the index, if necessary\u001b[39;00m\n\u001b[0;32m    113\u001b[0m     \u001b[39mif\u001b[39;00m index \u001b[39mis\u001b[39;00m \u001b[39mNone\u001b[39;00m:\n\u001b[1;32m--> 114\u001b[0m         index \u001b[39m=\u001b[39m _extract_index(arrays)\n\u001b[0;32m    115\u001b[0m     \u001b[39melse\u001b[39;00m:\n\u001b[0;32m    116\u001b[0m         index \u001b[39m=\u001b[39m ensure_index(index)\n",
      "File \u001b[1;32mc:\\ProgramData\\miniconda3\\envs\\mphys-moon\\Lib\\site-packages\\pandas\\core\\internals\\construction.py:677\u001b[0m, in \u001b[0;36m_extract_index\u001b[1;34m(data)\u001b[0m\n\u001b[0;32m    675\u001b[0m lengths \u001b[39m=\u001b[39m \u001b[39mlist\u001b[39m(\u001b[39mset\u001b[39m(raw_lengths))\n\u001b[0;32m    676\u001b[0m \u001b[39mif\u001b[39;00m \u001b[39mlen\u001b[39m(lengths) \u001b[39m>\u001b[39m \u001b[39m1\u001b[39m:\n\u001b[1;32m--> 677\u001b[0m     \u001b[39mraise\u001b[39;00m \u001b[39mValueError\u001b[39;00m(\u001b[39m\"\u001b[39m\u001b[39mAll arrays must be of the same length\u001b[39m\u001b[39m\"\u001b[39m)\n\u001b[0;32m    679\u001b[0m \u001b[39mif\u001b[39;00m have_dicts:\n\u001b[0;32m    680\u001b[0m     \u001b[39mraise\u001b[39;00m \u001b[39mValueError\u001b[39;00m(\n\u001b[0;32m    681\u001b[0m         \u001b[39m\"\u001b[39m\u001b[39mMixing dicts with non-Series may lead to ambiguous ordering.\u001b[39m\u001b[39m\"\u001b[39m\n\u001b[0;32m    682\u001b[0m     )\n",
      "\u001b[1;31mValueError\u001b[0m: All arrays must be of the same length"
     ]
    }
   ],
   "source": [
    "table = soup.find('div', class_ = 'container obs')\n",
    "table = str(table)\n",
    "countries_h2 = soup.find_all('h2',class_='')[2:-1] #Country elements\n",
    "country_lines = np.array([c.sourceline for c in countries_h2])\n",
    "\n",
    "dates_h2 = soup.find_all('h2',class_='required') #Date elements\n",
    "date_lines = np.array([d.sourceline for d in dates_h2])\n",
    "\n",
    "table = str(table)\n",
    "\n",
    "observation_times = []\n",
    "visibilities = []\n",
    "location = []\n",
    "countries = []\n",
    "obs_dates = []\n",
    "vis_info = soup.find_all('div', class_ = 'observ') # More than 1 observ per country\n",
    "for observation in vis_info:\n",
    "\n",
    "    #Need to get last country_lines number less than value\n",
    "    observation_line = observation.sourceline\n",
    "    corresponding_country_index = np.where(country_lines <  observation_line)[0][-1]\n",
    "    country = countries_h2[corresponding_country_index].text\n",
    "\n",
    "    #Need to get last country_lines number less than value\n",
    "    corresponding_date_index = np.where(date_lines <  observation_line)[0][-1]\n",
    "    date = dates_h2[corresponding_date_index].text\n",
    "\n",
    "    spans = observation.find_all('span')\n",
    "    observation_time = spans[0].text.strip()\n",
    "    visibility = spans[1].text.strip()\n",
    "\n",
    "    observation_times.append(observation_time)\n",
    "    visibilities.append(visibility)\n",
    "    countries.append(country)\n",
    "    obs_dates.append(date)\n",
    "\n",
    "\n",
    "\n",
    "cities = re.findall(\"(?<=from )(.*?)(?= City)\",table)\n",
    "states = re.findall(\"(?<=City in )(.*?)(?= State)\",table)\n",
    "cloud_levels = re.findall(\"(?<=the sky was )(.*?)(?=,)\",table)\n",
    "atmospheres = re.findall(\"(?<=atmospheric condition was )(.*?)(?=,)\",table)\n",
    "v_eye = re.findall(\"(?<=the crescent was )(.*?)(?= by naked eye)\",table)\n",
    "v_bino = re.findall(\"(?<=naked eye, the crescent was )(.*?)(?= by binocular)\",table)\n",
    "v_telescope = re.findall(\"(?<=binocular, the crescent was )(.*?)(?= by telescope)\",table)\n",
    "v_ccd = re.findall(\"(?<=telescope, the crescent was )(.*?)(?= by CCD Imaging)\",table)\n",
    "islamic_dates = np.full(len(countries), month_to_search)\n",
    "# print(islamic_dates)\n",
    "# print(cities)\n",
    "# print(states)\n",
    "# print(countries)\n",
    "# print(observation_times)\n",
    "# print(visibilities)\n",
    "\n",
    "print(len(islamic_dates))\n",
    "print(len(cities))\n",
    "print(len(states))\n",
    "print(len(countries))\n",
    "print(len(observation_times))\n",
    "print(len(visibilities))\n",
    "\n",
    "initial_data = {\"Islamic Month\": islamic_dates,\n",
    "                \"Date\": obs_dates,\n",
    "                \"City\": cities,\n",
    "                 \"State\": states,\n",
    "                 \"Country\":countries,\n",
    "                   \"Obs Time\": observation_times,\n",
    "                   \"Cloud Level\": cloud_levels,\n",
    "                   \"Atmosphere\" : atmospheres,\n",
    "                     \"Visibility\":visibilities,\n",
    "                      \"V Eye\": v_eye,\n",
    "                       \"V Binocular\": v_bino ,\n",
    "                        \"V Telescope\": v_telescope ,\n",
    "                        \"V CCD\": v_ccd }\n",
    "data = pd.DataFrame(initial_data)\n",
    "data.to_csv(\"..\\\\Data\\\\ICOP Updated\\\\\"+month_to_search+\".csv\")\n",
    "data.head(100)"
   ]
  }
 ],
 "metadata": {
  "kernelspec": {
   "display_name": "mphys-moon",
   "language": "python",
   "name": "python3"
  },
  "language_info": {
   "codemirror_mode": {
    "name": "ipython",
    "version": 3
   },
   "file_extension": ".py",
   "mimetype": "text/x-python",
   "name": "python",
   "nbconvert_exporter": "python",
   "pygments_lexer": "ipython3",
   "version": "3.11.5"
  }
 },
 "nbformat": 4,
 "nbformat_minor": 2
}
