{
 "cells": [
  {
   "cell_type": "code",
   "execution_count": 5,
   "metadata": {},
   "outputs": [],
   "source": [
    "import pandas as pd\n",
    "import numpy as np\n",
    "from sklearn.model_selection import train_test_split\n",
    "import matplotlib.pyplot as plt"
   ]
  },
  {
   "cell_type": "code",
   "execution_count": 6,
   "metadata": {},
   "outputs": [
    {
     "name": "stderr",
     "output_type": "stream",
     "text": [
      "/raid/scratch/npower/miniconda3/lib/python3.10/site-packages/tqdm/auto.py:21: TqdmWarning: IProgress not found. Please update jupyter and ipywidgets. See https://ipywidgets.readthedocs.io/en/stable/user_install.html\n",
      "  from .autonotebook import tqdm as notebook_tqdm\n"
     ]
    }
   ],
   "source": [
    "import torch\n",
    "import torch.nn as nn\n",
    "import torch.nn.functional as F\n",
    "import torch.optim as optim\n",
    "from torch.utils.data import TensorDataset\n",
    "import wandb"
   ]
  },
  {
   "cell_type": "code",
   "execution_count": 7,
   "metadata": {},
   "outputs": [
    {
     "ename": "NameError",
     "evalue": "name 'PARAMS' is not defined",
     "output_type": "error",
     "traceback": [
      "\u001b[0;31m---------------------------------------------------------------------------\u001b[0m",
      "\u001b[0;31mNameError\u001b[0m                                 Traceback (most recent call last)",
      "\u001b[1;32m/raid/scratch/npower/mphys-moon/Code/moon_visibility_NN_WANDB.ipynb Cell 3\u001b[0m line \u001b[0;36m3\n\u001b[1;32m      <a href='vscode-notebook-cell://ssh-remote%2Blofar8/raid/scratch/npower/mphys-moon/Code/moon_visibility_NN_WANDB.ipynb#X31sdnNjb2RlLXJlbW90ZQ%3D%3D?line=0'>1</a>\u001b[0m wandb\u001b[39m.\u001b[39minit(\n\u001b[1;32m      <a href='vscode-notebook-cell://ssh-remote%2Blofar8/raid/scratch/npower/mphys-moon/Code/moon_visibility_NN_WANDB.ipynb#X31sdnNjb2RlLXJlbW90ZQ%3D%3D?line=1'>2</a>\u001b[0m project\u001b[39m=\u001b[39m\u001b[39m\"\u001b[39m\u001b[39mmoon_visibility_NN_WANDB\u001b[39m\u001b[39m\"\u001b[39m,\n\u001b[0;32m----> <a href='vscode-notebook-cell://ssh-remote%2Blofar8/raid/scratch/npower/mphys-moon/Code/moon_visibility_NN_WANDB.ipynb#X31sdnNjb2RlLXJlbW90ZQ%3D%3D?line=2'>3</a>\u001b[0m         config\u001b[39m=\u001b[39mPARAMS)\n",
      "\u001b[0;31mNameError\u001b[0m: name 'PARAMS' is not defined"
     ]
    }
   ],
   "source": [
    "\n",
    "wandb.init(project=\"moon_visibility_NN_WANDB\",\n",
    "        config=PARAMS)\n"
   ]
  },
  {
   "cell_type": "code",
   "execution_count": null,
   "metadata": {},
   "outputs": [
    {
     "ename": "NameError",
     "evalue": "name 'torch' is not defined",
     "output_type": "error",
     "traceback": [
      "\u001b[0;31m---------------------------------------------------------------------------\u001b[0m",
      "\u001b[0;31mNameError\u001b[0m                                 Traceback (most recent call last)",
      "\u001b[1;32m/raid/scratch/npower/mphys-moon/Code/moon_visibility_NN_WANDB.ipynb Cell 4\u001b[0m line \u001b[0;36m1\n\u001b[1;32m     <a href='vscode-notebook-cell://ssh-remote%2Blofar8/raid/scratch/npower/mphys-moon/Code/moon_visibility_NN_WANDB.ipynb#W2sdnNjb2RlLXJlbW90ZQ%3D%3D?line=14'>15</a>\u001b[0m         \u001b[39mprint\u001b[39m(\u001b[39m'\u001b[39m\u001b[39mCached:   \u001b[39m\u001b[39m'\u001b[39m, \u001b[39mround\u001b[39m(torch\u001b[39m.\u001b[39mcuda\u001b[39m.\u001b[39mmemory_reserved(\u001b[39m0\u001b[39m)\u001b[39m/\u001b[39m\u001b[39m1024\u001b[39m\u001b[39m*\u001b[39m\u001b[39m*\u001b[39m\u001b[39m3\u001b[39m,\u001b[39m1\u001b[39m), \u001b[39m'\u001b[39m\u001b[39mGB\u001b[39m\u001b[39m'\u001b[39m)\n\u001b[1;32m     <a href='vscode-notebook-cell://ssh-remote%2Blofar8/raid/scratch/npower/mphys-moon/Code/moon_visibility_NN_WANDB.ipynb#W2sdnNjb2RlLXJlbW90ZQ%3D%3D?line=15'>16</a>\u001b[0m \u001b[39melse\u001b[39;00m:\n\u001b[0;32m---> <a href='vscode-notebook-cell://ssh-remote%2Blofar8/raid/scratch/npower/mphys-moon/Code/moon_visibility_NN_WANDB.ipynb#W2sdnNjb2RlLXJlbW90ZQ%3D%3D?line=16'>17</a>\u001b[0m     device \u001b[39m=\u001b[39m torch\u001b[39m.\u001b[39mdevice(\u001b[39m'\u001b[39m\u001b[39mcpu\u001b[39m\u001b[39m'\u001b[39m)\n\u001b[1;32m     <a href='vscode-notebook-cell://ssh-remote%2Blofar8/raid/scratch/npower/mphys-moon/Code/moon_visibility_NN_WANDB.ipynb#W2sdnNjb2RlLXJlbW90ZQ%3D%3D?line=18'>19</a>\u001b[0m \u001b[39mprint\u001b[39m(\u001b[39m'\u001b[39m\u001b[39mUsing device:\u001b[39m\u001b[39m'\u001b[39m, device)\n",
      "\u001b[0;31mNameError\u001b[0m: name 'torch' is not defined"
     ]
    }
   ],
   "source": [
    "METHOD = False\n",
    "USE_GPU = False\n",
    "LINUX = True\n",
    "#Use linux file paths\n",
    "\n",
    "\n",
    "if USE_GPU:\n",
    "    #torch.zeros(1).cuda()\n",
    "    #torch.cuda.is_available()\n",
    "    device = torch.device('cuda' if torch.cuda.is_available() else 'cpu')\n",
    "    if device.type == 'cuda':\n",
    "        print(torch.cuda.get_device_name(0))\n",
    "        print('Memory Usage:')\n",
    "        print('Allocated:', round(torch.cuda.memory_allocated(0)/1024**3,1), 'GB')\n",
    "        print('Cached:   ', round(torch.cuda.memory_reserved(0)/1024**3,1), 'GB')\n",
    "else:\n",
    "    device = torch.device('cpu')\n",
    "\n",
    "print('Using device:', device)"
   ]
  },
  {
   "cell_type": "markdown",
   "metadata": {},
   "source": []
  },
  {
   "cell_type": "code",
   "execution_count": null,
   "metadata": {},
   "outputs": [
    {
     "name": "stdout",
     "output_type": "stream",
     "text": [
      "Loaded 3626 rows\n",
      "Selected 3091 rows\n"
     ]
    }
   ],
   "source": [
    "icouk_data_file = '..\\\\Data\\\\icouk_sighting_data_with_params.csv'\n",
    "icop_data_file = '..\\\\Data\\\\icop_ahmed_2020_sighting_data_with_params.csv'\n",
    "alrefay_data_file = '..\\\\Data\\\\alrefay_2018_sighting_data_with_params.csv'\n",
    "allawi_data_file = '..\\\\Data\\\\schaefer_odeh_allawi_2022_sighting_data_with_params.csv'\n",
    "\n",
    "if LINUX:\n",
    "    icouk_data_file = '../Data/icouk_sighting_data_with_params.csv'\n",
    "    icop_data_file = '../Data/icop_ahmed_2020_sighting_data_with_params.csv'\n",
    "    alrefay_data_file = '../Data/alrefay_2018_sighting_data_with_params.csv'\n",
    "    allawi_data_file = '../Data/schaefer_odeh_allawi_2022_sighting_data_with_params.csv'\n",
    "\n",
    "icouk_data = pd.read_csv(icouk_data_file)\n",
    "icop_data = pd.read_csv(icop_data_file)\n",
    "alrefay_data = pd.read_csv(alrefay_data_file)\n",
    "allawi_data = pd.read_csv(allawi_data_file)\n",
    "\n",
    "data = pd.concat([icouk_data,icop_data,alrefay_data,allawi_data])\n",
    "\n",
    "print(f\"Loaded {data.shape[0]} rows\")\n",
    "\n",
    "data = data.drop([\"Index\",\"q\",\"W\",\"q'\",\"W'\",'Visibility'], axis = 1)\n",
    "\n",
    "if METHOD: # method and methods columns, will be changed\n",
    "    data = data.drop('Seen', axis = 1) # replaced by method column\n",
    "    ptype = [r\"Not_seen\", r\"Seen_eye\", r\"Seen_binoculars\", r\"Seen_telescope\", r\"Seen_ccd\"] # CHANGE THIS\n",
    "else:\n",
    "    data = data[data[\"Method\"] !=\"Seen_binoculars\"] #DROP BINOCULARS\n",
    "    data = data[data[\"Method\"] !=\"Seen_ccd\"] #DROP CCD\n",
    "    data = data[data[\"Method\"] !=\"Seen_telescope\"] #DROP TELESCOPE\n",
    "    \n",
    "    data=data.drop(['Method','Methods'], axis = 1)\n",
    "    # List of label options\n",
    "    ptype = [r\"Seen\", r\"Not_seen\"]\n",
    "\n",
    "print(f\"Selected {data.shape[0]} rows\")\n",
    "\n",
    "variable_list =  data.columns.tolist()\n",
    "variable_list.remove('Seen')\n",
    "\n",
    "data['Sunset'] -= data['Date'] # reducing magnitude of date datapoints\n",
    "data['Moonset'] -= data['Date']\n",
    "data['Date'] -= 2400000\n",
    "data['Date'] *= 1/10000"
   ]
  },
  {
   "cell_type": "code",
   "execution_count": null,
   "metadata": {},
   "outputs": [],
   "source": [
    "y = np.array(data['Seen'])\n",
    "X = np.array(data[variable_list])\n",
    "\n",
    "y[y == 'Seen'] = int(1)\n",
    "y[y == 'Not_seen'] = int(0)\n",
    "\n",
    "X_train, X_val_and_test, Y_train, Y_val_and_test = train_test_split(X, y,test_size=0.3)\n",
    "X_val, X_test, Y_val, Y_test = train_test_split(X_val_and_test, Y_val_and_test, test_size=0.5)"
   ]
  },
  {
   "cell_type": "code",
   "execution_count": null,
   "metadata": {},
   "outputs": [],
   "source": [
    "# Define the neural network model\n",
    "class CustomNN(nn.Module):\n",
    "    def __init__(self, input_size, hidden_size, output_size):\n",
    "        super(CustomNN, self).__init__()\n",
    "        self.fc1 = nn.Linear(input_size, hidden_size)\n",
    "        self.fc2 = nn.Linear(hidden_size, hidden_size)\n",
    "        self.fc3 = nn.Linear(hidden_size, output_size)\n",
    "    \n",
    "    def forward(self, x):\n",
    "        x = torch.relu(self.fc1(x))\n",
    "        x = torch.relu(self.fc2(x))\n",
    "        x = self.fc3(x)\n",
    "        return x\n",
    "    \n",
    "input_size = len(variable_list)  # Number of input variables\n",
    "output_size = 2 # for binary output\n",
    "model = CustomNN(input_size, hidden_size, output_size).to(device)\n",
    "\n",
    "# Define binary cross-entropy loss and Adam optimizer\n",
    "criterion = nn.CrossEntropyLoss()\n",
    "optimizer = optim.Adam(model.parameters(), lr=learning_rate, weight_decay = weight_decay) #VARIED BY WANDB\n",
    "scheduler = torch.optim.lr_scheduler.ReduceLROnPlateau(optimizer=optimizer, patience=2, factor=0.9)"
   ]
  },
  {
   "cell_type": "code",
   "execution_count": null,
   "metadata": {},
   "outputs": [],
   "source": [
    "X_train_tensor = torch.from_numpy(X_train).float()\n",
    "Y_train_tensor = torch.from_numpy(Y_train.astype(\"float64\")).float()\n",
    "\n",
    "X_test_tensor = torch.from_numpy(X_test).float()\n",
    "Y_test_tensor = torch.from_numpy(Y_test.astype(\"float64\")).float()"
   ]
  },
  {
   "cell_type": "code",
   "execution_count": null,
   "metadata": {},
   "outputs": [],
   "source": [
    "#data prep\n",
    "trainset = TensorDataset(X_train_tensor, Y_train_tensor)\n",
    "testset = TensorDataset(X_test_tensor, Y_test_tensor)\n",
    "\n",
    "train_loader = torch.utils.data.DataLoader(trainset, batch_size=batch_size, shuffle=True)\n",
    "test_loader = torch.utils.data.DataLoader(testset, batch_size=batch_size, shuffle=True)"
   ]
  },
  {
   "cell_type": "code",
   "execution_count": null,
   "metadata": {},
   "outputs": [],
   "source": [
    "def train(model, trainloader, optimiser, device):\n",
    "\n",
    "    train_loss = 0.0\n",
    "\n",
    "    model.train()\n",
    "    for batch_idx, (data, labels) in enumerate(trainloader):\n",
    "        data, labels = data.to(device), labels.to(device)\n",
    "\n",
    "        optimiser.zero_grad()\n",
    "\n",
    "        p_y = model(data)\n",
    "        loss_criterion = nn.CrossEntropyLoss()\n",
    "        labels = labels.type(torch.LongTensor) \n",
    "        labels = labels.to(device)\n",
    "        loss = loss_criterion(p_y, labels)\n",
    "            \n",
    "        train_loss += loss.item() * data.size(0)\n",
    "\n",
    "        loss.backward()\n",
    "        optimiser.step()\n",
    "\n",
    "    train_loss /= len(trainloader.dataset)\n",
    "    return train_loss\n",
    "\n",
    "def test(model, testloader, device):\n",
    "\n",
    "    correct = 0\n",
    "    test_loss = 0.0\n",
    "\n",
    "    model.eval()\n",
    "    with torch.no_grad():\n",
    "        for batch_idx, (data, labels) in enumerate(testloader):\n",
    "            data, labels = data.to(device), labels.to(device)\n",
    "\n",
    "            p_y = model(data)\n",
    "            loss_criterion = nn.CrossEntropyLoss()\n",
    "            labels = labels.type(torch.LongTensor)\n",
    "            labels = labels.to(device)\n",
    "            loss = loss_criterion(p_y, labels)\n",
    "                \n",
    "            test_loss += loss.item() * data.size(0)\n",
    "\n",
    "            preds = p_y.argmax(dim=1, keepdim=True)\n",
    "            correct += preds.eq(labels.view_as(preds)).sum().item()\n",
    "\n",
    "        test_loss /= len(testloader.dataset)\n",
    "        accuracy = correct / len(testloader.dataset)\n",
    "\n",
    "    return test_loss, accuracy"
   ]
  },
  {
   "cell_type": "code",
   "execution_count": null,
   "metadata": {},
   "outputs": [
    {
     "name": "stdout",
     "output_type": "stream",
     "text": [
      "Final validation error:  11.422413793103448\n"
     ]
    }
   ],
   "source": [
    "for epoch in range(num_epochs):  # loop over the dataset multiple times\n",
    "    \n",
    "    train_loss = train(model, train_loader, optimizer, device)\n",
    "    test_loss, accuracy = test(model, test_loader, device)\n",
    "        \n",
    "    scheduler.step(test_loss)\n",
    "    wandb.log({'Accuracy':accuracy,'Train loss':train_loss,'Test loss':test_loss})\n",
    "    #results = [epoch, train_loss, test_loss, accuracy]\n",
    "    "
   ]
  },
  {
   "cell_type": "code",
   "execution_count": null,
   "metadata": {},
   "outputs": [],
   "source": [
    "wandb.finish()"
   ]
  }
 ],
 "metadata": {
  "kernelspec": {
   "display_name": "base",
   "language": "python",
   "name": "python3"
  },
  "language_info": {
   "codemirror_mode": {
    "name": "ipython",
    "version": 3
   },
   "file_extension": ".py",
   "mimetype": "text/x-python",
   "name": "python",
   "nbconvert_exporter": "python",
   "pygments_lexer": "ipython3",
   "version": "3.10.12"
  }
 },
 "nbformat": 4,
 "nbformat_minor": 2
}
