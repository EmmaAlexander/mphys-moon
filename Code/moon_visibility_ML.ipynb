{
 "cells": [
  {
   "cell_type": "markdown",
   "metadata": {},
   "source": [
    "# Machine learning to predict new crescent moon visibility"
   ]
  },
  {
   "cell_type": "code",
   "execution_count": null,
   "metadata": {},
   "outputs": [],
   "source": [
    "import pandas as pd\n",
    "import numpy as np\n",
    "import seaborn as sns\n",
    "import matplotlib.pyplot as plt\n",
    "\n",
    "# MACHINE LEARNING IMPORTS\n",
    "import sklearn\n",
    "from sklearn import tree\n",
    "from sklearn.model_selection import train_test_split\n",
    "from sklearn import metrics\n",
    "from sklearn.ensemble import RandomForestClassifier\n",
    "from sklearn.metrics import confusion_matrix\n",
    "from sklearn.metrics import ConfusionMatrixDisplay"
   ]
  },
  {
   "cell_type": "code",
   "execution_count": null,
   "metadata": {},
   "outputs": [],
   "source": [
    "data_file = '..\\\\Data\\\\icouk_sighting_data_with_params.csv'\n",
    "data = pd.read_csv(data_file)\n",
    "\n",
    "#data = data.drop('Location', axis = 1)\n",
    "#data = data.drop('Method', axis = 1)\n",
    "\n",
    "data = data.drop('Index', axis = 1)\n",
    "data.head(10)"
   ]
  },
  {
   "cell_type": "code",
   "execution_count": null,
   "metadata": {},
   "outputs": [],
   "source": [
    "# Visualising a couple of variables.\n",
    "variable_list =  data.columns.tolist() #['Hijri year', 'Month', 'Seen?','Lat','Lon']\n",
    " #print(variable_list)\n",
    "\n",
    "# List of label options\n",
    "ptype = [r\"Seen\", r\"Not_seen\"]\n",
    "\n",
    "# Plot data\n",
    "#diag_kind='kde'\n",
    "showpairplot = False\n",
    "if showpairplot == True:\n",
    "   fig = sns.pairplot(data[variable_list], hue = 'Seen', palette = 'bright')\n",
    "\n",
    "# Change location of legend\n",
    "fig._legend.set_bbox_to_anchor((1.05, 0.5))\n",
    "\n",
    "# Add legend\n",
    "for t, l in zip(fig._legend.texts, ptype):\n",
    "   t.set_text(str(t.get_text()) + \" - \" + str(l))\n",
    "\n",
    "\n",
    "plt.show()\n"
   ]
  },
  {
   "cell_type": "code",
   "execution_count": null,
   "metadata": {},
   "outputs": [],
   "source": [
    "# List of features without label feature\n",
    "features = variable_list\n",
    "features.remove('Seen')\n",
    "#print(features)\n",
    "\n",
    "X = data[features]\n",
    "y = np.array(data['Seen'])\n",
    "\n",
    "x_train, x_test, y_train, y_test = train_test_split(X, y, test_size=0.2, random_state=1) # 80/20 training/test split"
   ]
  },
  {
   "cell_type": "code",
   "execution_count": null,
   "metadata": {},
   "outputs": [],
   "source": [
    "# Produce randomforest classifier model and fit to training data\n",
    "# Keep the random_state=1 in your arguments\n",
    "# gini or entropy\n",
    "rf = RandomForestClassifier(n_estimators=100, criterion = 'gini', max_depth=8,random_state=1)\n",
    "\n",
    "# Fitting takes the input and \"truth\" data for classification purposes\n",
    "rf.fit(x_train, y_train)"
   ]
  },
  {
   "cell_type": "code",
   "execution_count": null,
   "metadata": {},
   "outputs": [],
   "source": [
    "# Produce predictions for the classification of your training dataset using your model:\n",
    "y_pred = rf.predict(x_train)\n",
    "\n",
    "# plot the accuracies of said predictions\n",
    "print(\"Accuracy on training dataset:\",metrics.accuracy_score(y_train, y_pred))\n",
    "rf_acc_train = metrics.accuracy_score(y_train, y_pred)\n",
    "y_pred = rf.predict(x_test)\n",
    "print(\"Accuracy on testing dataset:\",metrics.accuracy_score(y_test, y_pred))\n",
    "rf_acc_test = metrics.accuracy_score(y_test, y_pred)"
   ]
  },
  {
   "cell_type": "code",
   "execution_count": null,
   "metadata": {},
   "outputs": [],
   "source": [
    "# plot your confusion matrix\n",
    "cm = confusion_matrix(y_test, y_pred ,normalize = 'true')\n",
    "disp = ConfusionMatrixDisplay(confusion_matrix=cm, display_labels=ptype)\n",
    "disp.plot()\n",
    "plt.show()"
   ]
  },
  {
   "cell_type": "code",
   "execution_count": null,
   "metadata": {},
   "outputs": [],
   "source": [
    "# Plot importance\n",
    "importance = rf.feature_importances_\n",
    "ytix = features\n",
    "\n",
    "plt.barh(range(len(features)), importance)\n",
    "plt.yticks(range(len(features)), features)\n",
    "plt.xlabel(\"Importance\")\n",
    "plt.ylabel(\"Features\")\n",
    "plt.show()"
   ]
  }
 ],
 "metadata": {
  "kernelspec": {
   "display_name": "Python 3 (ipykernel)",
   "language": "python",
   "name": "python3"
  },
  "language_info": {
   "codemirror_mode": {
    "name": "ipython",
    "version": 3
   },
   "file_extension": ".py",
   "mimetype": "text/x-python",
   "name": "python",
   "nbconvert_exporter": "python",
   "pygments_lexer": "ipython3",
   "version": "3.11.5"
  }
 },
 "nbformat": 4,
 "nbformat_minor": 4
}
