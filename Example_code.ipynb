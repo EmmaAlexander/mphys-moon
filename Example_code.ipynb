{
 "cells": [
  {
   "cell_type": "code",
   "execution_count": 1,
   "id": "2cf1b5a3",
   "metadata": {},
   "outputs": [],
   "source": [
    "# possibly useful python libraries\n",
    "# the usual/ general \n",
    "import matplotlib.pyplot as plt\n",
    "import numpy as np\n",
    "import os\n",
    "import pandas as pd\n",
    "import csv\n",
    "import astropy.units as u\n",
    "\n",
    "# astropy/plan\n",
    "import astropy as ap\n",
    "from astropy.time import Time\n",
    "from astropy.coordinates import solar_system_ephemeris, SkyCoord, EarthLocation, AltAz, get_body\n",
    "from astroplan import Observer\n",
    "\n",
    "# getting data from the web\n",
    "import urllib.request\n",
    "import urllib.error\n",
    "from bs4 import BeautifulSoup\n",
    "\n",
    "# useful for mapping\n",
    "import geocoder\n",
    "import codecs\n",
    "import json\n",
    "import geopandas"
   ]
  },
  {
   "cell_type": "code",
   "execution_count": 2,
   "id": "d0eae063",
   "metadata": {},
   "outputs": [
    {
     "name": "stdout",
     "output_type": "stream",
     "text": [
      "Getting sunset and moonset times for specified date:\n",
      "2460216.2417206415 2460215.6741441586\n",
      "What units are being used here?\n",
      "Moon altitude at moonset time: 0.0005293610449191113 deg\n",
      "Sun altitude at moonset time: 0.00045820480251042723 deg\n",
      "Near enough! (Q: why is it not exactly 0?)\n"
     ]
    }
   ],
   "source": [
    "# example of using astropy/plan with hard-coded variables\n",
    "\n",
    "def GetMoonSunSetTime():\n",
    "    # specify your date (a time is needed so let's put midnight)\n",
    "    d=Time(\"2023-09-28 00:00\")\n",
    "    \n",
    "    # specify a location\n",
    "    lat=53.45 #latitude in degrees\n",
    "    lon=-2.23 #longitude in degrees\n",
    "    coords=EarthLocation.from_geodetic(lon,lat)\n",
    "    \n",
    "    #create an observer object from the location\n",
    "    obs = Observer(location=coords, timezone=\"UTC\")\n",
    "    print(\"Getting sunset and moonset times for specified date:\")\n",
    "    moonset=obs.moon_set_time(time=d,which='next')\n",
    "    sunset=obs.sun_set_time(time=d,which='next')\n",
    "    print(sunset,moonset)\n",
    "    print(\"What units are being used here?\")\n",
    "    \n",
    "    # demonstration of code to calculate astronomical coordinates\n",
    "    # check altitude is zero at setting time!\n",
    "    with solar_system_ephemeris.set('builtin'):\n",
    "        moon_skycoord = get_body('moon', moonset, coords)\n",
    "        sun_skycoord = get_body('sun', sunset, coords) \n",
    "    moon_altaz=moon_skycoord.transform_to(AltAz(obstime=moonset,location=coords))\n",
    "    sun_altaz=sun_skycoord.transform_to(AltAz(obstime=sunset,location=coords))\n",
    "    print(\"Moon altitude at moonset time: {}\".format(moon_altaz.alt))\n",
    "    print(\"Sun altitude at moonset time: {}\".format(sun_altaz.alt))\n",
    "    print(\"Near enough! (Q: why is it not exactly 0?)\")\n",
    "    \n",
    "GetMoonSunSetTime()"
   ]
  },
  {
   "cell_type": "code",
   "execution_count": 3,
   "id": "2e5e9c1b",
   "metadata": {},
   "outputs": [
    {
     "name": "stdout",
     "output_type": "stream",
     "text": [
      "53.45,-2.23333\n"
     ]
    }
   ],
   "source": [
    "# example of looking up a place name and getting coordinate information\n",
    "def get_lat_lon(location):\n",
    "    # key is astronemma as that's my account name!\n",
    "    # if you want to use this please sign up yourself\n",
    "    # https://geocoder.readthedocs.io\n",
    "    g = geocoder.geonames(location, key='astronemma')\n",
    "    output=str(g.lat)+\",\"+str(g.lng)\n",
    "    return output\n",
    "\n",
    "loc=\"Manchester, UK\"\n",
    "locstr=get_lat_lon(loc)\n",
    "print(locstr)"
   ]
  },
  {
   "cell_type": "code",
   "execution_count": 4,
   "id": "bd263e82",
   "metadata": {},
   "outputs": [],
   "source": [
    "# Highly reccomend playing with these matplotlib settings to make your plots look beautiful by default!\n",
    "def update_plot_params():\n",
    "    plt.rcParams['mathtext.fontset'] = 'stix'\n",
    "    plt.rcParams['font.family'] = 'STIXGeneral'\n",
    "\n",
    "    SMALL_SIZE = 8\n",
    "    MEDIUM_SIZE = 10\n",
    "    BIGGER_SIZE = 12\n",
    "\n",
    "    plt.rc('font', size=MEDIUM_SIZE)          # controls default text sizes\n",
    "    plt.rc('axes', titlesize=MEDIUM_SIZE)     # fontsize of the axes title\n",
    "    plt.rc('axes', labelsize=MEDIUM_SIZE)    # fontsize of the x and y labels\n",
    "    plt.rc('xtick', labelsize=SMALL_SIZE)    # fontsize of the tick labels\n",
    "    plt.rc('ytick', labelsize=SMALL_SIZE)    # fontsize of the tick labels\n",
    "    plt.rc('legend', fontsize=SMALL_SIZE)    # legend fontsize"
   ]
  },
  {
   "cell_type": "code",
   "execution_count": null,
   "id": "5df89bf3",
   "metadata": {},
   "outputs": [],
   "source": []
  }
 ],
 "metadata": {
  "kernelspec": {
   "display_name": "Python 3 (ipykernel)",
   "language": "python",
   "name": "python3"
  },
  "language_info": {
   "codemirror_mode": {
    "name": "ipython",
    "version": 3
   },
   "file_extension": ".py",
   "mimetype": "text/x-python",
   "name": "python",
   "nbconvert_exporter": "python",
   "pygments_lexer": "ipython3",
   "version": "3.10.12"
  }
 },
 "nbformat": 4,
 "nbformat_minor": 5
}
