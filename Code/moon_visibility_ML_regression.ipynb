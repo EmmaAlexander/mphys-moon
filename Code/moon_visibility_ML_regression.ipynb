{
 "cells": [
  {
   "cell_type": "markdown",
   "metadata": {},
   "source": [
    "# Machine learning to predict new crescent moon visibility"
   ]
  },
  {
   "cell_type": "markdown",
   "metadata": {},
   "source": [
    "## Imports"
   ]
  },
  {
   "cell_type": "code",
   "execution_count": 11,
   "metadata": {},
   "outputs": [],
   "source": [
    "import pandas as pd\n",
    "import numpy as np\n",
    "import seaborn as sns\n",
    "import matplotlib.pyplot as plt\n",
    "\n",
    "# MACHINE LEARNING IMPORTS\n",
    "from sklearn.model_selection import train_test_split\n",
    "from sklearn.ensemble import RandomForestRegressor\n",
    "from sklearn.metrics import confusion_matrix, ConfusionMatrixDisplay, roc_curve, roc_auc_score, mean_absolute_error\n",
    "from sklearn.model_selection import GridSearchCV\n",
    "from sklearn.multioutput import MultiOutputClassifier, MultiOutputRegressor\n",
    "from sklearn.preprocessing import MultiLabelBinarizer"
   ]
  },
  {
   "cell_type": "markdown",
   "metadata": {},
   "source": [
    "## Reading in data"
   ]
  },
  {
   "cell_type": "code",
   "execution_count": 2,
   "metadata": {},
   "outputs": [],
   "source": [
    "METHOD = True # replace seen column with method seen column\n",
    "RANDOM = False # replace data with random arrays\n",
    "CLOUDCUT = False # cut all complete cloud cover data points\n",
    "GRID_SEARCH = False # gridsearch for best random forest hyperparameters\n",
    "REPEAT_ACCURACY = False #Run 20 times and calculate average accuracy"
   ]
  },
  {
   "cell_type": "code",
   "execution_count": 3,
   "metadata": {},
   "outputs": [
    {
     "name": "stdout",
     "output_type": "stream",
     "text": [
      "Loaded 3626 rows\n"
     ]
    },
    {
     "data": {
      "text/html": [
       "<div>\n",
       "<style scoped>\n",
       "    .dataframe tbody tr th:only-of-type {\n",
       "        vertical-align: middle;\n",
       "    }\n",
       "\n",
       "    .dataframe tbody tr th {\n",
       "        vertical-align: top;\n",
       "    }\n",
       "\n",
       "    .dataframe thead th {\n",
       "        text-align: right;\n",
       "    }\n",
       "</style>\n",
       "<table border=\"1\" class=\"dataframe\">\n",
       "  <thead>\n",
       "    <tr style=\"text-align: right;\">\n",
       "      <th></th>\n",
       "      <th>Date</th>\n",
       "      <th>Latitude</th>\n",
       "      <th>Longitude</th>\n",
       "      <th>Moon Age</th>\n",
       "      <th>Sunset</th>\n",
       "      <th>Moonset</th>\n",
       "      <th>Lag</th>\n",
       "      <th>Moon Alt</th>\n",
       "      <th>Moon Az</th>\n",
       "      <th>Sun Alt</th>\n",
       "      <th>Sun Az</th>\n",
       "      <th>Moon-Earth Dist</th>\n",
       "      <th>Sun-Moon Dist</th>\n",
       "      <th>ARCL</th>\n",
       "      <th>ARCV</th>\n",
       "      <th>DAZ</th>\n",
       "      <th>Illumination</th>\n",
       "      <th>Parallax</th>\n",
       "      <th>Cloud Level</th>\n",
       "      <th>Visibility</th>\n",
       "    </tr>\n",
       "  </thead>\n",
       "  <tbody>\n",
       "    <tr>\n",
       "      <th>0</th>\n",
       "      <td>2.457309e+06</td>\n",
       "      <td>53.95763</td>\n",
       "      <td>-1.08271</td>\n",
       "      <td>0.722</td>\n",
       "      <td>2.457309e+06</td>\n",
       "      <td>2.457309e+06</td>\n",
       "      <td>27.05935</td>\n",
       "      <td>1.51838</td>\n",
       "      <td>252.00232</td>\n",
       "      <td>-1.73173</td>\n",
       "      <td>259.02584</td>\n",
       "      <td>0.00271</td>\n",
       "      <td>0.99508</td>\n",
       "      <td>7.73820</td>\n",
       "      <td>3.25011</td>\n",
       "      <td>7.02353</td>\n",
       "      <td>0.00455</td>\n",
       "      <td>54.14174</td>\n",
       "      <td>1.0</td>\n",
       "      <td>0.0</td>\n",
       "    </tr>\n",
       "    <tr>\n",
       "      <th>1</th>\n",
       "      <td>2.457339e+06</td>\n",
       "      <td>53.95763</td>\n",
       "      <td>-1.08271</td>\n",
       "      <td>1.687</td>\n",
       "      <td>2.457339e+06</td>\n",
       "      <td>2.457339e+06</td>\n",
       "      <td>57.80819</td>\n",
       "      <td>3.36486</td>\n",
       "      <td>235.23797</td>\n",
       "      <td>-3.31808</td>\n",
       "      <td>243.97528</td>\n",
       "      <td>0.00266</td>\n",
       "      <td>0.98725</td>\n",
       "      <td>10.99616</td>\n",
       "      <td>6.68294</td>\n",
       "      <td>8.73731</td>\n",
       "      <td>0.00918</td>\n",
       "      <td>55.04632</td>\n",
       "      <td>0.5</td>\n",
       "      <td>0.0</td>\n",
       "    </tr>\n",
       "    <tr>\n",
       "      <th>2</th>\n",
       "      <td>2.457398e+06</td>\n",
       "      <td>53.95763</td>\n",
       "      <td>-1.08271</td>\n",
       "      <td>0.685</td>\n",
       "      <td>2.457398e+06</td>\n",
       "      <td>2.457398e+06</td>\n",
       "      <td>67.20869</td>\n",
       "      <td>3.82122</td>\n",
       "      <td>233.19221</td>\n",
       "      <td>-3.52379</td>\n",
       "      <td>236.46999</td>\n",
       "      <td>0.00252</td>\n",
       "      <td>0.98095</td>\n",
       "      <td>8.04228</td>\n",
       "      <td>7.34501</td>\n",
       "      <td>3.27778</td>\n",
       "      <td>0.00492</td>\n",
       "      <td>58.03155</td>\n",
       "      <td>0.5</td>\n",
       "      <td>0.0</td>\n",
       "    </tr>\n",
       "    <tr>\n",
       "      <th>3</th>\n",
       "      <td>2.457428e+06</td>\n",
       "      <td>53.58333</td>\n",
       "      <td>-2.43333</td>\n",
       "      <td>1.738</td>\n",
       "      <td>2.457428e+06</td>\n",
       "      <td>2.457428e+06</td>\n",
       "      <td>94.68585</td>\n",
       "      <td>6.40548</td>\n",
       "      <td>245.47535</td>\n",
       "      <td>-5.81151</td>\n",
       "      <td>253.06492</td>\n",
       "      <td>0.00244</td>\n",
       "      <td>0.98427</td>\n",
       "      <td>14.37485</td>\n",
       "      <td>12.21699</td>\n",
       "      <td>7.58956</td>\n",
       "      <td>0.01565</td>\n",
       "      <td>59.59324</td>\n",
       "      <td>1.0</td>\n",
       "      <td>0.0</td>\n",
       "    </tr>\n",
       "    <tr>\n",
       "      <th>4</th>\n",
       "      <td>2.457428e+06</td>\n",
       "      <td>52.63860</td>\n",
       "      <td>-1.13169</td>\n",
       "      <td>1.736</td>\n",
       "      <td>2.457428e+06</td>\n",
       "      <td>2.457428e+06</td>\n",
       "      <td>93.09817</td>\n",
       "      <td>6.46498</td>\n",
       "      <td>246.07108</td>\n",
       "      <td>-5.86126</td>\n",
       "      <td>253.40983</td>\n",
       "      <td>0.00244</td>\n",
       "      <td>0.98427</td>\n",
       "      <td>14.33820</td>\n",
       "      <td>12.32624</td>\n",
       "      <td>7.33875</td>\n",
       "      <td>0.01557</td>\n",
       "      <td>59.58563</td>\n",
       "      <td>0.0</td>\n",
       "      <td>1.0</td>\n",
       "    </tr>\n",
       "    <tr>\n",
       "      <th>5</th>\n",
       "      <td>2.457457e+06</td>\n",
       "      <td>52.63860</td>\n",
       "      <td>-1.13169</td>\n",
       "      <td>0.761</td>\n",
       "      <td>2.457457e+06</td>\n",
       "      <td>2.457457e+06</td>\n",
       "      <td>51.24933</td>\n",
       "      <td>3.50315</td>\n",
       "      <td>262.44978</td>\n",
       "      <td>-3.43885</td>\n",
       "      <td>267.72094</td>\n",
       "      <td>0.00240</td>\n",
       "      <td>0.99075</td>\n",
       "      <td>8.71450</td>\n",
       "      <td>6.94200</td>\n",
       "      <td>5.27116</td>\n",
       "      <td>0.00577</td>\n",
       "      <td>60.83454</td>\n",
       "      <td>1.0</td>\n",
       "      <td>0.0</td>\n",
       "    </tr>\n",
       "    <tr>\n",
       "      <th>6</th>\n",
       "      <td>2.457457e+06</td>\n",
       "      <td>51.87967</td>\n",
       "      <td>-0.41748</td>\n",
       "      <td>0.759</td>\n",
       "      <td>2.457457e+06</td>\n",
       "      <td>2.457457e+06</td>\n",
       "      <td>50.69011</td>\n",
       "      <td>3.53057</td>\n",
       "      <td>262.58959</td>\n",
       "      <td>-3.46038</td>\n",
       "      <td>267.74070</td>\n",
       "      <td>0.00240</td>\n",
       "      <td>0.99075</td>\n",
       "      <td>8.68183</td>\n",
       "      <td>6.99094</td>\n",
       "      <td>5.15110</td>\n",
       "      <td>0.00573</td>\n",
       "      <td>60.83247</td>\n",
       "      <td>0.5</td>\n",
       "      <td>0.0</td>\n",
       "    </tr>\n",
       "    <tr>\n",
       "      <th>7</th>\n",
       "      <td>2.457457e+06</td>\n",
       "      <td>51.39822</td>\n",
       "      <td>-0.19837</td>\n",
       "      <td>0.759</td>\n",
       "      <td>2.457457e+06</td>\n",
       "      <td>2.457457e+06</td>\n",
       "      <td>50.38849</td>\n",
       "      <td>3.55198</td>\n",
       "      <td>262.67600</td>\n",
       "      <td>-3.47683</td>\n",
       "      <td>267.75591</td>\n",
       "      <td>0.00240</td>\n",
       "      <td>0.99075</td>\n",
       "      <td>8.67048</td>\n",
       "      <td>7.02881</td>\n",
       "      <td>5.07991</td>\n",
       "      <td>0.00571</td>\n",
       "      <td>60.83099</td>\n",
       "      <td>1.0</td>\n",
       "      <td>0.0</td>\n",
       "    </tr>\n",
       "    <tr>\n",
       "      <th>8</th>\n",
       "      <td>2.457457e+06</td>\n",
       "      <td>53.95763</td>\n",
       "      <td>-1.08271</td>\n",
       "      <td>0.760</td>\n",
       "      <td>2.457457e+06</td>\n",
       "      <td>2.457457e+06</td>\n",
       "      <td>51.96781</td>\n",
       "      <td>3.43075</td>\n",
       "      <td>262.20043</td>\n",
       "      <td>-3.37986</td>\n",
       "      <td>267.64850</td>\n",
       "      <td>0.00240</td>\n",
       "      <td>0.99075</td>\n",
       "      <td>8.71957</td>\n",
       "      <td>6.81061</td>\n",
       "      <td>5.44807</td>\n",
       "      <td>0.00578</td>\n",
       "      <td>60.83909</td>\n",
       "      <td>1.0</td>\n",
       "      <td>0.0</td>\n",
       "    </tr>\n",
       "    <tr>\n",
       "      <th>9</th>\n",
       "      <td>2.457487e+06</td>\n",
       "      <td>53.58333</td>\n",
       "      <td>-2.43333</td>\n",
       "      <td>1.816</td>\n",
       "      <td>2.457487e+06</td>\n",
       "      <td>2.457487e+06</td>\n",
       "      <td>95.45765</td>\n",
       "      <td>6.69411</td>\n",
       "      <td>277.61713</td>\n",
       "      <td>-6.00369</td>\n",
       "      <td>291.47930</td>\n",
       "      <td>0.00240</td>\n",
       "      <td>0.99931</td>\n",
       "      <td>18.77762</td>\n",
       "      <td>12.69780</td>\n",
       "      <td>13.86218</td>\n",
       "      <td>0.02661</td>\n",
       "      <td>60.77741</td>\n",
       "      <td>1.0</td>\n",
       "      <td>0.0</td>\n",
       "    </tr>\n",
       "  </tbody>\n",
       "</table>\n",
       "</div>"
      ],
      "text/plain": [
       "           Date  Latitude  Longitude  Moon Age        Sunset       Moonset  \\\n",
       "0  2.457309e+06  53.95763   -1.08271     0.722  2.457309e+06  2.457309e+06   \n",
       "1  2.457339e+06  53.95763   -1.08271     1.687  2.457339e+06  2.457339e+06   \n",
       "2  2.457398e+06  53.95763   -1.08271     0.685  2.457398e+06  2.457398e+06   \n",
       "3  2.457428e+06  53.58333   -2.43333     1.738  2.457428e+06  2.457428e+06   \n",
       "4  2.457428e+06  52.63860   -1.13169     1.736  2.457428e+06  2.457428e+06   \n",
       "5  2.457457e+06  52.63860   -1.13169     0.761  2.457457e+06  2.457457e+06   \n",
       "6  2.457457e+06  51.87967   -0.41748     0.759  2.457457e+06  2.457457e+06   \n",
       "7  2.457457e+06  51.39822   -0.19837     0.759  2.457457e+06  2.457457e+06   \n",
       "8  2.457457e+06  53.95763   -1.08271     0.760  2.457457e+06  2.457457e+06   \n",
       "9  2.457487e+06  53.58333   -2.43333     1.816  2.457487e+06  2.457487e+06   \n",
       "\n",
       "        Lag  Moon Alt    Moon Az  Sun Alt     Sun Az  Moon-Earth Dist  \\\n",
       "0  27.05935   1.51838  252.00232 -1.73173  259.02584          0.00271   \n",
       "1  57.80819   3.36486  235.23797 -3.31808  243.97528          0.00266   \n",
       "2  67.20869   3.82122  233.19221 -3.52379  236.46999          0.00252   \n",
       "3  94.68585   6.40548  245.47535 -5.81151  253.06492          0.00244   \n",
       "4  93.09817   6.46498  246.07108 -5.86126  253.40983          0.00244   \n",
       "5  51.24933   3.50315  262.44978 -3.43885  267.72094          0.00240   \n",
       "6  50.69011   3.53057  262.58959 -3.46038  267.74070          0.00240   \n",
       "7  50.38849   3.55198  262.67600 -3.47683  267.75591          0.00240   \n",
       "8  51.96781   3.43075  262.20043 -3.37986  267.64850          0.00240   \n",
       "9  95.45765   6.69411  277.61713 -6.00369  291.47930          0.00240   \n",
       "\n",
       "   Sun-Moon Dist      ARCL      ARCV       DAZ  Illumination  Parallax  \\\n",
       "0        0.99508   7.73820   3.25011   7.02353       0.00455  54.14174   \n",
       "1        0.98725  10.99616   6.68294   8.73731       0.00918  55.04632   \n",
       "2        0.98095   8.04228   7.34501   3.27778       0.00492  58.03155   \n",
       "3        0.98427  14.37485  12.21699   7.58956       0.01565  59.59324   \n",
       "4        0.98427  14.33820  12.32624   7.33875       0.01557  59.58563   \n",
       "5        0.99075   8.71450   6.94200   5.27116       0.00577  60.83454   \n",
       "6        0.99075   8.68183   6.99094   5.15110       0.00573  60.83247   \n",
       "7        0.99075   8.67048   7.02881   5.07991       0.00571  60.83099   \n",
       "8        0.99075   8.71957   6.81061   5.44807       0.00578  60.83909   \n",
       "9        0.99931  18.77762  12.69780  13.86218       0.02661  60.77741   \n",
       "\n",
       "   Cloud Level  Visibility  \n",
       "0          1.0         0.0  \n",
       "1          0.5         0.0  \n",
       "2          0.5         0.0  \n",
       "3          1.0         0.0  \n",
       "4          0.0         1.0  \n",
       "5          1.0         0.0  \n",
       "6          0.5         0.0  \n",
       "7          1.0         0.0  \n",
       "8          1.0         0.0  \n",
       "9          1.0         0.0  "
      ]
     },
     "execution_count": 3,
     "metadata": {},
     "output_type": "execute_result"
    }
   ],
   "source": [
    "icouk_data_file = '..\\\\Data\\\\icouk_sighting_data_with_params.csv'\n",
    "icop_data_file = '..\\\\Data\\\\icop_ahmed_2020_sighting_data_with_params.csv'\n",
    "alrefay_data_file = '..\\\\Data\\\\alrefay_2018_sighting_data_with_params.csv'\n",
    "allawi_data_file = '..\\\\Data\\\\schaefer_odeh_allawi_2022_sighting_data_with_params.csv'\n",
    "\n",
    "icouk_data = pd.read_csv(icouk_data_file)\n",
    "icop_data = pd.read_csv(icop_data_file)\n",
    "alrefay_data = pd.read_csv(alrefay_data_file)\n",
    "allawi_data = pd.read_csv(allawi_data_file)\n",
    "\n",
    "data = pd.concat([icouk_data,icop_data,alrefay_data,allawi_data])\n",
    "\n",
    "print(f\"Loaded {data.shape[0]} rows\")\n",
    "\n",
    "data = data.drop([\"Index\",\"q\",\"W\",\"q'\",\"W'\"], axis = 1)\n",
    "data = data.drop([\"Seen\",'Method','Methods'], axis = 1) # replaced by method column\n",
    "\n",
    "data.head(10)"
   ]
  },
  {
   "cell_type": "markdown",
   "metadata": {},
   "source": [
    "## ML Training"
   ]
  },
  {
   "cell_type": "code",
   "execution_count": 4,
   "metadata": {},
   "outputs": [],
   "source": [
    "# List of features without label feature\n",
    "variable_list =  data.columns.tolist()\n",
    "features = variable_list\n",
    "#features.remove('Seen')\n",
    "#print(features)\n",
    "\n",
    "y = np.array(data['Visibility'])\n",
    "features.remove('Visibility')\n",
    "\n",
    "X = data[features]\n",
    "\n",
    "x_train, x_test, y_train, y_test = train_test_split(X, y, test_size=0.2) # 80/20 training/test split"
   ]
  },
  {
   "cell_type": "code",
   "execution_count": 6,
   "metadata": {},
   "outputs": [
    {
     "data": {
      "text/html": [
       "<style>#sk-container-id-1 {color: black;background-color: white;}#sk-container-id-1 pre{padding: 0;}#sk-container-id-1 div.sk-toggleable {background-color: white;}#sk-container-id-1 label.sk-toggleable__label {cursor: pointer;display: block;width: 100%;margin-bottom: 0;padding: 0.3em;box-sizing: border-box;text-align: center;}#sk-container-id-1 label.sk-toggleable__label-arrow:before {content: \"▸\";float: left;margin-right: 0.25em;color: #696969;}#sk-container-id-1 label.sk-toggleable__label-arrow:hover:before {color: black;}#sk-container-id-1 div.sk-estimator:hover label.sk-toggleable__label-arrow:before {color: black;}#sk-container-id-1 div.sk-toggleable__content {max-height: 0;max-width: 0;overflow: hidden;text-align: left;background-color: #f0f8ff;}#sk-container-id-1 div.sk-toggleable__content pre {margin: 0.2em;color: black;border-radius: 0.25em;background-color: #f0f8ff;}#sk-container-id-1 input.sk-toggleable__control:checked~div.sk-toggleable__content {max-height: 200px;max-width: 100%;overflow: auto;}#sk-container-id-1 input.sk-toggleable__control:checked~label.sk-toggleable__label-arrow:before {content: \"▾\";}#sk-container-id-1 div.sk-estimator input.sk-toggleable__control:checked~label.sk-toggleable__label {background-color: #d4ebff;}#sk-container-id-1 div.sk-label input.sk-toggleable__control:checked~label.sk-toggleable__label {background-color: #d4ebff;}#sk-container-id-1 input.sk-hidden--visually {border: 0;clip: rect(1px 1px 1px 1px);clip: rect(1px, 1px, 1px, 1px);height: 1px;margin: -1px;overflow: hidden;padding: 0;position: absolute;width: 1px;}#sk-container-id-1 div.sk-estimator {font-family: monospace;background-color: #f0f8ff;border: 1px dotted black;border-radius: 0.25em;box-sizing: border-box;margin-bottom: 0.5em;}#sk-container-id-1 div.sk-estimator:hover {background-color: #d4ebff;}#sk-container-id-1 div.sk-parallel-item::after {content: \"\";width: 100%;border-bottom: 1px solid gray;flex-grow: 1;}#sk-container-id-1 div.sk-label:hover label.sk-toggleable__label {background-color: #d4ebff;}#sk-container-id-1 div.sk-serial::before {content: \"\";position: absolute;border-left: 1px solid gray;box-sizing: border-box;top: 0;bottom: 0;left: 50%;z-index: 0;}#sk-container-id-1 div.sk-serial {display: flex;flex-direction: column;align-items: center;background-color: white;padding-right: 0.2em;padding-left: 0.2em;position: relative;}#sk-container-id-1 div.sk-item {position: relative;z-index: 1;}#sk-container-id-1 div.sk-parallel {display: flex;align-items: stretch;justify-content: center;background-color: white;position: relative;}#sk-container-id-1 div.sk-item::before, #sk-container-id-1 div.sk-parallel-item::before {content: \"\";position: absolute;border-left: 1px solid gray;box-sizing: border-box;top: 0;bottom: 0;left: 50%;z-index: -1;}#sk-container-id-1 div.sk-parallel-item {display: flex;flex-direction: column;z-index: 1;position: relative;background-color: white;}#sk-container-id-1 div.sk-parallel-item:first-child::after {align-self: flex-end;width: 50%;}#sk-container-id-1 div.sk-parallel-item:last-child::after {align-self: flex-start;width: 50%;}#sk-container-id-1 div.sk-parallel-item:only-child::after {width: 0;}#sk-container-id-1 div.sk-dashed-wrapped {border: 1px dashed gray;margin: 0 0.4em 0.5em 0.4em;box-sizing: border-box;padding-bottom: 0.4em;background-color: white;}#sk-container-id-1 div.sk-label label {font-family: monospace;font-weight: bold;display: inline-block;line-height: 1.2em;}#sk-container-id-1 div.sk-label-container {text-align: center;}#sk-container-id-1 div.sk-container {/* jupyter's `normalize.less` sets `[hidden] { display: none; }` but bootstrap.min.css set `[hidden] { display: none !important; }` so we also need the `!important` here to be able to override the default hidden behavior on the sphinx rendered scikit-learn.org. See: https://github.com/scikit-learn/scikit-learn/issues/21755 */display: inline-block !important;position: relative;}#sk-container-id-1 div.sk-text-repr-fallback {display: none;}</style><div id=\"sk-container-id-1\" class=\"sk-top-container\"><div class=\"sk-text-repr-fallback\"><pre>RandomForestRegressor(n_jobs=-1)</pre><b>In a Jupyter environment, please rerun this cell to show the HTML representation or trust the notebook. <br />On GitHub, the HTML representation is unable to render, please try loading this page with nbviewer.org.</b></div><div class=\"sk-container\" hidden><div class=\"sk-item\"><div class=\"sk-estimator sk-toggleable\"><input class=\"sk-toggleable__control sk-hidden--visually\" id=\"sk-estimator-id-1\" type=\"checkbox\" checked><label for=\"sk-estimator-id-1\" class=\"sk-toggleable__label sk-toggleable__label-arrow\">RandomForestRegressor</label><div class=\"sk-toggleable__content\"><pre>RandomForestRegressor(n_jobs=-1)</pre></div></div></div></div></div>"
      ],
      "text/plain": [
       "RandomForestRegressor(n_jobs=-1)"
      ]
     },
     "execution_count": 6,
     "metadata": {},
     "output_type": "execute_result"
    }
   ],
   "source": [
    "# Produce randomforest classifier model and fit to training data\n",
    "# Keep the random_state=1 in your arguments\n",
    "# gini or entropy\n",
    "rf = RandomForestRegressor(n_estimators=100,n_jobs=-1)\n",
    "# Fitting takes the input and \"truth\" data for classification purposes\n",
    "rf.fit(x_train, y_train)"
   ]
  },
  {
   "cell_type": "code",
   "execution_count": 29,
   "metadata": {},
   "outputs": [
    {
     "name": "stdout",
     "output_type": "stream",
     "text": [
      "Mean abs error on training dataset: 0.057475786124794745\n",
      "Mean abs error on testing dataset: 0.17029151908697363\n"
     ]
    }
   ],
   "source": [
    "# Produce predictions for the classification of your training dataset using your model:\n",
    "y_pred = rf.predict(x_train)\n",
    "\n",
    "# plot the accuracies of said predictions\n",
    "print(\"Mean abs error on training dataset:\",mean_absolute_error(y_train, y_pred))\n",
    "rf_acc_train = mean_absolute_error(y_train, y_pred)\n",
    "y_pred = rf.predict(x_test)\n",
    "\n",
    "print(\"Mean abs error on testing dataset:\", mean_absolute_error(y_test, y_pred))\n",
    "rf_acc_test = mean_absolute_error(y_test, y_pred)"
   ]
  },
  {
   "cell_type": "code",
   "execution_count": 35,
   "metadata": {},
   "outputs": [
    {
     "data": {
      "image/png": "[encoded data removed]",
      "text/plain": [
       "<Figure size 640x480 with 1 Axes>"
      ]
     },
     "metadata": {},
     "output_type": "display_data"
    }
   ],
   "source": [
    "plt.figure()\n",
    "#plt.scatter(X, y, s=20, edgecolor=\"black\", c=\"darkorange\", label=\"data\")\n",
    "#plt.plot(y_pred-y_test,y_test, \"x\")\n",
    "plt.plot(y_pred,y_test, \".\")\n",
    "\n",
    "plt.ylabel(\"True Value\")\n",
    "plt.xlabel(\"Prediction\")\n",
    "plt.title(\"Decision Tree Regression\")\n",
    "plt.show()\n"
   ]
  },
  {
   "cell_type": "code",
   "execution_count": 123,
   "metadata": {},
   "outputs": [
    {
     "data": {
      "image/png": "[encoded data removed]",
      "text/plain": [
       "<Figure size 640x480 with 1 Axes>"
      ]
     },
     "metadata": {},
     "output_type": "display_data"
    },
    {
     "data": {
      "image/png": "[encoded data removed]",
      "text/plain": [
       "<Figure size 640x480 with 1 Axes>"
      ]
     },
     "metadata": {},
     "output_type": "display_data"
    }
   ],
   "source": [
    "def plot_sightings(sights):\n",
    "    sightings = pd.DataFrame(get_easiest_method_names(sights),columns =[\"Method\"])\n",
    "    pies = sightings[\"Method\"].value_counts(sort=False)\n",
    "    labels = sightings[\"Method\"].unique()\n",
    "    plt.pie(pies, labels=labels, autopct='%1.0f%%')\n",
    "    plt.title('Distribution of sightings')\n",
    "    plt.show()\n",
    "\n",
    "if METHOD:\n",
    "    plot_sightings(y_pred)\n",
    "    plot_sightings(y_test)"
   ]
  },
  {
   "cell_type": "code",
   "execution_count": 124,
   "metadata": {},
   "outputs": [
    {
     "ename": "AttributeError",
     "evalue": "'MultiOutputClassifier' object has no attribute 'feature_importances_'",
     "output_type": "error",
     "traceback": [
      "\u001b[1;31m---------------------------------------------------------------------------\u001b[0m",
      "\u001b[1;31mAttributeError\u001b[0m                            Traceback (most recent call last)",
      "\u001b[1;32mc:\\Users\\Neil Power\\OneDrive - The University of Manchester\\Physics\\Year 4\\MoonPhys\\mphys-moon\\Code\\moon_visibility_ML.ipynb Cell 23\u001b[0m line \u001b[0;36m2\n\u001b[0;32m      <a href='vscode-notebook-cell:/c%3A/Users/Neil%20Power/OneDrive%20-%20The%20University%20of%20Manchester/Physics/Year%204/MoonPhys/mphys-moon/Code/moon_visibility_ML.ipynb#X31sZmlsZQ%3D%3D?line=0'>1</a>\u001b[0m \u001b[39m# Plot importance\u001b[39;00m\n\u001b[1;32m----> <a href='vscode-notebook-cell:/c%3A/Users/Neil%20Power/OneDrive%20-%20The%20University%20of%20Manchester/Physics/Year%204/MoonPhys/mphys-moon/Code/moon_visibility_ML.ipynb#X31sZmlsZQ%3D%3D?line=1'>2</a>\u001b[0m importance \u001b[39m=\u001b[39m rf\u001b[39m.\u001b[39mfeature_importances_\n\u001b[0;32m      <a href='vscode-notebook-cell:/c%3A/Users/Neil%20Power/OneDrive%20-%20The%20University%20of%20Manchester/Physics/Year%204/MoonPhys/mphys-moon/Code/moon_visibility_ML.ipynb#X31sZmlsZQ%3D%3D?line=2'>3</a>\u001b[0m ytix \u001b[39m=\u001b[39m features\n\u001b[0;32m      <a href='vscode-notebook-cell:/c%3A/Users/Neil%20Power/OneDrive%20-%20The%20University%20of%20Manchester/Physics/Year%204/MoonPhys/mphys-moon/Code/moon_visibility_ML.ipynb#X31sZmlsZQ%3D%3D?line=4'>5</a>\u001b[0m plt\u001b[39m.\u001b[39mbarh(\u001b[39mrange\u001b[39m(\u001b[39mlen\u001b[39m(features)), importance)\n",
      "\u001b[1;31mAttributeError\u001b[0m: 'MultiOutputClassifier' object has no attribute 'feature_importances_'"
     ]
    }
   ],
   "source": [
    "# Plot importance\n",
    "if not METHOD:\n",
    "    importance = rf.feature_importances_\n",
    "    ytix = features\n",
    "\n",
    "    plt.barh(range(len(features)), importance)\n",
    "    plt.yticks(range(len(features)), features)\n",
    "    plt.xlabel(\"Importance\")\n",
    "    plt.ylabel(\"Features\")\n",
    "    plt.show()"
   ]
  },
  {
   "cell_type": "markdown",
   "metadata": {},
   "source": [
    "Hyperparameter adjustment - not of much note yet"
   ]
  },
  {
   "cell_type": "code",
   "execution_count": null,
   "metadata": {},
   "outputs": [],
   "source": [
    "if GRID_SEARCH:\n",
    "    rf = RandomForestClassifier(random_state=42)\n",
    "\n",
    "    params = {\n",
    "        'max_depth': [2,3,5,10,20],\n",
    "        'min_samples_leaf': [5,10,20,50,100,200],\n",
    "        'n_estimators': [10,25,30,50,100,200]\n",
    "    }\n",
    "\n",
    "    # Instantiate the grid search model\n",
    "    grid_search = GridSearchCV(estimator=rf,\n",
    "        param_grid=params,\n",
    "        cv = 4,\n",
    "         verbose=1, scoring=\"accuracy\")\n",
    "\n",
    "    grid_search.fit(x_train, y_train)\n",
    "    grid_search.best_score_\n",
    "    rf_best = grid_search.best_estimator_\n",
    "    rf_best\n",
    "\n",
    "    # Produce predictions for the classification of your training dataset using your model:\n",
    "    y_pred_best = rf_best.predict(x_train)\n",
    "\n",
    "    # plot the accuracies of said predictions\n",
    "    print(\"Accuracy on training dataset:\",accuracy_score(y_train, y_pred_best))\n",
    "    rf_best_acc_train = accuracy_score(y_train, y_pred_best)\n",
    "    y_pred_best = rf_best.predict(x_test)\n",
    "    print(\"Accuracy on testing dataset:\",accuracy_score(y_test, y_pred_best))\n",
    "    rf_best_acc_train = accuracy_score(y_test, y_pred_best)"
   ]
  },
  {
   "cell_type": "code",
   "execution_count": null,
   "metadata": {},
   "outputs": [],
   "source": [
    "#rf_best"
   ]
  },
  {
   "cell_type": "code",
   "execution_count": null,
   "metadata": {},
   "outputs": [],
   "source": [
    "#rf_best = grid_search.best_estimator_\n",
    "#rf_best"
   ]
  },
  {
   "cell_type": "code",
   "execution_count": null,
   "metadata": {},
   "outputs": [],
   "source": [
    "# Produce predictions for the classification of your training dataset using your model:\n",
    "#y_pred_best = rf_best.predict(x_train)\n",
    "\n",
    "# plot the accuracies of said predictions\n",
    "#print(\"Accuracy on training dataset:\",accuracy_score(y_train, y_pred_best))\n",
    "#rf_best_acc_train = accuracy_score(y_train, y_pred_best)\n",
    "#y_pred_best = rf_best.predict(x_test)\n",
    "#print(\"Accuracy on testing dataset:\",accuracy_score(y_test, y_pred_best))\n",
    "#rf_best_acc_train = accuracy_score(y_test, y_pred_best)"
   ]
  }
 ],
 "metadata": {
  "kernelspec": {
   "display_name": "Python 3 (ipykernel)",
   "language": "python",
   "name": "python3"
  },
  "language_info": {
   "codemirror_mode": {
    "name": "ipython",
    "version": 3
   },
   "file_extension": ".py",
   "mimetype": "text/x-python",
   "name": "python",
   "nbconvert_exporter": "python",
   "pygments_lexer": "ipython3",
   "version": "3.11.5"
  }
 },
 "nbformat": 4,
 "nbformat_minor": 4
}
