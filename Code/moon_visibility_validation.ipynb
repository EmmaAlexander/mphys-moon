{
 "cells": [
  {
   "cell_type": "code",
   "execution_count": 1,
   "metadata": {},
   "outputs": [],
   "source": [
    "import pandas as pd\n",
    "import numpy as np\n",
    "from astropy.time import Time\n",
    "from datetime import datetime\n",
    "from sklearn.metrics import accuracy_score"
   ]
  },
  {
   "cell_type": "code",
   "execution_count": 4,
   "metadata": {},
   "outputs": [
    {
     "ename": "FileNotFoundError",
     "evalue": "[Errno 2] No such file or directory: '..\\\\Data\\\\icouk_sighting_data_with_params.csv'",
     "output_type": "error",
     "traceback": [
      "\u001b[0;31m---------------------------------------------------------------------------\u001b[0m",
      "\u001b[0;31mFileNotFoundError\u001b[0m                         Traceback (most recent call last)",
      "Cell \u001b[0;32mIn[4], line 13\u001b[0m\n\u001b[1;32m     10\u001b[0m \u001b[38;5;66;03m#allawi_data_file_orig = '..\\\\Data\\\\schaefer_odeh_allawi_2022_sighting_data.csv'\u001b[39;00m\n\u001b[1;32m     11\u001b[0m yallop_data_file_orig \u001b[38;5;241m=\u001b[39m \u001b[38;5;124m'\u001b[39m\u001b[38;5;124m..\u001b[39m\u001b[38;5;124m\\\u001b[39m\u001b[38;5;124mData\u001b[39m\u001b[38;5;124m\\\u001b[39m\u001b[38;5;124myallop_sighting_data.csv\u001b[39m\u001b[38;5;124m'\u001b[39m\n\u001b[0;32m---> 13\u001b[0m icouk_data \u001b[38;5;241m=\u001b[39m \u001b[43mpd\u001b[49m\u001b[38;5;241;43m.\u001b[39;49m\u001b[43mread_csv\u001b[49m\u001b[43m(\u001b[49m\u001b[43micouk_data_file\u001b[49m\u001b[43m)\u001b[49m\n\u001b[1;32m     14\u001b[0m icop_data \u001b[38;5;241m=\u001b[39m pd\u001b[38;5;241m.\u001b[39mread_csv(icop_data_file)\n\u001b[1;32m     15\u001b[0m alrefay_data \u001b[38;5;241m=\u001b[39m pd\u001b[38;5;241m.\u001b[39mread_csv(alrefay_data_file)\n",
      "File \u001b[0;32m/usr/local/lib/python3.10/site-packages/pandas/io/parsers/readers.py:912\u001b[0m, in \u001b[0;36mread_csv\u001b[0;34m(filepath_or_buffer, sep, delimiter, header, names, index_col, usecols, dtype, engine, converters, true_values, false_values, skipinitialspace, skiprows, skipfooter, nrows, na_values, keep_default_na, na_filter, verbose, skip_blank_lines, parse_dates, infer_datetime_format, keep_date_col, date_parser, date_format, dayfirst, cache_dates, iterator, chunksize, compression, thousands, decimal, lineterminator, quotechar, quoting, doublequote, escapechar, comment, encoding, encoding_errors, dialect, on_bad_lines, delim_whitespace, low_memory, memory_map, float_precision, storage_options, dtype_backend)\u001b[0m\n\u001b[1;32m    899\u001b[0m kwds_defaults \u001b[38;5;241m=\u001b[39m _refine_defaults_read(\n\u001b[1;32m    900\u001b[0m     dialect,\n\u001b[1;32m    901\u001b[0m     delimiter,\n\u001b[0;32m   (...)\u001b[0m\n\u001b[1;32m    908\u001b[0m     dtype_backend\u001b[38;5;241m=\u001b[39mdtype_backend,\n\u001b[1;32m    909\u001b[0m )\n\u001b[1;32m    910\u001b[0m kwds\u001b[38;5;241m.\u001b[39mupdate(kwds_defaults)\n\u001b[0;32m--> 912\u001b[0m \u001b[38;5;28;01mreturn\u001b[39;00m \u001b[43m_read\u001b[49m\u001b[43m(\u001b[49m\u001b[43mfilepath_or_buffer\u001b[49m\u001b[43m,\u001b[49m\u001b[43m \u001b[49m\u001b[43mkwds\u001b[49m\u001b[43m)\u001b[49m\n",
      "File \u001b[0;32m/usr/local/lib/python3.10/site-packages/pandas/io/parsers/readers.py:577\u001b[0m, in \u001b[0;36m_read\u001b[0;34m(filepath_or_buffer, kwds)\u001b[0m\n\u001b[1;32m    574\u001b[0m _validate_names(kwds\u001b[38;5;241m.\u001b[39mget(\u001b[38;5;124m\"\u001b[39m\u001b[38;5;124mnames\u001b[39m\u001b[38;5;124m\"\u001b[39m, \u001b[38;5;28;01mNone\u001b[39;00m))\n\u001b[1;32m    576\u001b[0m \u001b[38;5;66;03m# Create the parser.\u001b[39;00m\n\u001b[0;32m--> 577\u001b[0m parser \u001b[38;5;241m=\u001b[39m \u001b[43mTextFileReader\u001b[49m\u001b[43m(\u001b[49m\u001b[43mfilepath_or_buffer\u001b[49m\u001b[43m,\u001b[49m\u001b[43m \u001b[49m\u001b[38;5;241;43m*\u001b[39;49m\u001b[38;5;241;43m*\u001b[39;49m\u001b[43mkwds\u001b[49m\u001b[43m)\u001b[49m\n\u001b[1;32m    579\u001b[0m \u001b[38;5;28;01mif\u001b[39;00m chunksize \u001b[38;5;129;01mor\u001b[39;00m iterator:\n\u001b[1;32m    580\u001b[0m     \u001b[38;5;28;01mreturn\u001b[39;00m parser\n",
      "File \u001b[0;32m/usr/local/lib/python3.10/site-packages/pandas/io/parsers/readers.py:1407\u001b[0m, in \u001b[0;36mTextFileReader.__init__\u001b[0;34m(self, f, engine, **kwds)\u001b[0m\n\u001b[1;32m   1404\u001b[0m     \u001b[38;5;28mself\u001b[39m\u001b[38;5;241m.\u001b[39moptions[\u001b[38;5;124m\"\u001b[39m\u001b[38;5;124mhas_index_names\u001b[39m\u001b[38;5;124m\"\u001b[39m] \u001b[38;5;241m=\u001b[39m kwds[\u001b[38;5;124m\"\u001b[39m\u001b[38;5;124mhas_index_names\u001b[39m\u001b[38;5;124m\"\u001b[39m]\n\u001b[1;32m   1406\u001b[0m \u001b[38;5;28mself\u001b[39m\u001b[38;5;241m.\u001b[39mhandles: IOHandles \u001b[38;5;241m|\u001b[39m \u001b[38;5;28;01mNone\u001b[39;00m \u001b[38;5;241m=\u001b[39m \u001b[38;5;28;01mNone\u001b[39;00m\n\u001b[0;32m-> 1407\u001b[0m \u001b[38;5;28mself\u001b[39m\u001b[38;5;241m.\u001b[39m_engine \u001b[38;5;241m=\u001b[39m \u001b[38;5;28;43mself\u001b[39;49m\u001b[38;5;241;43m.\u001b[39;49m\u001b[43m_make_engine\u001b[49m\u001b[43m(\u001b[49m\u001b[43mf\u001b[49m\u001b[43m,\u001b[49m\u001b[43m \u001b[49m\u001b[38;5;28;43mself\u001b[39;49m\u001b[38;5;241;43m.\u001b[39;49m\u001b[43mengine\u001b[49m\u001b[43m)\u001b[49m\n",
      "File \u001b[0;32m/usr/local/lib/python3.10/site-packages/pandas/io/parsers/readers.py:1661\u001b[0m, in \u001b[0;36mTextFileReader._make_engine\u001b[0;34m(self, f, engine)\u001b[0m\n\u001b[1;32m   1659\u001b[0m     \u001b[38;5;28;01mif\u001b[39;00m \u001b[38;5;124m\"\u001b[39m\u001b[38;5;124mb\u001b[39m\u001b[38;5;124m\"\u001b[39m \u001b[38;5;129;01mnot\u001b[39;00m \u001b[38;5;129;01min\u001b[39;00m mode:\n\u001b[1;32m   1660\u001b[0m         mode \u001b[38;5;241m+\u001b[39m\u001b[38;5;241m=\u001b[39m \u001b[38;5;124m\"\u001b[39m\u001b[38;5;124mb\u001b[39m\u001b[38;5;124m\"\u001b[39m\n\u001b[0;32m-> 1661\u001b[0m \u001b[38;5;28mself\u001b[39m\u001b[38;5;241m.\u001b[39mhandles \u001b[38;5;241m=\u001b[39m \u001b[43mget_handle\u001b[49m\u001b[43m(\u001b[49m\n\u001b[1;32m   1662\u001b[0m \u001b[43m    \u001b[49m\u001b[43mf\u001b[49m\u001b[43m,\u001b[49m\n\u001b[1;32m   1663\u001b[0m \u001b[43m    \u001b[49m\u001b[43mmode\u001b[49m\u001b[43m,\u001b[49m\n\u001b[1;32m   1664\u001b[0m \u001b[43m    \u001b[49m\u001b[43mencoding\u001b[49m\u001b[38;5;241;43m=\u001b[39;49m\u001b[38;5;28;43mself\u001b[39;49m\u001b[38;5;241;43m.\u001b[39;49m\u001b[43moptions\u001b[49m\u001b[38;5;241;43m.\u001b[39;49m\u001b[43mget\u001b[49m\u001b[43m(\u001b[49m\u001b[38;5;124;43m\"\u001b[39;49m\u001b[38;5;124;43mencoding\u001b[39;49m\u001b[38;5;124;43m\"\u001b[39;49m\u001b[43m,\u001b[49m\u001b[43m \u001b[49m\u001b[38;5;28;43;01mNone\u001b[39;49;00m\u001b[43m)\u001b[49m\u001b[43m,\u001b[49m\n\u001b[1;32m   1665\u001b[0m \u001b[43m    \u001b[49m\u001b[43mcompression\u001b[49m\u001b[38;5;241;43m=\u001b[39;49m\u001b[38;5;28;43mself\u001b[39;49m\u001b[38;5;241;43m.\u001b[39;49m\u001b[43moptions\u001b[49m\u001b[38;5;241;43m.\u001b[39;49m\u001b[43mget\u001b[49m\u001b[43m(\u001b[49m\u001b[38;5;124;43m\"\u001b[39;49m\u001b[38;5;124;43mcompression\u001b[39;49m\u001b[38;5;124;43m\"\u001b[39;49m\u001b[43m,\u001b[49m\u001b[43m \u001b[49m\u001b[38;5;28;43;01mNone\u001b[39;49;00m\u001b[43m)\u001b[49m\u001b[43m,\u001b[49m\n\u001b[1;32m   1666\u001b[0m \u001b[43m    \u001b[49m\u001b[43mmemory_map\u001b[49m\u001b[38;5;241;43m=\u001b[39;49m\u001b[38;5;28;43mself\u001b[39;49m\u001b[38;5;241;43m.\u001b[39;49m\u001b[43moptions\u001b[49m\u001b[38;5;241;43m.\u001b[39;49m\u001b[43mget\u001b[49m\u001b[43m(\u001b[49m\u001b[38;5;124;43m\"\u001b[39;49m\u001b[38;5;124;43mmemory_map\u001b[39;49m\u001b[38;5;124;43m\"\u001b[39;49m\u001b[43m,\u001b[49m\u001b[43m \u001b[49m\u001b[38;5;28;43;01mFalse\u001b[39;49;00m\u001b[43m)\u001b[49m\u001b[43m,\u001b[49m\n\u001b[1;32m   1667\u001b[0m \u001b[43m    \u001b[49m\u001b[43mis_text\u001b[49m\u001b[38;5;241;43m=\u001b[39;49m\u001b[43mis_text\u001b[49m\u001b[43m,\u001b[49m\n\u001b[1;32m   1668\u001b[0m \u001b[43m    \u001b[49m\u001b[43merrors\u001b[49m\u001b[38;5;241;43m=\u001b[39;49m\u001b[38;5;28;43mself\u001b[39;49m\u001b[38;5;241;43m.\u001b[39;49m\u001b[43moptions\u001b[49m\u001b[38;5;241;43m.\u001b[39;49m\u001b[43mget\u001b[49m\u001b[43m(\u001b[49m\u001b[38;5;124;43m\"\u001b[39;49m\u001b[38;5;124;43mencoding_errors\u001b[39;49m\u001b[38;5;124;43m\"\u001b[39;49m\u001b[43m,\u001b[49m\u001b[43m \u001b[49m\u001b[38;5;124;43m\"\u001b[39;49m\u001b[38;5;124;43mstrict\u001b[39;49m\u001b[38;5;124;43m\"\u001b[39;49m\u001b[43m)\u001b[49m\u001b[43m,\u001b[49m\n\u001b[1;32m   1669\u001b[0m \u001b[43m    \u001b[49m\u001b[43mstorage_options\u001b[49m\u001b[38;5;241;43m=\u001b[39;49m\u001b[38;5;28;43mself\u001b[39;49m\u001b[38;5;241;43m.\u001b[39;49m\u001b[43moptions\u001b[49m\u001b[38;5;241;43m.\u001b[39;49m\u001b[43mget\u001b[49m\u001b[43m(\u001b[49m\u001b[38;5;124;43m\"\u001b[39;49m\u001b[38;5;124;43mstorage_options\u001b[39;49m\u001b[38;5;124;43m\"\u001b[39;49m\u001b[43m,\u001b[49m\u001b[43m \u001b[49m\u001b[38;5;28;43;01mNone\u001b[39;49;00m\u001b[43m)\u001b[49m\u001b[43m,\u001b[49m\n\u001b[1;32m   1670\u001b[0m \u001b[43m\u001b[49m\u001b[43m)\u001b[49m\n\u001b[1;32m   1671\u001b[0m \u001b[38;5;28;01massert\u001b[39;00m \u001b[38;5;28mself\u001b[39m\u001b[38;5;241m.\u001b[39mhandles \u001b[38;5;129;01mis\u001b[39;00m \u001b[38;5;129;01mnot\u001b[39;00m \u001b[38;5;28;01mNone\u001b[39;00m\n\u001b[1;32m   1672\u001b[0m f \u001b[38;5;241m=\u001b[39m \u001b[38;5;28mself\u001b[39m\u001b[38;5;241m.\u001b[39mhandles\u001b[38;5;241m.\u001b[39mhandle\n",
      "File \u001b[0;32m/usr/local/lib/python3.10/site-packages/pandas/io/common.py:859\u001b[0m, in \u001b[0;36mget_handle\u001b[0;34m(path_or_buf, mode, encoding, compression, memory_map, is_text, errors, storage_options)\u001b[0m\n\u001b[1;32m    854\u001b[0m \u001b[38;5;28;01melif\u001b[39;00m \u001b[38;5;28misinstance\u001b[39m(handle, \u001b[38;5;28mstr\u001b[39m):\n\u001b[1;32m    855\u001b[0m     \u001b[38;5;66;03m# Check whether the filename is to be opened in binary mode.\u001b[39;00m\n\u001b[1;32m    856\u001b[0m     \u001b[38;5;66;03m# Binary mode does not support 'encoding' and 'newline'.\u001b[39;00m\n\u001b[1;32m    857\u001b[0m     \u001b[38;5;28;01mif\u001b[39;00m ioargs\u001b[38;5;241m.\u001b[39mencoding \u001b[38;5;129;01mand\u001b[39;00m \u001b[38;5;124m\"\u001b[39m\u001b[38;5;124mb\u001b[39m\u001b[38;5;124m\"\u001b[39m \u001b[38;5;129;01mnot\u001b[39;00m \u001b[38;5;129;01min\u001b[39;00m ioargs\u001b[38;5;241m.\u001b[39mmode:\n\u001b[1;32m    858\u001b[0m         \u001b[38;5;66;03m# Encoding\u001b[39;00m\n\u001b[0;32m--> 859\u001b[0m         handle \u001b[38;5;241m=\u001b[39m \u001b[38;5;28;43mopen\u001b[39;49m\u001b[43m(\u001b[49m\n\u001b[1;32m    860\u001b[0m \u001b[43m            \u001b[49m\u001b[43mhandle\u001b[49m\u001b[43m,\u001b[49m\n\u001b[1;32m    861\u001b[0m \u001b[43m            \u001b[49m\u001b[43mioargs\u001b[49m\u001b[38;5;241;43m.\u001b[39;49m\u001b[43mmode\u001b[49m\u001b[43m,\u001b[49m\n\u001b[1;32m    862\u001b[0m \u001b[43m            \u001b[49m\u001b[43mencoding\u001b[49m\u001b[38;5;241;43m=\u001b[39;49m\u001b[43mioargs\u001b[49m\u001b[38;5;241;43m.\u001b[39;49m\u001b[43mencoding\u001b[49m\u001b[43m,\u001b[49m\n\u001b[1;32m    863\u001b[0m \u001b[43m            \u001b[49m\u001b[43merrors\u001b[49m\u001b[38;5;241;43m=\u001b[39;49m\u001b[43merrors\u001b[49m\u001b[43m,\u001b[49m\n\u001b[1;32m    864\u001b[0m \u001b[43m            \u001b[49m\u001b[43mnewline\u001b[49m\u001b[38;5;241;43m=\u001b[39;49m\u001b[38;5;124;43m\"\u001b[39;49m\u001b[38;5;124;43m\"\u001b[39;49m\u001b[43m,\u001b[49m\n\u001b[1;32m    865\u001b[0m \u001b[43m        \u001b[49m\u001b[43m)\u001b[49m\n\u001b[1;32m    866\u001b[0m     \u001b[38;5;28;01melse\u001b[39;00m:\n\u001b[1;32m    867\u001b[0m         \u001b[38;5;66;03m# Binary mode\u001b[39;00m\n\u001b[1;32m    868\u001b[0m         handle \u001b[38;5;241m=\u001b[39m \u001b[38;5;28mopen\u001b[39m(handle, ioargs\u001b[38;5;241m.\u001b[39mmode)\n",
      "\u001b[0;31mFileNotFoundError\u001b[0m: [Errno 2] No such file or directory: '..\\\\Data\\\\icouk_sighting_data_with_params.csv'"
     ]
    }
   ],
   "source": [
    "icouk_data_file = '..\\Data\\icouk_sighting_data_with_params.csv'\n",
    "icop_data_file = '..\\Data\\icop_ahmed_2020_sighting_data_with_params.csv'\n",
    "alrefay_data_file = '..\\Data\\alrefay_2018_sighting_data_with_params.csv'\n",
    "#allawi_data_file = '..\\\\Data\\\\schaefer_odeh_allawi_2022_sighting_data_with_params.csv'\n",
    "yallop_data_file = '..\\Data\\yallop_sighting_data_with_params.csv'\n",
    "\n",
    "icouk_data_file_orig = '..\\Data\\icouk_sighting_data.csv'\n",
    "icop_data_file_orig = '..\\Data\\icop_ahmed_2020_sighting_data.csv'\n",
    "alrefay_data_file_orig = '..\\Data\\alrefay_2018_sighting_data.csv'\n",
    "#allawi_data_file_orig = '..\\\\Data\\\\schaefer_odeh_allawi_2022_sighting_data.csv'\n",
    "yallop_data_file_orig = '..\\Data\\yallop_sighting_data.csv'\n",
    "\n",
    "icouk_data = pd.read_csv(icouk_data_file)\n",
    "icop_data = pd.read_csv(icop_data_file)\n",
    "alrefay_data = pd.read_csv(alrefay_data_file)\n",
    "yallop_data = pd.read_csv(yallop_data_file)\n",
    "\n",
    "icouk_data_orig = pd.read_csv(icouk_data_file_orig)\n",
    "icop_data_orig = pd.read_csv(icop_data_file_orig)\n",
    "alrefay_data_orig = pd.read_csv(alrefay_data_file_orig)\n",
    "yallop_data_orig = pd.read_csv(yallop_data_file_orig)"
   ]
  },
  {
   "cell_type": "code",
   "execution_count": null,
   "metadata": {},
   "outputs": [],
   "source": [
    "#ICOUK file\n",
    "\n",
    "num_of_rows = icouk_data.shape[0]\n",
    "cols=[\"Orig Date\", \"Date\", \"Date diff\",\"Best time\", \"Lat\", \"Lon\", \"q\", \"Seen\"]\n",
    "data = pd.DataFrame(index=np.arange(0, num_of_rows), columns=cols[0:-5])\n",
    "data.index.name=\"Index\"\n",
    "\n",
    "orig_dates = Time.strptime(icouk_data_orig[\"Date\"].to_numpy().astype(str), \"%d-%b-%y\").to_datetime()\n",
    "dates = Time(icouk_data[\"Date\"],format=\"jd\").to_datetime()\n",
    "\n",
    "data[\"Orig Date\"] = Time(orig_dates).strftime(\"%d/%m/%Y\")\n",
    "data[\"Date\"] = Time(dates).strftime(\"%d/%m/%Y %H:%M\")\n",
    "data[\"Date diff\"] = dates - orig_dates\n",
    "data[\"Lat\"] = icouk_data[\"Latitude\"]\n",
    "data[\"Lon\"] = icouk_data[\"Longitude\"]\n",
    "data[\"q\"] = icouk_data[\"q'\"]\n",
    "data[\"Seen\"] = icouk_data_orig[\"Seen?\"]\n",
    "\n",
    "data.to_csv(\"..\\\\Data\\\\Validation\\\\icouk_validation.csv\")\n"
   ]
  },
  {
   "cell_type": "code",
   "execution_count": null,
   "metadata": {},
   "outputs": [],
   "source": [
    "#ICOP file\n",
    "\n",
    "num_of_rows = icop_data.shape[0]\n",
    "cols=[\"Orig Date\", \"Date\", \"Date diff\", \"Lat\", \"Lon\", \"Orig Sunset\", \"Sunset\", \"Sunset Diff\", \"q\", \"Seen\"]\n",
    "data = pd.DataFrame(index=np.arange(0, num_of_rows), columns=cols[0:-5])\n",
    "data.index.name=\"Index\"\n",
    "\n",
    "orig_dates = Time.strptime(icop_data_orig[\"Date\"].to_numpy().astype(str), \"%d/%m/%Y\").to_datetime()\n",
    "dates = Time(icop_data[\"Date\"],format=\"jd\").to_datetime()\n",
    "\n",
    "data[\"Orig Date\"] = Time(orig_dates).strftime(\"%d/%m/%Y\")\n",
    "data[\"Date\"] = Time(dates).strftime(\"%d/%m/%Y %H:%M\")\n",
    "data[\"Date diff\"] = dates - orig_dates\n",
    "\n",
    "orig_sunsets = Time.strptime(icop_data_orig[\"sunset\"].to_numpy().astype(str), \"%d/%m/%Y %H:%M\").to_datetime()\n",
    "sunsets = Time(icop_data[\"Sunset\"],format=\"jd\").to_datetime()\n",
    "\n",
    "data[\"Orig Sunset\"] = orig_sunsets\n",
    "data[\"Sunset\"] = sunsets\n",
    "data[\"Sunset diff\"] = sunsets - orig_sunsets\n",
    "\n",
    "data[\"Lat\"] = icop_data[\"Latitude\"]\n",
    "data[\"Lon\"] = icop_data[\"Longitude\"]\n",
    "data[\"q\"] = icop_data[\"q'\"]\n",
    "data[\"Seen\"] = icop_data[\"Seen\"]\n",
    "\n",
    "data.to_csv(\"..\\\\Data\\\\Validation\\\\icop_validation.csv\")"
   ]
  },
  {
   "cell_type": "code",
   "execution_count": null,
   "metadata": {},
   "outputs": [],
   "source": [
    "#Alrefay file\n",
    "\n",
    "num_of_rows = alrefay_data.shape[0]\n",
    "cols=[\"Orig Date\", \"Date\", \"Date diff\", \"Lat\", \"Lon\", \"Orig ARCV\", \"ARCV\", \"ARCV Diff\", \"q\", \"Seen\"]\n",
    "data = pd.DataFrame(index=np.arange(0, num_of_rows), columns=cols[0:-5])\n",
    "data.index.name=\"Index\"\n",
    "\n",
    "orig_dates = Time.strptime(alrefay_data_orig[\"Date\"].to_numpy().astype(str), \" %Y/%m/%d\").to_datetime()\n",
    "dates = Time(alrefay_data[\"Date\"],format=\"jd\").to_datetime()\n",
    "\n",
    "data[\"Orig Date\"] = Time(orig_dates).strftime(\"%d/%m/%Y\")\n",
    "data[\"Date\"] = Time(dates).strftime(\"%d/%m/%Y %H:%M\")\n",
    "data[\"Date diff\"] = dates - orig_dates\n",
    "\n",
    "data[\"Orig ARCV\"] = alrefay_data_orig[\" ARCV\"]\n",
    "data[\"ARCV\"] = alrefay_data[\"ARCV\"]\n",
    "data[\"ARCV diff\"] = round(alrefay_data[\"ARCV\"] - alrefay_data_orig[\" ARCV\"],5)\n",
    "\n",
    "data[\"Lat\"] = alrefay_data[\"Latitude\"]\n",
    "data[\"Lon\"] = alrefay_data[\"Longitude\"]\n",
    "data[\"q\"] = alrefay_data[\"q'\"]\n",
    "data[\"Seen\"] = alrefay_data[\"Seen\"]\n",
    "\n",
    "data.to_csv(\"..\\\\Data\\\\Validation\\\\alrefay_validation.csv\")"
   ]
  },
  {
   "cell_type": "code",
   "execution_count": null,
   "metadata": {},
   "outputs": [],
   "source": [
    "#Yallop file\n",
    "\n",
    "num_of_rows = yallop_data.shape[0]\n",
    "cols=[\"Orig Date\", \"Date\", \"Date diff\", \"Lat\", \"Lon\", \"Orig ARCV\", \"ARCV\", \"ARCV Diff\", \"Orig q\", \"q\", \"q Diff\", \"Seen\"]\n",
    "data = pd.DataFrame(index=np.arange(0, num_of_rows), columns=cols[0:-5])\n",
    "data.index.name=\"Index\"\n",
    "\n",
    "date_text = yallop_data_orig['D'].astype(str)+\"/\"+yallop_data_orig['M'].astype(str)+\"/\"+yallop_data_orig['Y'].astype(str)\n",
    "orig_dates = Time.strptime(date_text.to_numpy().astype(str), \"%d/%m/%Y\").to_datetime()\n",
    "\n",
    "dates = Time(yallop_data[\"Date\"],format=\"jd\").to_datetime()\n",
    "\n",
    "data[\"Orig Date\"] = Time(orig_dates).strftime(\"%d/%m/%Y\")\n",
    "data[\"Date\"] = Time(dates).strftime(\"%d/%m/%Y %H:%M\")\n",
    "data[\"Date diff\"] = dates - orig_dates\n",
    "\n",
    "data[\"Orig ARCV\"] = yallop_data_orig[\"ARCV\"]\n",
    "data[\"ARCV\"] = yallop_data[\"ARCV\"]\n",
    "data[\"ARCV diff\"] = round(yallop_data[\"ARCV\"] - yallop_data_orig[\"ARCV\"],5)\n",
    "\n",
    "data[\"Orig q\"] = yallop_data_orig[\"q\"]\n",
    "data[\"q\"] = yallop_data[\"q'\"]\n",
    "data[\"q diff\"] = round(yallop_data[\"q'\"] - yallop_data_orig[\"q\"],5)\n",
    "\n",
    "data[\"Lat\"] = yallop_data[\"Latitude\"]\n",
    "data[\"Lon\"] = yallop_data[\"Longitude\"]\n",
    "data[\"q\"] = yallop_data[\"q'\"]\n",
    "data[\"Seen\"] = yallop_data[\"Seen\"]\n",
    "\n",
    "data.to_csv(\"..\\\\Data\\\\Validation\\\\yallop_validation.csv\")"
   ]
  }
 ],
 "metadata": {
  "kernelspec": {
   "display_name": "Python 3 (ipykernel)",
   "language": "python",
   "name": "python3"
  },
  "language_info": {
   "codemirror_mode": {
    "name": "ipython",
    "version": 3
   },
   "file_extension": ".py",
   "mimetype": "text/x-python",
   "name": "python",
   "nbconvert_exporter": "python",
   "pygments_lexer": "ipython3",
   "version": "3.10.12"
  }
 },
 "nbformat": 4,
 "nbformat_minor": 2
}
