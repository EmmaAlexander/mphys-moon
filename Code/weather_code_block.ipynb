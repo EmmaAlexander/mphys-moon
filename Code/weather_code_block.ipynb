{
 "cells": [
  {
   "cell_type": "markdown",
   "metadata": {},
   "source": [
    "CODE BLOCK TO EXTRACT WEATHER FROM LAT LONG"
   ]
  },
  {
   "cell_type": "code",
   "execution_count": 20,
   "metadata": {},
   "outputs": [],
   "source": [
    "import pandas as pd\n",
    "import reverse_geocode as rg\n",
    "import numpy as np"
   ]
  },
  {
   "cell_type": "code",
   "execution_count": 21,
   "metadata": {},
   "outputs": [],
   "source": [
    "from datetime import datetime,timedelta\n",
    "from astropy.time import Time\n",
    "from meteostat import Point, Hourly"
   ]
  },
  {
   "cell_type": "code",
   "execution_count": 22,
   "metadata": {},
   "outputs": [],
   "source": [
    "LIMITED = False\n",
    "METEOSTAT = False"
   ]
  },
  {
   "cell_type": "code",
   "execution_count": 23,
   "metadata": {},
   "outputs": [],
   "source": [
    "icouk_data_file = '..\\\\Data\\\\icouk_sighting_data_with_params.csv'\n",
    "#icop_data_file = '..\\\\Data\\\\icop_ahmed_2020_sighting_data_with_params.csv'\n",
    "#alrefay_data_file = '..\\\\Data\\\\alrefay_2018_sighting_data_with_params.csv'\n",
    "#allawi_data_file = '..\\\\Data\\\\schaefer_odeh_allawi_2022_sighting_data_with_params.csv'\n",
    "#yallop_data_file = '..\\\\Data\\\\yallop_sighting_data_with_params.csv'\n",
    "\n",
    "#icouk_data = pd.read_csv(icouk_data_file)\n",
    "#icop_data = pd.read_csv(icop_data_file)\n",
    "#alrefay_data = pd.read_csv(alrefay_data_file)\n",
    "#allawi_data = pd.read_csv(allawi_data_file)\n",
    "#yallop_data = pd.read_csv(yallop_data_file)\n",
    "\n",
    "\n",
    "#data = pd.concat([icouk_data,icop_data,alrefay_data,yallop_data])\n",
    "data = pd.read_csv(icouk_data_file)\n",
    "\n",
    "\n",
    "#data = data[['Latitude', \"Longitude\", 'Date']]\n",
    "if LIMITED:\n",
    "    df = data.copy('Deep').head(20)\n",
    "else:\n",
    "    df = data.copy('Deep')"
   ]
  },
  {
   "cell_type": "code",
   "execution_count": 24,
   "metadata": {},
   "outputs": [],
   "source": [
    "#index used\n",
    "i = 500"
   ]
  },
  {
   "cell_type": "code",
   "execution_count": 25,
   "metadata": {},
   "outputs": [],
   "source": [
    "#get city from lat long, not rlly needed\n",
    "# city_arr = []\n",
    "# city_dic = rg.search(df[['Latitude', 'Longitude']])\n",
    "# for i in range(len(city_dic)):\n",
    "#     city_arr.append((city_dic[i])['city']+','+(city_dic[i])['country_code'])\n",
    "\n",
    "# df['City'] = city_arr"
   ]
  },
  {
   "cell_type": "code",
   "execution_count": 26,
   "metadata": {},
   "outputs": [],
   "source": [
    "#df"
   ]
  },
  {
   "cell_type": "code",
   "execution_count": 27,
   "metadata": {},
   "outputs": [],
   "source": [
    "if METEOSTAT:\n",
    "    # adds meteostat weather data for dataset\n",
    "\n",
    "    weather_data =[]\n",
    "    for i in range(len(city_dic)):\n",
    "        day = Time(df['Date'][i],format='jd').to_datetime()\n",
    "        weather_data_temp = Hourly(Point(df['Latitude'][i],df['Longitude'][i]), day-timedelta(hours=0.5), day + timedelta(hours=0.5)) #day+timedelta(days=1))\n",
    "        x = weather_data_temp.fetch()\n",
    "        if (len(x)>0):\n",
    "            weather_data.append(x)\n",
    "        else:\n",
    "            weather_data.append( pd.DataFrame(np.zeros([1, 11])*np.nan, columns = ['temp', 'dwpt', 'rhum', 'prcp', 'snow','wdir ','wspd','wpgt','pres', 'tsun', 'coco']))\n",
    "    weather_dataset = (pd.concat(weather_data, ignore_index=True)).drop(['wdir','wspd', 'wpgt'], axis=1)"
   ]
  },
  {
   "cell_type": "code",
   "execution_count": 28,
   "metadata": {},
   "outputs": [],
   "source": [
    "import requests\n",
    "from bs4 import BeautifulSoup\n",
    "import re\n"
   ]
  },
  {
   "cell_type": "code",
   "execution_count": 29,
   "metadata": {},
   "outputs": [
    {
     "name": "stdout",
     "output_type": "stream",
     "text": [
      "1646330400\n"
     ]
    },
    {
     "name": "stdout",
     "output_type": "stream",
     "text": [
      "200\n"
     ]
    }
   ],
   "source": [
    "best_time = Time(df['Date'][i], format='jd') #best time in julian\n",
    "DATE = str(int(np.round(best_time.unix/60/30)*60*30)) #convert julian date to UNIX timestamp HOWEVER has british summertime\n",
    "print(DATE)\n",
    "url = 'https://www.weatheronline.co.uk/weather/maps/current?LANG=en&DATE='+ DATE  +'&CONT=ukuk&LAND=UK&KEY=UK&SORT=4&UD=0&INT=06&TYP=bedeckung&ART=tabelle&RUBRIK=akt&R=310&CEL=C&SI=mph'\n",
    "response = requests.get(url)\n",
    "print(response.status_code)"
   ]
  },
  {
   "cell_type": "code",
   "execution_count": 30,
   "metadata": {},
   "outputs": [],
   "source": [
    "soup = BeautifulSoup(response.text, 'html.parser')"
   ]
  },
  {
   "cell_type": "code",
   "execution_count": 31,
   "metadata": {},
   "outputs": [],
   "source": [
    "table = soup.find('table', class_ = 'gr3')\n",
    "\n",
    "table = str(table)\n",
    "#print(table)"
   ]
  },
  {
   "cell_type": "code",
   "execution_count": 32,
   "metadata": {},
   "outputs": [
    {
     "name": "stdout",
     "output_type": "stream",
     "text": [
      "['Yeovil', 'Weybourne', 'Capel Curig', 'Altnaharra', 'Aboyne', 'Tulloch Bridge', 'Drumalbin', 'Inverbervie', 'Strathallan', 'Dundrennan', 'MoD Boscombe Down', 'Lough Fea', 'RAF Lyneham', 'Exeter Airport No.', 'RAF Brize Norton', 'Herstmonceux', 'Hawarden', 'Aviemore', 'RAF Odiham', 'Lerwick', 'Lake Vyrnwy', 'Thorncliffe', 'Shobdon', 'Cranwell', 'Albemarle', 'Edinburgh Gogarbank', 'Waddington', 'Warcop Range', 'Keswick', 'Redesdale Camp', 'Bingley', 'Crosby', 'Carlisle', 'Credenhill', 'Pershore', 'Church Lawford', 'RAF Little Rissington', 'Bedford', 'Nottingham/Watnall', 'Larkhill', 'Charlwood', 'Coleshill', 'Guernsey Airport', 'Isle of Man Airport', 'Coningsby', 'Lossiemouth', 'Castlederg', 'Benson', 'Northolt', 'Loch Glascarnoch', 'Plymouth MtBatten', 'Camborne', 'Wattisham Airport', 'Glenanne', 'Marham', 'Manston', 'Wainfleet All Saints', 'Portglenone', 'Magilligan']\n",
      "['03853', '03488', '03305', '03044', '03080', '03047', '03155', '03088', '03144', '03153', '03746', '03911', '03740', '03844', '03649', '03882', '03321', '03063', '03761', '03005', '03410', '03330', '03520', '03379', '03238', '03166', '03377', '03226', '03212', '03230', '03344', '03316', '03220', '03522', '03529', '03544', '03647', '03560', '03354', '03743', '03769', '03535', '03894', '03204', '03391', '03068', '03904', '03658', '03672', '03031', '03827', '03808', '03590', '03923', '03482', '03797', '03392', '03915', '03907']\n",
      "['8', '8', '8', '8', '8', '8', '8', '8', '8', '8', '8', '8', '8', '8', '8', '8', '8', '8', '8', '8', '8', '8', '8', '8', '8', '8', '8', '8', '8', '8', '8', '8', '8', '8', '8', '8', '8', '8', '8', '8', '8', '8', '7', '7', '7', '7', '7', '7', '7', '6', '5', '5', '4', '3', '2', '0', '0', '0', '0']\n"
     ]
    }
   ],
   "source": [
    "names = re.findall(\"(?<=CEL=C\\\">)(.*?)(?= \\()\", table)\n",
    "code = re.findall(\"(?<=WMO=)(.*?)(?=\\&amp)\", table)\n",
    "cloud_level = re.findall(\"(?<=<td>)(\\d)(?=<\\/td>)\", table)\n",
    "print(names)\n",
    "print(code)\n",
    "print(cloud_level)"
   ]
  },
  {
   "cell_type": "markdown",
   "metadata": {},
   "source": [
    "METEOSTAT distance comparison"
   ]
  },
  {
   "cell_type": "code",
   "execution_count": 33,
   "metadata": {},
   "outputs": [],
   "source": [
    "from meteostat import Stations"
   ]
  },
  {
   "cell_type": "code",
   "execution_count": 34,
   "metadata": {},
   "outputs": [
    {
     "name": "stdout",
     "output_type": "stream",
     "text": [
      "2022-03-03 18:08:28.896013\n"
     ]
    }
   ],
   "source": [
    "day = best_time.to_datetime()\n",
    "print(day)"
   ]
  },
  {
   "cell_type": "code",
   "execution_count": 35,
   "metadata": {},
   "outputs": [],
   "source": [
    "stations = Stations().nearby(df['Latitude'][i],df['Longitude'][i])\n",
    "stations = stations.inventory('hourly', day)\n",
    "station = stations.fetch(10)"
   ]
  },
  {
   "cell_type": "code",
   "execution_count": 36,
   "metadata": {},
   "outputs": [
    {
     "data": {
      "text/html": [
       "<div>\n",
       "<style scoped>\n",
       "    .dataframe tbody tr th:only-of-type {\n",
       "        vertical-align: middle;\n",
       "    }\n",
       "\n",
       "    .dataframe tbody tr th {\n",
       "        vertical-align: top;\n",
       "    }\n",
       "\n",
       "    .dataframe thead th {\n",
       "        text-align: right;\n",
       "    }\n",
       "</style>\n",
       "<table border=\"1\" class=\"dataframe\">\n",
       "  <thead>\n",
       "    <tr style=\"text-align: right;\">\n",
       "      <th></th>\n",
       "      <th>name</th>\n",
       "      <th>country</th>\n",
       "      <th>region</th>\n",
       "      <th>wmo</th>\n",
       "      <th>icao</th>\n",
       "      <th>latitude</th>\n",
       "      <th>longitude</th>\n",
       "      <th>elevation</th>\n",
       "      <th>timezone</th>\n",
       "      <th>hourly_start</th>\n",
       "      <th>hourly_end</th>\n",
       "      <th>daily_start</th>\n",
       "      <th>daily_end</th>\n",
       "      <th>monthly_start</th>\n",
       "      <th>monthly_end</th>\n",
       "      <th>distance</th>\n",
       "    </tr>\n",
       "    <tr>\n",
       "      <th>id</th>\n",
       "      <th></th>\n",
       "      <th></th>\n",
       "      <th></th>\n",
       "      <th></th>\n",
       "      <th></th>\n",
       "      <th></th>\n",
       "      <th></th>\n",
       "      <th></th>\n",
       "      <th></th>\n",
       "      <th></th>\n",
       "      <th></th>\n",
       "      <th></th>\n",
       "      <th></th>\n",
       "      <th></th>\n",
       "      <th></th>\n",
       "      <th></th>\n",
       "    </tr>\n",
       "  </thead>\n",
       "  <tbody>\n",
       "    <tr>\n",
       "      <th>03781</th>\n",
       "      <td>Kenley</td>\n",
       "      <td>GB</td>\n",
       "      <td>ENG</td>\n",
       "      <td>03781</td>\n",
       "      <td>&lt;NA&gt;</td>\n",
       "      <td>51.3000</td>\n",
       "      <td>-0.0833</td>\n",
       "      <td>170.0</td>\n",
       "      <td>Europe/London</td>\n",
       "      <td>2018-01-27</td>\n",
       "      <td>2023-11-17</td>\n",
       "      <td>2018-01-28</td>\n",
       "      <td>2022-04-23</td>\n",
       "      <td>2018-01-01</td>\n",
       "      <td>2022-01-01</td>\n",
       "      <td>9338.200596</td>\n",
       "    </tr>\n",
       "    <tr>\n",
       "      <th>EGKB0</th>\n",
       "      <td>Biggin Hill / berry's green</td>\n",
       "      <td>GB</td>\n",
       "      <td>ENG</td>\n",
       "      <td>&lt;NA&gt;</td>\n",
       "      <td>EGKB</td>\n",
       "      <td>51.3167</td>\n",
       "      <td>0.0333</td>\n",
       "      <td>183.0</td>\n",
       "      <td>Europe/London</td>\n",
       "      <td>1988-01-05</td>\n",
       "      <td>2023-11-17</td>\n",
       "      <td>2020-01-14</td>\n",
       "      <td>2022-04-26</td>\n",
       "      <td>2020-01-01</td>\n",
       "      <td>2022-01-01</td>\n",
       "      <td>11857.143928</td>\n",
       "    </tr>\n",
       "    <tr>\n",
       "      <th>EGLC0</th>\n",
       "      <td>London / Abbey Wood</td>\n",
       "      <td>GB</td>\n",
       "      <td>ENG</td>\n",
       "      <td>&lt;NA&gt;</td>\n",
       "      <td>EGLC</td>\n",
       "      <td>51.5000</td>\n",
       "      <td>0.1167</td>\n",
       "      <td>5.0</td>\n",
       "      <td>Europe/London</td>\n",
       "      <td>1988-01-29</td>\n",
       "      <td>2023-11-17</td>\n",
       "      <td>2007-09-26</td>\n",
       "      <td>2022-04-27</td>\n",
       "      <td>2016-01-01</td>\n",
       "      <td>2022-01-01</td>\n",
       "      <td>19846.395835</td>\n",
       "    </tr>\n",
       "    <tr>\n",
       "      <th>03776</th>\n",
       "      <td>London Gatwick Airport</td>\n",
       "      <td>GB</td>\n",
       "      <td>ENG</td>\n",
       "      <td>03776</td>\n",
       "      <td>EGKK</td>\n",
       "      <td>51.1500</td>\n",
       "      <td>-0.1833</td>\n",
       "      <td>62.0</td>\n",
       "      <td>Europe/London</td>\n",
       "      <td>1973-01-01</td>\n",
       "      <td>2023-11-17</td>\n",
       "      <td>1973-01-02</td>\n",
       "      <td>2022-04-25</td>\n",
       "      <td>1961-01-01</td>\n",
       "      <td>2022-01-01</td>\n",
       "      <td>26584.522674</td>\n",
       "    </tr>\n",
       "    <tr>\n",
       "      <th>03772</th>\n",
       "      <td>London Heathrow Airport</td>\n",
       "      <td>GB</td>\n",
       "      <td>ENG</td>\n",
       "      <td>03772</td>\n",
       "      <td>EGLL</td>\n",
       "      <td>51.4833</td>\n",
       "      <td>-0.4500</td>\n",
       "      <td>24.0</td>\n",
       "      <td>Europe/London</td>\n",
       "      <td>1948-12-01</td>\n",
       "      <td>2023-11-17</td>\n",
       "      <td>1948-12-01</td>\n",
       "      <td>2023-11-11</td>\n",
       "      <td>1948-01-01</td>\n",
       "      <td>2022-01-01</td>\n",
       "      <td>26687.835641</td>\n",
       "    </tr>\n",
       "    <tr>\n",
       "      <th>03672</th>\n",
       "      <td>Northolt</td>\n",
       "      <td>GB</td>\n",
       "      <td>ENG</td>\n",
       "      <td>03672</td>\n",
       "      <td>EGWU</td>\n",
       "      <td>51.5500</td>\n",
       "      <td>-0.4167</td>\n",
       "      <td>38.0</td>\n",
       "      <td>Europe/London</td>\n",
       "      <td>1973-01-01</td>\n",
       "      <td>2023-11-17</td>\n",
       "      <td>1973-01-05</td>\n",
       "      <td>2022-04-25</td>\n",
       "      <td>2005-01-01</td>\n",
       "      <td>2022-01-01</td>\n",
       "      <td>28718.403901</td>\n",
       "    </tr>\n",
       "    <tr>\n",
       "      <th>03763</th>\n",
       "      <td>Bracknell / Beaufort Park</td>\n",
       "      <td>GB</td>\n",
       "      <td>ENG</td>\n",
       "      <td>03763</td>\n",
       "      <td>EGRR</td>\n",
       "      <td>51.3833</td>\n",
       "      <td>-0.7833</td>\n",
       "      <td>74.0</td>\n",
       "      <td>Europe/London</td>\n",
       "      <td>1973-01-01</td>\n",
       "      <td>2023-01-31</td>\n",
       "      <td>1992-03-30</td>\n",
       "      <td>2003-09-19</td>\n",
       "      <td>NaT</td>\n",
       "      <td>NaT</td>\n",
       "      <td>47419.174043</td>\n",
       "    </tr>\n",
       "    <tr>\n",
       "      <th>03768</th>\n",
       "      <td>Farnborough</td>\n",
       "      <td>GB</td>\n",
       "      <td>ENG</td>\n",
       "      <td>03768</td>\n",
       "      <td>EGLF</td>\n",
       "      <td>51.2833</td>\n",
       "      <td>-0.7667</td>\n",
       "      <td>65.0</td>\n",
       "      <td>Europe/London</td>\n",
       "      <td>1988-05-01</td>\n",
       "      <td>2023-11-17</td>\n",
       "      <td>1988-05-02</td>\n",
       "      <td>2022-04-25</td>\n",
       "      <td>2005-01-01</td>\n",
       "      <td>2022-01-01</td>\n",
       "      <td>47634.495131</td>\n",
       "    </tr>\n",
       "    <tr>\n",
       "      <th>03673</th>\n",
       "      <td>London / Chiltern Green / Newmill End / Stopsl...</td>\n",
       "      <td>GB</td>\n",
       "      <td>ENG</td>\n",
       "      <td>03673</td>\n",
       "      <td>EGGW</td>\n",
       "      <td>51.8667</td>\n",
       "      <td>-0.3667</td>\n",
       "      <td>160.0</td>\n",
       "      <td>Europe/London</td>\n",
       "      <td>1988-01-05</td>\n",
       "      <td>2023-11-17</td>\n",
       "      <td>1988-01-31</td>\n",
       "      <td>2022-04-25</td>\n",
       "      <td>2009-01-01</td>\n",
       "      <td>2022-01-01</td>\n",
       "      <td>56813.820979</td>\n",
       "    </tr>\n",
       "    <tr>\n",
       "      <th>03691</th>\n",
       "      <td>Southend-On-Sea / Sutton / Prittlewell / Rochford</td>\n",
       "      <td>GB</td>\n",
       "      <td>ENG</td>\n",
       "      <td>03691</td>\n",
       "      <td>EGMC</td>\n",
       "      <td>51.5667</td>\n",
       "      <td>0.7000</td>\n",
       "      <td>15.0</td>\n",
       "      <td>Europe/London</td>\n",
       "      <td>1988-01-05</td>\n",
       "      <td>2023-11-17</td>\n",
       "      <td>1988-01-29</td>\n",
       "      <td>2022-04-25</td>\n",
       "      <td>2020-01-01</td>\n",
       "      <td>2022-01-01</td>\n",
       "      <td>59039.008367</td>\n",
       "    </tr>\n",
       "  </tbody>\n",
       "</table>\n",
       "</div>"
      ],
      "text/plain": [
       "                                                    name country region  \\\n",
       "id                                                                        \n",
       "03781                                             Kenley      GB    ENG   \n",
       "EGKB0                        Biggin Hill / berry's green      GB    ENG   \n",
       "EGLC0                                London / Abbey Wood      GB    ENG   \n",
       "03776                             London Gatwick Airport      GB    ENG   \n",
       "03772                            London Heathrow Airport      GB    ENG   \n",
       "03672                                           Northolt      GB    ENG   \n",
       "03763                          Bracknell / Beaufort Park      GB    ENG   \n",
       "03768                                        Farnborough      GB    ENG   \n",
       "03673  London / Chiltern Green / Newmill End / Stopsl...      GB    ENG   \n",
       "03691  Southend-On-Sea / Sutton / Prittlewell / Rochford      GB    ENG   \n",
       "\n",
       "         wmo  icao  latitude  longitude  elevation       timezone  \\\n",
       "id                                                                  \n",
       "03781  03781  <NA>   51.3000    -0.0833      170.0  Europe/London   \n",
       "EGKB0   <NA>  EGKB   51.3167     0.0333      183.0  Europe/London   \n",
       "EGLC0   <NA>  EGLC   51.5000     0.1167        5.0  Europe/London   \n",
       "03776  03776  EGKK   51.1500    -0.1833       62.0  Europe/London   \n",
       "03772  03772  EGLL   51.4833    -0.4500       24.0  Europe/London   \n",
       "03672  03672  EGWU   51.5500    -0.4167       38.0  Europe/London   \n",
       "03763  03763  EGRR   51.3833    -0.7833       74.0  Europe/London   \n",
       "03768  03768  EGLF   51.2833    -0.7667       65.0  Europe/London   \n",
       "03673  03673  EGGW   51.8667    -0.3667      160.0  Europe/London   \n",
       "03691  03691  EGMC   51.5667     0.7000       15.0  Europe/London   \n",
       "\n",
       "      hourly_start hourly_end daily_start  daily_end monthly_start  \\\n",
       "id                                                                   \n",
       "03781   2018-01-27 2023-11-17  2018-01-28 2022-04-23    2018-01-01   \n",
       "EGKB0   1988-01-05 2023-11-17  2020-01-14 2022-04-26    2020-01-01   \n",
       "EGLC0   1988-01-29 2023-11-17  2007-09-26 2022-04-27    2016-01-01   \n",
       "03776   1973-01-01 2023-11-17  1973-01-02 2022-04-25    1961-01-01   \n",
       "03772   1948-12-01 2023-11-17  1948-12-01 2023-11-11    1948-01-01   \n",
       "03672   1973-01-01 2023-11-17  1973-01-05 2022-04-25    2005-01-01   \n",
       "03763   1973-01-01 2023-01-31  1992-03-30 2003-09-19           NaT   \n",
       "03768   1988-05-01 2023-11-17  1988-05-02 2022-04-25    2005-01-01   \n",
       "03673   1988-01-05 2023-11-17  1988-01-31 2022-04-25    2009-01-01   \n",
       "03691   1988-01-05 2023-11-17  1988-01-29 2022-04-25    2020-01-01   \n",
       "\n",
       "      monthly_end      distance  \n",
       "id                               \n",
       "03781  2022-01-01   9338.200596  \n",
       "EGKB0  2022-01-01  11857.143928  \n",
       "EGLC0  2022-01-01  19846.395835  \n",
       "03776  2022-01-01  26584.522674  \n",
       "03772  2022-01-01  26687.835641  \n",
       "03672  2022-01-01  28718.403901  \n",
       "03763         NaT  47419.174043  \n",
       "03768  2022-01-01  47634.495131  \n",
       "03673  2022-01-01  56813.820979  \n",
       "03691  2022-01-01  59039.008367  "
      ]
     },
     "execution_count": 36,
     "metadata": {},
     "output_type": "execute_result"
    }
   ],
   "source": [
    "station"
   ]
  },
  {
   "cell_type": "code",
   "execution_count": 37,
   "metadata": {},
   "outputs": [
    {
     "name": "stdout",
     "output_type": "stream",
     "text": [
      "Northolt\n"
     ]
    },
    {
     "data": {
      "text/plain": [
       "'7'"
      ]
     },
     "execution_count": 37,
     "metadata": {},
     "output_type": "execute_result"
    }
   ],
   "source": [
    "#finds the first agreement of metrostat and weather online to give closest station\n",
    "closest_name = station['name'][np.where(np.in1d(station.index, code))[0][0]]\n",
    "print(closest_name)\n",
    "cloud_level[np.where(np.in1d(names, closest_name))[0][0]]"
   ]
  }
 ],
 "metadata": {
  "kernelspec": {
   "display_name": "Python 3",
   "language": "python",
   "name": "python3"
  },
  "language_info": {
   "codemirror_mode": {
    "name": "ipython",
    "version": 3
   },
   "file_extension": ".py",
   "mimetype": "text/x-python",
   "name": "python",
   "nbconvert_exporter": "python",
   "pygments_lexer": "ipython3",
   "version": "3.11.5"
  }
 },
 "nbformat": 4,
 "nbformat_minor": 2
}
