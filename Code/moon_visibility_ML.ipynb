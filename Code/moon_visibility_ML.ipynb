{
 "cells": [
  {
   "cell_type": "markdown",
   "metadata": {},
   "source": [
    "# Machine learning to predict new crescent moon visibility"
   ]
  },
  {
   "cell_type": "markdown",
   "metadata": {},
   "source": [
    "## Imports"
   ]
  },
  {
   "cell_type": "code",
   "execution_count": 1,
   "metadata": {},
   "outputs": [],
   "source": [
    "import pandas as pd\n",
    "import numpy as np\n",
    "import seaborn as sns\n",
    "import matplotlib.pyplot as plt\n",
    "\n",
    "# MACHINE LEARNING IMPORTS\n",
    "from xgboost import XGBClassifier\n",
    "from sklearn.model_selection import train_test_split, GridSearchCV\n",
    "from sklearn.ensemble import RandomForestClassifier\n",
    "from sklearn.multioutput import MultiOutputClassifier\n",
    "from sklearn.metrics import confusion_matrix, ConfusionMatrixDisplay, roc_curve, roc_auc_score, accuracy_score\n",
    "from sklearn.preprocessing import MultiLabelBinarizer"
   ]
  },
  {
   "cell_type": "markdown",
   "metadata": {},
   "source": [
    "## Options and setup"
   ]
  },
  {
   "cell_type": "code",
   "execution_count": null,
   "metadata": {},
   "outputs": [
    {
     "ename": "",
     "evalue": "",
     "output_type": "error",
     "traceback": [
      "\u001b[1;31mRunning cells with 'mphys-moon' requires the ipykernel package.\n",
      "\u001b[1;31mRun the following command to install 'ipykernel' into the Python environment. \n",
      "\u001b[1;31mCommand: 'conda install -n mphys-moon ipykernel --update-deps --force-reinstall'"
     ]
    }
   ],
   "source": [
    "#METHOD = False # replace seen column with method seen column\n",
    "MULTI_OUTPUT_METHOD = False #Replace naked eye seen column with array of methods\n",
    "MULTI_LABEL_METHOD = False #Replace naked eye seen column with either seen, visual aid or not seen\n",
    "XGBOOST = True #Use xgboost forest or random forest\n",
    "RANDOM = False # replace data with random arrays\n",
    "CLOUDCUT = False # cut all complete cloud cover data points\n",
    "GRID_SEARCH = False # gridsearch for best hyperparameters\n",
    "REPEAT_ACCURACY = False #Run 20 times and calculate average accuracy\n",
    "LINUX = True #Use linux file paths\n",
    "USE_GPU = True #Use a GPU\n",
    "\n",
    "TITLE = f\"{'XGBoost' if XGBOOST else 'Random Forest'} {'Eye' if not MULTI_LABEL_METHOD and not MULTI_OUTPUT_METHOD else ''}{'Multi-label' if MULTI_LABEL_METHOD else ''}{'Multi-output' if MULTI_OUTPUT_METHOD else ''} visibility\""
   ]
  },
  {
   "cell_type": "markdown",
   "metadata": {},
   "source": [
    "## Hyperparameters"
   ]
  },
  {
   "cell_type": "code",
   "execution_count": null,
   "metadata": {},
   "outputs": [
    {
     "ename": "",
     "evalue": "",
     "output_type": "error",
     "traceback": [
      "\u001b[1;31mRunning cells with 'mphys-moon' requires the ipykernel package.\n",
      "\u001b[1;31mRun the following command to install 'ipykernel' into the Python environment. \n",
      "\u001b[1;31mCommand: 'conda install -n mphys-moon ipykernel --update-deps --force-reinstall'"
     ]
    }
   ],
   "source": [
    "if XGBOOST:\n",
    "    if MULTI_OUTPUT_METHOD:\n",
    "        PARAMS = {'learning_rate': 0.1733, 'max_depth': 6, 'n_estimators': 50}\n",
    "    elif MULTI_LABEL_METHOD:\n",
    "        PARAMS = {'learning_rate': 0.4183, 'max_depth': 2, 'n_estimators': 100}\n",
    "    else:\n",
    "         PARAMS = {'learning_rate': 0.55, 'max_depth': 3, 'n_estimators': 110}\n",
    "         \n",
    "else: #Random forest\n",
    "    if MULTI_OUTPUT_METHOD:\n",
    "        PARAMS = {}\n",
    "    elif MULTI_LABEL_METHOD:\n",
    "        PARAMS = {'max_depth': 10, 'max_features': 'log2', 'n_estimators': 50}\n",
    "    else:\n",
    "         PARAMS = {'max_depth': 12, 'n_estimators': 150}"
   ]
  },
  {
   "cell_type": "markdown",
   "metadata": {},
   "source": [
    "## Reading in data"
   ]
  },
  {
   "cell_type": "code",
   "execution_count": null,
   "metadata": {},
   "outputs": [
    {
     "ename": "",
     "evalue": "",
     "output_type": "error",
     "traceback": [
      "\u001b[1;31mRunning cells with 'mphys-moon' requires the ipykernel package.\n",
      "\u001b[1;31mRun the following command to install 'ipykernel' into the Python environment. \n",
      "\u001b[1;31mCommand: 'conda install -n mphys-moon ipykernel --update-deps --force-reinstall'"
     ]
    }
   ],
   "source": [
    "icouk_data_file = '..\\\\Data\\\\icouk_sighting_data_with_params.csv'\n",
    "icop_data_file = '..\\\\Data\\\\icop_ahmed_2020_sighting_data_with_params.csv'\n",
    "alrefay_data_file = '..\\\\Data\\\\alrefay_2018_sighting_data_with_params.csv'\n",
    "allawi_data_file = '..\\\\Data\\\\schaefer_odeh_allawi_2022_sighting_data_with_params.csv'\n",
    "yallop_data_file = '..\\\\Data\\\\Data/yallop_sighting_data_with_params.csv'\n",
    "\n",
    "if LINUX:\n",
    "    icouk_data_file = '../Data/icouk_sighting_data_with_params.csv'\n",
    "    icop_data_file = '../Data/icop_ahmed_2020_sighting_data_with_params.csv'\n",
    "    alrefay_data_file = '../Data/alrefay_2018_sighting_data_with_params.csv'\n",
    "    allawi_data_file = '../Data/schaefer_odeh_allawi_2022_sighting_data_with_params.csv'\n",
    "    yallop_data_file = '../Data/yallop_sighting_data_with_params.csv'\n",
    "\n",
    "icouk_data = pd.read_csv(icouk_data_file)\n",
    "icop_data = pd.read_csv(icop_data_file)\n",
    "alrefay_data = pd.read_csv(alrefay_data_file)\n",
    "allawi_data = pd.read_csv(allawi_data_file)\n",
    "yallop_data = pd.read_csv(yallop_data_file)\n",
    "\n",
    "\n",
    "data = pd.concat([icouk_data,icop_data,alrefay_data,yallop_data])\n",
    "\n",
    "print(f\"Loaded {data.shape[0]} rows\")\n",
    "\n",
    "#Drop index, dependent parameters (q value etc) and visibility scale\n",
    "data = data.drop([\"Index\",\"q\",\"W\",\"q'\",\"W'\",\"Visibility\",\"Source\"], axis = 1)\n",
    "\n",
    "if MULTI_OUTPUT_METHOD:\n",
    "    data = data.drop([\"Seen\", \"Method\"], axis = 1) # replaced by methods column\n",
    "\n",
    "    ptype = [\"Seen_eye\", \"Seen_binoculars\", \"Seen_telescope\", \"Seen_ccd\",\"Not_seen\"]\n",
    "\n",
    "elif MULTI_LABEL_METHOD:\n",
    "    data = data.drop([\"Seen\", \"Methods\"], axis = 1) # replaced by method column\n",
    "    data[\"Method\"] = data[\"Method\"].replace(\"Seen_binoculars\", \"Seen_with_aid\")\n",
    "    data[\"Method\"] = data[\"Method\"].replace(\"Seen_telescope\", \"Seen_with_aid\")\n",
    "    data[\"Method\"] = data[\"Method\"].replace(\"Seen_ccd\", \"Seen_with_aid\")\n",
    "\n",
    "    ptype = [\"Seen_eye\", \"Seen_with_aid\", \"Not_seen\"]\n",
    "\n",
    "else:\n",
    "    data = data[data[\"Method\"] !=\"Seen_binoculars\"] #DROP BINOCULARS\n",
    "    data = data[data[\"Method\"] !=\"Seen_ccd\"] #DROP CCD\n",
    "    data = data[data[\"Method\"] !=\"Seen_telescope\"] #DROP TELESCOPE\n",
    "    \n",
    "    data=data.drop(['Method','Methods'], axis = 1) #Only use seen\n",
    "\n",
    "    ptype = [\"Seen\", \"Not_seen\"]\n",
    "\n",
    "if RANDOM:\n",
    "    data.insert(1,\"Random1\",np.random.rand(data.shape[0],1))\n",
    "    data.insert(2,\"Random2\",np.random.rand(data.shape[0],1))\n",
    "    data = data[['Seen', \"Random1\",\"Random2\"]]\n",
    "\n",
    "if CLOUDCUT:\n",
    "    data = data[data[\"Cloud Level\"] <= 0.5]\n",
    "    #data = data[data[\"Cloud Level\"] == 0]\n",
    "\n",
    "print(f\"Using {data.shape[0]} rows\")\n",
    "data.head(5)"
   ]
  },
  {
   "cell_type": "markdown",
   "metadata": {},
   "source": [
    "## Visualising variables"
   ]
  },
  {
   "cell_type": "code",
   "execution_count": null,
   "metadata": {},
   "outputs": [
    {
     "ename": "",
     "evalue": "",
     "output_type": "error",
     "traceback": [
      "\u001b[1;31mRunning cells with 'mphys-moon' requires the ipykernel package.\n",
      "\u001b[1;31mRun the following command to install 'ipykernel' into the Python environment. \n",
      "\u001b[1;31mCommand: 'conda install -n mphys-moon ipykernel --update-deps --force-reinstall'"
     ]
    }
   ],
   "source": [
    "# Visualising a couple of variables.\n",
    "variable_list =  data.columns.tolist()\n",
    "print(variable_list)\n",
    "\n",
    "# Plot data\n",
    "showpairplot = False\n",
    "if showpairplot == True:\n",
    "   fig = sns.pairplot(data[variable_list], hue = 'Seen', palette = 'bright')\n",
    "\n",
    "   # Change location of legend\n",
    "   fig._legend.set_bbox_to_anchor((1.05, 0.5))\n",
    "\n",
    "   # Add legend\n",
    "   for t, l in zip(fig._legend.texts, ptype):\n",
    "      t.set_text(str(t.get_text()) + \" - \" + str(l))\n",
    "\n",
    "   plt.show()\n"
   ]
  },
  {
   "cell_type": "markdown",
   "metadata": {},
   "source": [
    "## ML Training"
   ]
  },
  {
   "cell_type": "code",
   "execution_count": null,
   "metadata": {},
   "outputs": [
    {
     "ename": "",
     "evalue": "",
     "output_type": "error",
     "traceback": [
      "\u001b[1;31mRunning cells with 'mphys-moon' requires the ipykernel package.\n",
      "\u001b[1;31mRun the following command to install 'ipykernel' into the Python environment. \n",
      "\u001b[1;31mCommand: 'conda install -n mphys-moon ipykernel --update-deps --force-reinstall'"
     ]
    }
   ],
   "source": [
    "# List of features without label feature\n",
    "variable_list =  data.columns.tolist()\n",
    "features = variable_list\n",
    "\n",
    "\n",
    "if MULTI_OUTPUT_METHOD:\n",
    "    orig_y = np.array(data['Methods'].str.split(\";\"))\n",
    "    mlb = MultiLabelBinarizer(classes=ptype)\n",
    "    y = mlb.fit_transform(orig_y)\n",
    "    features.remove('Methods')\n",
    "    # test = pd.DataFrame(y, columns=mlb.classes_)\n",
    "    # print(test.head(10))\n",
    "\n",
    "elif MULTI_LABEL_METHOD:\n",
    "    data[\"Method\"] = data[\"Method\"].replace(\"Seen_eye\",2) #XGboost needs 1 and 0\n",
    "    data[\"Method\"] = data[\"Method\"].replace(\"Seen_with_aid\",1)\n",
    "    data[\"Method\"] = data[\"Method\"].replace(\"Not_seen\",0)\n",
    "    y = np.array(data['Method'])\n",
    "    features.remove('Method')\n",
    "    \n",
    "else:\n",
    "    if XGBOOST:\n",
    "        data[\"Seen\"] = data[\"Seen\"].replace(\"Seen\",1) #XGboost needs 1 and 0\n",
    "        data[\"Seen\"] = data[\"Seen\"].replace(\"Not_seen\", 0)\n",
    "    y = np.array(data['Seen'])\n",
    "    features.remove('Seen')\n",
    "    pos = 'Seen' # for ROC curve +ve result\n",
    "\n",
    "X = data[features]\n",
    "\n",
    "x_train, x_test, y_train, y_test = train_test_split(X, y, test_size=0.2) # 80/20 training/test split"
   ]
  },
  {
   "cell_type": "code",
   "execution_count": null,
   "metadata": {},
   "outputs": [
    {
     "ename": "",
     "evalue": "",
     "output_type": "error",
     "traceback": [
      "\u001b[1;31mRunning cells with 'mphys-moon' requires the ipykernel package.\n",
      "\u001b[1;31mRun the following command to install 'ipykernel' into the Python environment. \n",
      "\u001b[1;31mCommand: 'conda install -n mphys-moon ipykernel --update-deps --force-reinstall'"
     ]
    }
   ],
   "source": [
    "# Produce randomforest classifier model and fit to training data\n",
    "def select_model():\n",
    "    if XGBOOST:\n",
    "        if MULTI_OUTPUT_METHOD:\n",
    "            if USE_GPU:\n",
    "                method = \"gpu_hist\"\n",
    "            else:\n",
    "                method = \"hist\"\n",
    "            model = XGBClassifier(tree_method=method, n_jobs=-1)\n",
    "        else:\n",
    "            model = XGBClassifier(n_jobs=-1)\n",
    "    else:\n",
    "        if MULTI_OUTPUT_METHOD:\n",
    "            model = MultiOutputClassifier(RandomForestClassifier(n_jobs=-1))\n",
    "        else:\n",
    "            model = RandomForestClassifier(n_jobs=-1)\n",
    "\n",
    "    model = model.set_params(**PARAMS)\n",
    "    return model\n",
    "model = select_model()\n",
    "# Fitting takes the input and \"truth\" data for classification purposes\n",
    "model.fit(x_train, y_train)"
   ]
  },
  {
   "cell_type": "code",
   "execution_count": null,
   "metadata": {},
   "outputs": [
    {
     "ename": "",
     "evalue": "",
     "output_type": "error",
     "traceback": [
      "\u001b[1;31mRunning cells with 'mphys-moon' requires the ipykernel package.\n",
      "\u001b[1;31mRun the following command to install 'ipykernel' into the Python environment. \n",
      "\u001b[1;31mCommand: 'conda install -n mphys-moon ipykernel --update-deps --force-reinstall'"
     ]
    }
   ],
   "source": [
    "def get_easiest_method_array(methods):\n",
    "    easiest_methods = np.zeros(methods.shape)\n",
    "    easiest_methods[np.arange(0,methods.shape[0],1),np.argmax(methods,axis=1)] = 1\n",
    "    return easiest_methods\n",
    "\n",
    "def get_easiest_method_names(methods):\n",
    "    easiest_methods = get_easiest_method_array(methods)\n",
    "    return mlb.inverse_transform(easiest_methods.astype(int))\n",
    "\n",
    "# Produce predictions for the classification of your training dataset using your model:\n",
    "y_pred = model.predict(x_train)\n",
    "\n",
    "# plot the accuracies of said predictions\n",
    "print(\"Accuracy on training dataset:\",accuracy_score(y_train, y_pred))\n",
    "rf_acc_train = accuracy_score(y_train, y_pred)\n",
    "y_pred = model.predict(x_test)\n",
    "\n",
    "print(\"Accuracy on testing dataset:\", accuracy_score(y_test, y_pred))\n",
    "rf_acc_test = accuracy_score(y_test, y_pred)\n",
    "\n",
    "if MULTI_OUTPUT_METHOD:\n",
    "    print(\"Accuracy on testing dataset (easiest method only):\", accuracy_score(get_easiest_method_names(y_test), get_easiest_method_names(y_pred)))\n",
    "\n"
   ]
  },
  {
   "cell_type": "markdown",
   "metadata": {},
   "source": [
    "## ROC curve"
   ]
  },
  {
   "cell_type": "code",
   "execution_count": null,
   "metadata": {},
   "outputs": [
    {
     "ename": "",
     "evalue": "",
     "output_type": "error",
     "traceback": [
      "\u001b[1;31mRunning cells with 'mphys-moon' requires the ipykernel package.\n",
      "\u001b[1;31mRun the following command to install 'ipykernel' into the Python environment. \n",
      "\u001b[1;31mCommand: 'conda install -n mphys-moon ipykernel --update-deps --force-reinstall'"
     ]
    }
   ],
   "source": [
    "# Get predicted class probabilities for the test set \n",
    "if MULTI_OUTPUT_METHOD:\n",
    "    #y_pred_prob = rf.predict_proba(x_test)\n",
    "    #roc_auc = roc_auc_score(y_test, y_pred_prob)\n",
    "    print(\"Not currently working\")\n",
    "elif MULTI_LABEL_METHOD:\n",
    "    y_pred_prob = model.predict_proba(x_test)\n",
    "    roc_auc = roc_auc_score(y_test, y_pred_prob, multi_class=\"ovr\")\n",
    "    print(f\"ROC curve {roc_auc}\")\n",
    "else:\n",
    "    y_pred_prob = model.predict_proba(x_test)[:, 1] \n",
    "    roc_auc = roc_auc_score(y_test, y_pred_prob)\n",
    "    print(f\"ROC curve {roc_auc}\")"
   ]
  },
  {
   "cell_type": "code",
   "execution_count": null,
   "metadata": {},
   "outputs": [
    {
     "ename": "",
     "evalue": "",
     "output_type": "error",
     "traceback": [
      "\u001b[1;31mRunning cells with 'mphys-moon' requires the ipykernel package.\n",
      "\u001b[1;31mRun the following command to install 'ipykernel' into the Python environment. \n",
      "\u001b[1;31mCommand: 'conda install -n mphys-moon ipykernel --update-deps --force-reinstall'"
     ]
    }
   ],
   "source": [
    "if MULTI_OUTPUT_METHOD:\n",
    "    # roc curve for Multi classes \n",
    "    colors = ['orange','red','green','blue','purple'] \n",
    "    print(\"Not currently working\")\n",
    "else:\n",
    "    # Compute the false positive rate (FPR) \n",
    "    # and true positive rate (TPR) for different classification thresholds\n",
    "    if MULTI_LABEL_METHOD:\n",
    "        pos = 2\n",
    "        fpr, tpr, thresholds = roc_curve(y_test, y_pred_prob[:,2], pos_label=pos)\n",
    "    else:\n",
    "        if XGBOOST:\n",
    "            pos = 1\n",
    "        fpr, tpr, thresholds = roc_curve(y_test, y_pred_prob, pos_label=pos)\n",
    "    # Plot the ROC curve \n",
    "    plt.plot(fpr, tpr, label='ROC curve (area = %0.2f)' % roc_auc) \n",
    "    # roc curve for tpr = fpr  \n",
    "    plt.plot([0, 1], [0, 1], 'k--', label='Random classifier') \n",
    "    plt.xlabel('False Positive Rate') \n",
    "    plt.ylabel('True Positive Rate') \n",
    "    plt.title(f'ROC Curve ({TITLE})') \n",
    "    plt.legend(loc=\"lower right\") \n",
    "    plt.show()"
   ]
  },
  {
   "cell_type": "code",
   "execution_count": null,
   "metadata": {},
   "outputs": [
    {
     "ename": "",
     "evalue": "",
     "output_type": "error",
     "traceback": [
      "\u001b[1;31mRunning cells with 'mphys-moon' requires the ipykernel package.\n",
      "\u001b[1;31mRun the following command to install 'ipykernel' into the Python environment. \n",
      "\u001b[1;31mCommand: 'conda install -n mphys-moon ipykernel --update-deps --force-reinstall'"
     ]
    }
   ],
   "source": [
    "# Plot the predicted class probabilities \n",
    "if not MULTI_OUTPUT_METHOD:\n",
    "    plt.hist(y_pred_prob, bins=10) \n",
    "    plt.xlim(0, 1) \n",
    "    plt.title(f'Histogram of predicted probabilities ({TITLE})') \n",
    "    plt.xlabel('Predicted probability') \n",
    "    plt.ylabel('Frequency') \n",
    "    plt.show() "
   ]
  },
  {
   "cell_type": "code",
   "execution_count": null,
   "metadata": {},
   "outputs": [
    {
     "ename": "",
     "evalue": "",
     "output_type": "error",
     "traceback": [
      "\u001b[1;31mRunning cells with 'mphys-moon' requires the ipykernel package.\n",
      "\u001b[1;31mRun the following command to install 'ipykernel' into the Python environment. \n",
      "\u001b[1;31mCommand: 'conda install -n mphys-moon ipykernel --update-deps --force-reinstall'"
     ]
    }
   ],
   "source": [
    "if REPEAT_ACCURACY:\n",
    "    # Function to run thr random forest several times to get an average\n",
    "    def random_forest(x_train, y_train, x_test, y_test, rf):\n",
    "        accuracy_arr = []\n",
    "        for i in range(20):\n",
    "            # Fitting takes the input and \"truth\" data for classification purposes\n",
    "            rf.fit(x_train, y_train)\n",
    "            # Produce predictions for the classification of your training dataset using your model:\n",
    "            y_pred = rf.predict(x_test)\n",
    "            #print(\"Accuracy on testing dataset:\",accuracy_score(y_test, y_pred))\n",
    "            accuracy_arr.append(accuracy_score(y_test, y_pred))\n",
    "        \n",
    "        accuracy_avg = np.mean(accuracy_arr)\n",
    "        accuracy_std = np.std(accuracy_arr)\n",
    "        return accuracy_avg,accuracy_std\n",
    "\n",
    "    rf = RandomForestClassifier(n_estimators=100, criterion='gini')#, criterion = 'gini', max_depth=12,random_state=0, oob_score=True)\n",
    "    accuracy_val=random_forest(x_train, y_train, x_test, y_test, rf)\n",
    "\n",
    "    print(r\"When run 20 times the accuracy is {:.5} \\pm {:.5}:\".format(accuracy_val[0],accuracy_val[1]))"
   ]
  },
  {
   "cell_type": "code",
   "execution_count": null,
   "metadata": {},
   "outputs": [
    {
     "ename": "",
     "evalue": "",
     "output_type": "error",
     "traceback": [
      "\u001b[1;31mRunning cells with 'mphys-moon' requires the ipykernel package.\n",
      "\u001b[1;31mRun the following command to install 'ipykernel' into the Python environment. \n",
      "\u001b[1;31mCommand: 'conda install -n mphys-moon ipykernel --update-deps --force-reinstall'"
     ]
    }
   ],
   "source": [
    "print('Oob Score: ', model.score(x_test, y_test))"
   ]
  },
  {
   "cell_type": "code",
   "execution_count": null,
   "metadata": {},
   "outputs": [
    {
     "ename": "",
     "evalue": "",
     "output_type": "error",
     "traceback": [
      "\u001b[1;31mRunning cells with 'mphys-moon' requires the ipykernel package.\n",
      "\u001b[1;31mRun the following command to install 'ipykernel' into the Python environment. \n",
      "\u001b[1;31mCommand: 'conda install -n mphys-moon ipykernel --update-deps --force-reinstall'"
     ]
    }
   ],
   "source": [
    "# plot your confusion matrix\n",
    "if MULTI_OUTPUT_METHOD:\n",
    "    cm = confusion_matrix(get_easiest_method_names(y_test), get_easiest_method_names(y_pred),normalize = 'true')\n",
    "else:\n",
    "    cm = confusion_matrix(y_test, y_pred,normalize = 'true')\n",
    "disp = ConfusionMatrixDisplay(confusion_matrix=cm, display_labels=ptype)\n",
    "disp.plot()\n",
    "plt.title(f\"Confusion matrix ({TITLE})\")\n",
    "plt.show()"
   ]
  },
  {
   "cell_type": "code",
   "execution_count": null,
   "metadata": {},
   "outputs": [
    {
     "ename": "",
     "evalue": "",
     "output_type": "error",
     "traceback": [
      "\u001b[1;31mRunning cells with 'mphys-moon' requires the ipykernel package.\n",
      "\u001b[1;31mRun the following command to install 'ipykernel' into the Python environment. \n",
      "\u001b[1;31mCommand: 'conda install -n mphys-moon ipykernel --update-deps --force-reinstall'"
     ]
    }
   ],
   "source": [
    "# Plot importance\n",
    "if not XGBOOST and MULTI_OUTPUT_METHOD:\n",
    "    feat_impts = [] \n",
    "    for clf in model.estimators_:\n",
    "        feat_impts.append(clf.feature_importances_) \n",
    "\n",
    "    importance = np.mean(feat_impts, axis=0)\n",
    "\n",
    "else:\n",
    "    importance = model.feature_importances_\n",
    "\n",
    "ytix = features\n",
    "plt.barh(range(len(features)), importance)\n",
    "plt.yticks(range(len(features)), features)\n",
    "plt.xlabel(\"Importance\")\n",
    "plt.ylabel(\"Features\")\n",
    "plt.title(f\"Importance Graph ({TITLE})\")\n",
    "plt.show()"
   ]
  },
  {
   "cell_type": "markdown",
   "metadata": {},
   "source": [
    "## Hyperparameter adjustment"
   ]
  },
  {
   "cell_type": "code",
   "execution_count": null,
   "metadata": {},
   "outputs": [
    {
     "ename": "",
     "evalue": "",
     "output_type": "error",
     "traceback": [
      "\u001b[1;31mRunning cells with 'mphys-moon' requires the ipykernel package.\n",
      "\u001b[1;31mRun the following command to install 'ipykernel' into the Python environment. \n",
      "\u001b[1;31mCommand: 'conda install -n mphys-moon ipykernel --update-deps --force-reinstall'"
     ]
    }
   ],
   "source": [
    "if GRID_SEARCH and not (not XGBOOST and MULTI_OUTPUT_METHOD):\n",
    "    model = select_model()\n",
    "\n",
    "    if XGBOOST:\n",
    "        test_params = {\n",
    "            'max_depth': np.arange(2,10,2),\n",
    "            'n_estimators': [10,25,30,50,100,200],\n",
    "            'learning_rate': np.linspace(0.01,0.5,7)}\n",
    "            #     'max_leaf_nodes': [2,5,10,20],\n",
    "    else:\n",
    "\n",
    "        test_params = {\n",
    "            'max_depth': np.arange(2,16,1),\n",
    "            'n_estimators': [10,25,30,50,100,150,200]}\n",
    "            #'max_features': ['sqrt', 'log2', None]}\n",
    "            # 'max_leaf_nodes': [2,5,10,20],\n",
    "            # 'min_samples_leaf': [2,3, 5,10],\n",
    "            # 'min_samples_split': [2,3,5,10]}\n",
    "\n",
    "    # Instantiate the grid search model\n",
    "    grid_search = GridSearchCV(estimator=model,\n",
    "        param_grid=test_params,\n",
    "         verbose=2,n_jobs=-1,\n",
    "          scoring=\"roc_auc\")\n",
    "\n",
    "    grid_search.fit(x_train, y_train)\n",
    "    #print(grid_search.best_score_)\n",
    "    model_best = grid_search.best_estimator_\n",
    "    print(grid_search.best_params_) \n",
    "\n",
    "    # Produce predictions for the classification of your training dataset using your model:\n",
    "    y_pred_best = model_best.predict(x_train)\n",
    "\n",
    "    # plot the accuracies of said predictions\n",
    "    model_best_acc_train = accuracy_score(y_train, y_pred_best)\n",
    "    \n",
    "    print(f\"Accuracy on training dataset: {round(model_best_acc_train,5)}\",)\n",
    "    \n",
    "    y_pred_best = model_best.predict(x_test)\n",
    "    model_best_acc_test = accuracy_score(y_test, y_pred_best)\n",
    "    print(f\"Accuracy on testing dataset:{round(model_best_acc_test,5)}\")\n",
    "    "
   ]
  }
 ],
 "metadata": {
  "kernelspec": {
   "display_name": "Python 3 (ipykernel)",
   "language": "python",
   "name": "python3"
  },
  "language_info": {
   "codemirror_mode": {
    "name": "ipython",
    "version": 3
   },
   "file_extension": ".py",
   "mimetype": "text/x-python",
   "name": "python",
   "nbconvert_exporter": "python",
   "pygments_lexer": "ipython3",
   "version": "3.11.5"
  }
 },
 "nbformat": 4,
 "nbformat_minor": 4
}
