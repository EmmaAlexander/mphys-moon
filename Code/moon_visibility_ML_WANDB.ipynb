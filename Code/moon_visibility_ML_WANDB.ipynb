{
 "cells": [
  {
   "cell_type": "markdown",
   "metadata": {},
   "source": [
    "# Machine learning to predict new crescent moon visibility"
   ]
  },
  {
   "cell_type": "markdown",
   "metadata": {},
   "source": [
    "## Imports"
   ]
  },
  {
   "cell_type": "code",
   "execution_count": 60,
   "metadata": {},
   "outputs": [],
   "source": [
    "import pandas as pd\n",
    "import numpy as np\n",
    "import seaborn as sns\n",
    "import matplotlib.pyplot as plt\n",
    "\n",
    "# MACHINE LEARNING IMPORTS\n",
    "from xgboost import XGBClassifier\n",
    "from sklearn.model_selection import train_test_split, GridSearchCV\n",
    "from sklearn.ensemble import RandomForestClassifier\n",
    "from sklearn.multioutput import MultiOutputClassifier\n",
    "from sklearn.metrics import confusion_matrix, ConfusionMatrixDisplay, roc_curve, roc_auc_score, accuracy_score\n",
    "from sklearn.preprocessing import MultiLabelBinarizer\n",
    "\n",
    "#WANDB IMPORTS\n",
    "import wandb\n",
    "from wandb.xgboost import WandbCallback"
   ]
  },
  {
   "cell_type": "markdown",
   "metadata": {},
   "source": [
    "## Options and setup"
   ]
  },
  {
   "cell_type": "code",
   "execution_count": 61,
   "metadata": {},
   "outputs": [],
   "source": [
    "#METHOD = False # replace seen column with method seen column\n",
    "MULTI_OUTPUT_METHOD = False #Replace naked eye seen column with array of methods\n",
    "MULTI_LABEL_METHOD = False #Replace naked eye seen column with either seen, visual aid or not seen\n",
    "XGBOOST = True #Use xgboost forest or random forest\n",
    "RANDOM = False # replace data with random arrays\n",
    "CLOUDCUT = False # cut all complete cloud cover data points\n",
    "REPEAT_ACCURACY = False #Run 20 times and calculate average accuracy\n",
    "LINUX = True #Use linux file paths\n",
    "USE_GPU = True #Use a GPU\n",
    "WANDB = True # Log to weights and biases.\n",
    "\n",
    "TITLE = f\"{'XGBoost' if XGBOOST else 'Random Forest'} {'Eye' if not MULTI_LABEL_METHOD and not MULTI_OUTPUT_METHOD else ''}{'Multi-label' if MULTI_LABEL_METHOD else ''}{'Multi-output' if MULTI_OUTPUT_METHOD else ''} visibility\""
   ]
  },
  {
   "cell_type": "markdown",
   "metadata": {},
   "source": [
    "## Hyperparameters"
   ]
  },
  {
   "cell_type": "code",
   "execution_count": 62,
   "metadata": {},
   "outputs": [],
   "source": [
    "if not WANDB:\n",
    "    if XGBOOST:\n",
    "        if MULTI_OUTPUT_METHOD:\n",
    "            PARAMS = {'learning_rate': 0.1733, 'max_depth': 6, 'n_estimators': 50}\n",
    "        elif MULTI_LABEL_METHOD:\n",
    "            PARAMS = {'learning_rate': 0.4183, 'max_depth': 2, 'n_estimators': 100}\n",
    "        else:\n",
    "            PARAMS = {'learning_rate': 0.5, 'max_depth': 2, 'n_estimators': 50}\n",
    "            \n",
    "    else: #Random forest\n",
    "        if MULTI_OUTPUT_METHOD:\n",
    "            PARAMS = {}\n",
    "        elif MULTI_LABEL_METHOD:\n",
    "            PARAMS = {'max_depth': 10, 'max_features': 'log2', 'n_estimators': 50}\n",
    "        else:\n",
    "            PARAMS = {'max_depth': 12, 'n_estimators': 150}"
   ]
  },
  {
   "cell_type": "code",
   "execution_count": 63,
   "metadata": {},
   "outputs": [
    {
     "data": {
      "text/html": [
       "Tracking run with wandb version 0.15.12"
      ],
      "text/plain": [
       "<IPython.core.display.HTML object>"
      ]
     },
     "metadata": {},
     "output_type": "display_data"
    },
    {
     "data": {
      "text/html": [
       "Run data is saved locally in <code>/raid/scratch/npower/mphys-moon/Code/wandb/run-20231107_161822-0txabx3d</code>"
      ],
      "text/plain": [
       "<IPython.core.display.HTML object>"
      ]
     },
     "metadata": {},
     "output_type": "display_data"
    },
    {
     "data": {
      "text/html": [
       "Syncing run <strong><a href='https://wandb.ai/moon-phys/moon_visibility_xgboost/runs/0txabx3d' target=\"_blank\">rural-shadow-169</a></strong> to <a href='https://wandb.ai/moon-phys/moon_visibility_xgboost' target=\"_blank\">Weights & Biases</a> (<a href='https://wandb.me/run' target=\"_blank\">docs</a>)<br/>"
      ],
      "text/plain": [
       "<IPython.core.display.HTML object>"
      ]
     },
     "metadata": {},
     "output_type": "display_data"
    },
    {
     "data": {
      "text/html": [
       " View project at <a href='https://wandb.ai/moon-phys/moon_visibility_xgboost' target=\"_blank\">https://wandb.ai/moon-phys/moon_visibility_xgboost</a>"
      ],
      "text/plain": [
       "<IPython.core.display.HTML object>"
      ]
     },
     "metadata": {},
     "output_type": "display_data"
    },
    {
     "data": {
      "text/html": [
       " View run at <a href='https://wandb.ai/moon-phys/moon_visibility_xgboost/runs/0txabx3d' target=\"_blank\">https://wandb.ai/moon-phys/moon_visibility_xgboost/runs/0txabx3d</a>"
      ],
      "text/plain": [
       "<IPython.core.display.HTML object>"
      ]
     },
     "metadata": {},
     "output_type": "display_data"
    }
   ],
   "source": [
    "if WANDB and XGBOOST:\n",
    "    wandb.init(\n",
    "        # set the wandb project where this run will be logged\n",
    "        project=\"moon_visibility_xgboost\",\n",
    "        config=PARAMS)"
   ]
  },
  {
   "cell_type": "markdown",
   "metadata": {},
   "source": [
    "## Reading in data"
   ]
  },
  {
   "cell_type": "code",
   "execution_count": 64,
   "metadata": {},
   "outputs": [
    {
     "name": "stdout",
     "output_type": "stream",
     "text": [
      "Loaded 3626 rows\n",
      "Using 3091 rows\n"
     ]
    },
    {
     "data": {
      "text/html": [
       "<div>\n",
       "<style scoped>\n",
       "    .dataframe tbody tr th:only-of-type {\n",
       "        vertical-align: middle;\n",
       "    }\n",
       "\n",
       "    .dataframe tbody tr th {\n",
       "        vertical-align: top;\n",
       "    }\n",
       "\n",
       "    .dataframe thead th {\n",
       "        text-align: right;\n",
       "    }\n",
       "</style>\n",
       "<table border=\"1\" class=\"dataframe\">\n",
       "  <thead>\n",
       "    <tr style=\"text-align: right;\">\n",
       "      <th></th>\n",
       "      <th>Date</th>\n",
       "      <th>Latitude</th>\n",
       "      <th>Longitude</th>\n",
       "      <th>Moon Age</th>\n",
       "      <th>Sunset</th>\n",
       "      <th>Moonset</th>\n",
       "      <th>Lag</th>\n",
       "      <th>Moon Alt</th>\n",
       "      <th>Moon Az</th>\n",
       "      <th>Sun Alt</th>\n",
       "      <th>Sun Az</th>\n",
       "      <th>Moon-Earth Dist</th>\n",
       "      <th>Sun-Moon Dist</th>\n",
       "      <th>ARCL</th>\n",
       "      <th>ARCV</th>\n",
       "      <th>DAZ</th>\n",
       "      <th>Illumination</th>\n",
       "      <th>Parallax</th>\n",
       "      <th>Cloud Level</th>\n",
       "      <th>Seen</th>\n",
       "    </tr>\n",
       "  </thead>\n",
       "  <tbody>\n",
       "    <tr>\n",
       "      <th>0</th>\n",
       "      <td>2.457309e+06</td>\n",
       "      <td>53.95763</td>\n",
       "      <td>-1.08271</td>\n",
       "      <td>0.722</td>\n",
       "      <td>2.457309e+06</td>\n",
       "      <td>2.457309e+06</td>\n",
       "      <td>27.05935</td>\n",
       "      <td>1.51838</td>\n",
       "      <td>252.00232</td>\n",
       "      <td>-1.73173</td>\n",
       "      <td>259.02584</td>\n",
       "      <td>0.00271</td>\n",
       "      <td>0.99508</td>\n",
       "      <td>7.73820</td>\n",
       "      <td>3.25011</td>\n",
       "      <td>7.02353</td>\n",
       "      <td>0.00455</td>\n",
       "      <td>54.14174</td>\n",
       "      <td>1.0</td>\n",
       "      <td>Not_seen</td>\n",
       "    </tr>\n",
       "    <tr>\n",
       "      <th>1</th>\n",
       "      <td>2.457339e+06</td>\n",
       "      <td>53.95763</td>\n",
       "      <td>-1.08271</td>\n",
       "      <td>1.687</td>\n",
       "      <td>2.457339e+06</td>\n",
       "      <td>2.457339e+06</td>\n",
       "      <td>57.80819</td>\n",
       "      <td>3.36486</td>\n",
       "      <td>235.23797</td>\n",
       "      <td>-3.31808</td>\n",
       "      <td>243.97528</td>\n",
       "      <td>0.00266</td>\n",
       "      <td>0.98725</td>\n",
       "      <td>10.99616</td>\n",
       "      <td>6.68294</td>\n",
       "      <td>8.73731</td>\n",
       "      <td>0.00918</td>\n",
       "      <td>55.04632</td>\n",
       "      <td>0.5</td>\n",
       "      <td>Not_seen</td>\n",
       "    </tr>\n",
       "    <tr>\n",
       "      <th>2</th>\n",
       "      <td>2.457398e+06</td>\n",
       "      <td>53.95763</td>\n",
       "      <td>-1.08271</td>\n",
       "      <td>0.685</td>\n",
       "      <td>2.457398e+06</td>\n",
       "      <td>2.457398e+06</td>\n",
       "      <td>67.20869</td>\n",
       "      <td>3.82122</td>\n",
       "      <td>233.19221</td>\n",
       "      <td>-3.52379</td>\n",
       "      <td>236.46999</td>\n",
       "      <td>0.00252</td>\n",
       "      <td>0.98095</td>\n",
       "      <td>8.04228</td>\n",
       "      <td>7.34501</td>\n",
       "      <td>3.27778</td>\n",
       "      <td>0.00492</td>\n",
       "      <td>58.03155</td>\n",
       "      <td>0.5</td>\n",
       "      <td>Not_seen</td>\n",
       "    </tr>\n",
       "    <tr>\n",
       "      <th>3</th>\n",
       "      <td>2.457428e+06</td>\n",
       "      <td>53.58333</td>\n",
       "      <td>-2.43333</td>\n",
       "      <td>1.738</td>\n",
       "      <td>2.457428e+06</td>\n",
       "      <td>2.457428e+06</td>\n",
       "      <td>94.68585</td>\n",
       "      <td>6.40548</td>\n",
       "      <td>245.47535</td>\n",
       "      <td>-5.81151</td>\n",
       "      <td>253.06492</td>\n",
       "      <td>0.00244</td>\n",
       "      <td>0.98427</td>\n",
       "      <td>14.37485</td>\n",
       "      <td>12.21699</td>\n",
       "      <td>7.58956</td>\n",
       "      <td>0.01565</td>\n",
       "      <td>59.59324</td>\n",
       "      <td>1.0</td>\n",
       "      <td>Not_seen</td>\n",
       "    </tr>\n",
       "    <tr>\n",
       "      <th>4</th>\n",
       "      <td>2.457428e+06</td>\n",
       "      <td>52.63860</td>\n",
       "      <td>-1.13169</td>\n",
       "      <td>1.736</td>\n",
       "      <td>2.457428e+06</td>\n",
       "      <td>2.457428e+06</td>\n",
       "      <td>93.09817</td>\n",
       "      <td>6.46498</td>\n",
       "      <td>246.07108</td>\n",
       "      <td>-5.86126</td>\n",
       "      <td>253.40983</td>\n",
       "      <td>0.00244</td>\n",
       "      <td>0.98427</td>\n",
       "      <td>14.33820</td>\n",
       "      <td>12.32624</td>\n",
       "      <td>7.33875</td>\n",
       "      <td>0.01557</td>\n",
       "      <td>59.58563</td>\n",
       "      <td>0.0</td>\n",
       "      <td>Seen</td>\n",
       "    </tr>\n",
       "  </tbody>\n",
       "</table>\n",
       "</div>"
      ],
      "text/plain": [
       "           Date  Latitude  Longitude  Moon Age        Sunset       Moonset  \\\n",
       "0  2.457309e+06  53.95763   -1.08271     0.722  2.457309e+06  2.457309e+06   \n",
       "1  2.457339e+06  53.95763   -1.08271     1.687  2.457339e+06  2.457339e+06   \n",
       "2  2.457398e+06  53.95763   -1.08271     0.685  2.457398e+06  2.457398e+06   \n",
       "3  2.457428e+06  53.58333   -2.43333     1.738  2.457428e+06  2.457428e+06   \n",
       "4  2.457428e+06  52.63860   -1.13169     1.736  2.457428e+06  2.457428e+06   \n",
       "\n",
       "        Lag  Moon Alt    Moon Az  Sun Alt     Sun Az  Moon-Earth Dist  \\\n",
       "0  27.05935   1.51838  252.00232 -1.73173  259.02584          0.00271   \n",
       "1  57.80819   3.36486  235.23797 -3.31808  243.97528          0.00266   \n",
       "2  67.20869   3.82122  233.19221 -3.52379  236.46999          0.00252   \n",
       "3  94.68585   6.40548  245.47535 -5.81151  253.06492          0.00244   \n",
       "4  93.09817   6.46498  246.07108 -5.86126  253.40983          0.00244   \n",
       "\n",
       "   Sun-Moon Dist      ARCL      ARCV      DAZ  Illumination  Parallax  \\\n",
       "0        0.99508   7.73820   3.25011  7.02353       0.00455  54.14174   \n",
       "1        0.98725  10.99616   6.68294  8.73731       0.00918  55.04632   \n",
       "2        0.98095   8.04228   7.34501  3.27778       0.00492  58.03155   \n",
       "3        0.98427  14.37485  12.21699  7.58956       0.01565  59.59324   \n",
       "4        0.98427  14.33820  12.32624  7.33875       0.01557  59.58563   \n",
       "\n",
       "   Cloud Level      Seen  \n",
       "0          1.0  Not_seen  \n",
       "1          0.5  Not_seen  \n",
       "2          0.5  Not_seen  \n",
       "3          1.0  Not_seen  \n",
       "4          0.0      Seen  "
      ]
     },
     "execution_count": 64,
     "metadata": {},
     "output_type": "execute_result"
    }
   ],
   "source": [
    "icouk_data_file = '..\\\\Data\\\\icouk_sighting_data_with_params.csv'\n",
    "icop_data_file = '..\\\\Data\\\\icop_ahmed_2020_sighting_data_with_params.csv'\n",
    "alrefay_data_file = '..\\\\Data\\\\alrefay_2018_sighting_data_with_params.csv'\n",
    "allawi_data_file = '..\\\\Data\\\\schaefer_odeh_allawi_2022_sighting_data_with_params.csv'\n",
    "\n",
    "if LINUX:\n",
    "    icouk_data_file = '../Data/icouk_sighting_data_with_params.csv'\n",
    "    icop_data_file = '../Data/icop_ahmed_2020_sighting_data_with_params.csv'\n",
    "    alrefay_data_file = '../Data/alrefay_2018_sighting_data_with_params.csv'\n",
    "    allawi_data_file = '../Data/schaefer_odeh_allawi_2022_sighting_data_with_params.csv'\n",
    "\n",
    "icouk_data = pd.read_csv(icouk_data_file)\n",
    "icop_data = pd.read_csv(icop_data_file)\n",
    "alrefay_data = pd.read_csv(alrefay_data_file)\n",
    "allawi_data = pd.read_csv(allawi_data_file)\n",
    "\n",
    "data = pd.concat([icouk_data,icop_data,alrefay_data,allawi_data])\n",
    "\n",
    "print(f\"Loaded {data.shape[0]} rows\")\n",
    "\n",
    "#Drop index, dependent parameters (q value etc) and visibility scale\n",
    "data = data.drop([\"Index\",\"q\",\"W\",\"q'\",\"W'\",\"Visibility\"], axis = 1)\n",
    "\n",
    "if MULTI_OUTPUT_METHOD:\n",
    "    data = data.drop([\"Seen\", \"Method\"], axis = 1) # replaced by methods column\n",
    "\n",
    "    ptype = [\"Seen_eye\", \"Seen_binoculars\", \"Seen_telescope\", \"Seen_ccd\",\"Not_seen\"]\n",
    "\n",
    "elif MULTI_LABEL_METHOD:\n",
    "    data = data.drop([\"Seen\", \"Methods\"], axis = 1) # replaced by method column\n",
    "    data[\"Method\"] = data[\"Method\"].replace(\"Seen_binoculars\", \"Seen_with_aid\")\n",
    "    data[\"Method\"] = data[\"Method\"].replace(\"Seen_telescope\", \"Seen_with_aid\")\n",
    "    data[\"Method\"] = data[\"Method\"].replace(\"Seen_ccd\", \"Seen_with_aid\")\n",
    "\n",
    "    ptype = [\"Seen_eye\", \"Seen_with_aid\", \"Not_seen\"]\n",
    "\n",
    "else:\n",
    "    data = data[data[\"Method\"] !=\"Seen_binoculars\"] #DROP BINOCULARS\n",
    "    data = data[data[\"Method\"] !=\"Seen_ccd\"] #DROP CCD\n",
    "    data = data[data[\"Method\"] !=\"Seen_telescope\"] #DROP TELESCOPE\n",
    "    \n",
    "    data=data.drop(['Method','Methods'], axis = 1) #Only use seen\n",
    "\n",
    "    ptype = [\"Seen\", \"Not_seen\"]\n",
    "\n",
    "if RANDOM:\n",
    "    data.insert(1,\"Random1\",np.random.rand(data.shape[0],1))\n",
    "    data.insert(2,\"Random2\",np.random.rand(data.shape[0],1))\n",
    "    data = data[['Seen', \"Random1\",\"Random2\"]]\n",
    "\n",
    "if CLOUDCUT:\n",
    "    data = data[data[\"Cloud Level\"] <= 0.5]\n",
    "    #data = data[data[\"Cloud Level\"] == 0]\n",
    "\n",
    "print(f\"Using {data.shape[0]} rows\")\n",
    "data.head(5)"
   ]
  },
  {
   "cell_type": "markdown",
   "metadata": {},
   "source": [
    "## Visualising variables"
   ]
  },
  {
   "cell_type": "code",
   "execution_count": 65,
   "metadata": {},
   "outputs": [],
   "source": [
    "# # Visualising a couple of variables.\n",
    "# variable_list =  data.columns.tolist()\n",
    "# print(variable_list)\n",
    "\n",
    "# # Plot data\n",
    "# showpairplot = False\n",
    "# if showpairplot == True:\n",
    "#    fig = sns.pairplot(data[variable_list], hue = 'Seen', palette = 'bright')\n",
    "\n",
    "#    # Change location of legend\n",
    "#    fig._legend.set_bbox_to_anchor((1.05, 0.5))\n",
    "\n",
    "#    # Add legend\n",
    "#    for t, l in zip(fig._legend.texts, ptype):\n",
    "#       t.set_text(str(t.get_text()) + \" - \" + str(l))\n",
    "\n",
    "#    plt.show()\n"
   ]
  },
  {
   "cell_type": "markdown",
   "metadata": {},
   "source": [
    "## ML Training"
   ]
  },
  {
   "cell_type": "code",
   "execution_count": 66,
   "metadata": {},
   "outputs": [],
   "source": [
    "# List of features without label feature\n",
    "variable_list =  data.columns.tolist()\n",
    "features = variable_list\n",
    "\n",
    "\n",
    "if MULTI_OUTPUT_METHOD:\n",
    "    orig_y = np.array(data['Methods'].str.split(\";\"))\n",
    "    mlb = MultiLabelBinarizer(classes=ptype)\n",
    "    y = mlb.fit_transform(orig_y)\n",
    "    features.remove('Methods')\n",
    "\n",
    "elif MULTI_LABEL_METHOD:\n",
    "    data[\"Method\"] = data[\"Method\"].replace(\"Seen_eye\",2) #XGboost needs 1 and 0\n",
    "    data[\"Method\"] = data[\"Method\"].replace(\"Seen_with_aid\",1)\n",
    "    data[\"Method\"] = data[\"Method\"].replace(\"Not_seen\",0)\n",
    "    y = np.array(data['Method'])\n",
    "    features.remove('Method')\n",
    "    \n",
    "else:\n",
    "    if XGBOOST:\n",
    "        data[\"Seen\"] = data[\"Seen\"].replace(\"Seen\",1) #XGboost needs 1 and 0\n",
    "        data[\"Seen\"] = data[\"Seen\"].replace(\"Not_seen\", 0)\n",
    "    y = np.array(data['Seen'])\n",
    "    features.remove('Seen')\n",
    "    pos = 'Seen' # for ROC curve +ve result\n",
    "\n",
    "X = data[features]\n",
    "\n",
    "x_train, x_test, y_train, y_test = train_test_split(X, y, test_size=0.2) # 80/20 training/test split"
   ]
  },
  {
   "cell_type": "code",
   "execution_count": 67,
   "metadata": {},
   "outputs": [
    {
     "data": {
      "text/html": [
       "<style>#sk-container-id-4 {color: black;}#sk-container-id-4 pre{padding: 0;}#sk-container-id-4 div.sk-toggleable {background-color: white;}#sk-container-id-4 label.sk-toggleable__label {cursor: pointer;display: block;width: 100%;margin-bottom: 0;padding: 0.3em;box-sizing: border-box;text-align: center;}#sk-container-id-4 label.sk-toggleable__label-arrow:before {content: \"▸\";float: left;margin-right: 0.25em;color: #696969;}#sk-container-id-4 label.sk-toggleable__label-arrow:hover:before {color: black;}#sk-container-id-4 div.sk-estimator:hover label.sk-toggleable__label-arrow:before {color: black;}#sk-container-id-4 div.sk-toggleable__content {max-height: 0;max-width: 0;overflow: hidden;text-align: left;background-color: #f0f8ff;}#sk-container-id-4 div.sk-toggleable__content pre {margin: 0.2em;color: black;border-radius: 0.25em;background-color: #f0f8ff;}#sk-container-id-4 input.sk-toggleable__control:checked~div.sk-toggleable__content {max-height: 200px;max-width: 100%;overflow: auto;}#sk-container-id-4 input.sk-toggleable__control:checked~label.sk-toggleable__label-arrow:before {content: \"▾\";}#sk-container-id-4 div.sk-estimator input.sk-toggleable__control:checked~label.sk-toggleable__label {background-color: #d4ebff;}#sk-container-id-4 div.sk-label input.sk-toggleable__control:checked~label.sk-toggleable__label {background-color: #d4ebff;}#sk-container-id-4 input.sk-hidden--visually {border: 0;clip: rect(1px 1px 1px 1px);clip: rect(1px, 1px, 1px, 1px);height: 1px;margin: -1px;overflow: hidden;padding: 0;position: absolute;width: 1px;}#sk-container-id-4 div.sk-estimator {font-family: monospace;background-color: #f0f8ff;border: 1px dotted black;border-radius: 0.25em;box-sizing: border-box;margin-bottom: 0.5em;}#sk-container-id-4 div.sk-estimator:hover {background-color: #d4ebff;}#sk-container-id-4 div.sk-parallel-item::after {content: \"\";width: 100%;border-bottom: 1px solid gray;flex-grow: 1;}#sk-container-id-4 div.sk-label:hover label.sk-toggleable__label {background-color: #d4ebff;}#sk-container-id-4 div.sk-serial::before {content: \"\";position: absolute;border-left: 1px solid gray;box-sizing: border-box;top: 0;bottom: 0;left: 50%;z-index: 0;}#sk-container-id-4 div.sk-serial {display: flex;flex-direction: column;align-items: center;background-color: white;padding-right: 0.2em;padding-left: 0.2em;position: relative;}#sk-container-id-4 div.sk-item {position: relative;z-index: 1;}#sk-container-id-4 div.sk-parallel {display: flex;align-items: stretch;justify-content: center;background-color: white;position: relative;}#sk-container-id-4 div.sk-item::before, #sk-container-id-4 div.sk-parallel-item::before {content: \"\";position: absolute;border-left: 1px solid gray;box-sizing: border-box;top: 0;bottom: 0;left: 50%;z-index: -1;}#sk-container-id-4 div.sk-parallel-item {display: flex;flex-direction: column;z-index: 1;position: relative;background-color: white;}#sk-container-id-4 div.sk-parallel-item:first-child::after {align-self: flex-end;width: 50%;}#sk-container-id-4 div.sk-parallel-item:last-child::after {align-self: flex-start;width: 50%;}#sk-container-id-4 div.sk-parallel-item:only-child::after {width: 0;}#sk-container-id-4 div.sk-dashed-wrapped {border: 1px dashed gray;margin: 0 0.4em 0.5em 0.4em;box-sizing: border-box;padding-bottom: 0.4em;background-color: white;}#sk-container-id-4 div.sk-label label {font-family: monospace;font-weight: bold;display: inline-block;line-height: 1.2em;}#sk-container-id-4 div.sk-label-container {text-align: center;}#sk-container-id-4 div.sk-container {/* jupyter's `normalize.less` sets `[hidden] { display: none; }` but bootstrap.min.css set `[hidden] { display: none !important; }` so we also need the `!important` here to be able to override the default hidden behavior on the sphinx rendered scikit-learn.org. See: https://github.com/scikit-learn/scikit-learn/issues/21755 */display: inline-block !important;position: relative;}#sk-container-id-4 div.sk-text-repr-fallback {display: none;}</style><div id=\"sk-container-id-4\" class=\"sk-top-container\"><div class=\"sk-text-repr-fallback\"><pre>XGBClassifier(base_score=None, booster=None,\n",
       "              callbacks=[&lt;wandb.integration.xgboost.xgboost.WandbCallback object at 0x7f281c63ac80&gt;],\n",
       "              colsample_bylevel=None, colsample_bynode=None,\n",
       "              colsample_bytree=None, early_stopping_rounds=None,\n",
       "              enable_categorical=False, eval_metric=None, feature_types=None,\n",
       "              gamma=None, gpu_id=None, grow_policy=None, importance_type=None,\n",
       "              interaction_constraints=None, learning_rate=0.5, max_bin=None,\n",
       "              max_cat_threshold=None, max_cat_to_onehot=None,\n",
       "              max_delta_step=None, max_depth=2, max_leaves=None,\n",
       "              min_child_weight=None, missing=nan, monotone_constraints=None,\n",
       "              n_estimators=50, n_jobs=-1, num_parallel_tree=None,\n",
       "              predictor=None, random_state=None, ...)</pre><b>In a Jupyter environment, please rerun this cell to show the HTML representation or trust the notebook. <br />On GitHub, the HTML representation is unable to render, please try loading this page with nbviewer.org.</b></div><div class=\"sk-container\" hidden><div class=\"sk-item\"><div class=\"sk-estimator sk-toggleable\"><input class=\"sk-toggleable__control sk-hidden--visually\" id=\"sk-estimator-id-4\" type=\"checkbox\" checked><label for=\"sk-estimator-id-4\" class=\"sk-toggleable__label sk-toggleable__label-arrow\">XGBClassifier</label><div class=\"sk-toggleable__content\"><pre>XGBClassifier(base_score=None, booster=None,\n",
       "              callbacks=[&lt;wandb.integration.xgboost.xgboost.WandbCallback object at 0x7f281c63ac80&gt;],\n",
       "              colsample_bylevel=None, colsample_bynode=None,\n",
       "              colsample_bytree=None, early_stopping_rounds=None,\n",
       "              enable_categorical=False, eval_metric=None, feature_types=None,\n",
       "              gamma=None, gpu_id=None, grow_policy=None, importance_type=None,\n",
       "              interaction_constraints=None, learning_rate=0.5, max_bin=None,\n",
       "              max_cat_threshold=None, max_cat_to_onehot=None,\n",
       "              max_delta_step=None, max_depth=2, max_leaves=None,\n",
       "              min_child_weight=None, missing=nan, monotone_constraints=None,\n",
       "              n_estimators=50, n_jobs=-1, num_parallel_tree=None,\n",
       "              predictor=None, random_state=None, ...)</pre></div></div></div></div></div>"
      ],
      "text/plain": [
       "XGBClassifier(base_score=None, booster=None,\n",
       "              callbacks=[<wandb.integration.xgboost.xgboost.WandbCallback object at 0x7f281c63ac80>],\n",
       "              colsample_bylevel=None, colsample_bynode=None,\n",
       "              colsample_bytree=None, early_stopping_rounds=None,\n",
       "              enable_categorical=False, eval_metric=None, feature_types=None,\n",
       "              gamma=None, gpu_id=None, grow_policy=None, importance_type=None,\n",
       "              interaction_constraints=None, learning_rate=0.5, max_bin=None,\n",
       "              max_cat_threshold=None, max_cat_to_onehot=None,\n",
       "              max_delta_step=None, max_depth=2, max_leaves=None,\n",
       "              min_child_weight=None, missing=nan, monotone_constraints=None,\n",
       "              n_estimators=50, n_jobs=-1, num_parallel_tree=None,\n",
       "              predictor=None, random_state=None, ...)"
      ]
     },
     "execution_count": 67,
     "metadata": {},
     "output_type": "execute_result"
    }
   ],
   "source": [
    "# Produce randomforest classifier model and fit to training data\n",
    "def select_model():\n",
    "    if XGBOOST:\n",
    "        if MULTI_OUTPUT_METHOD:\n",
    "            if USE_GPU:\n",
    "                method = \"gpu_hist\"\n",
    "            else:\n",
    "                method = \"hist\"\n",
    "            model = XGBClassifier(tree_method=method, n_jobs=-1)\n",
    "        else:\n",
    "            model = XGBClassifier(n_jobs=-1, callbacks=[WandbCallback()])\n",
    "    else:\n",
    "        if MULTI_OUTPUT_METHOD:\n",
    "            model = MultiOutputClassifier(RandomForestClassifier(n_jobs=-1))\n",
    "        else:\n",
    "            model = RandomForestClassifier(n_jobs=-1)\n",
    "\n",
    "    model = model.set_params(**wandb.config)\n",
    "    return model\n",
    "model = select_model()\n",
    "# Fitting takes the input and \"truth\" data for classification purposes\n",
    "model.fit(x_train, y_train)"
   ]
  },
  {
   "cell_type": "code",
   "execution_count": 68,
   "metadata": {},
   "outputs": [
    {
     "name": "stdout",
     "output_type": "stream",
     "text": [
      "Accuracy on training dataset: 0.9571197411003236\n",
      "Accuracy on testing dataset: 0.9305331179321487\n"
     ]
    }
   ],
   "source": [
    "def get_easiest_method_array(methods):\n",
    "    easiest_methods = np.zeros(methods.shape)\n",
    "    easiest_methods[np.arange(0,methods.shape[0],1),np.argmax(methods,axis=1)] = 1\n",
    "    return easiest_methods\n",
    "\n",
    "def get_easiest_method_names(methods):\n",
    "    easiest_methods = get_easiest_method_array(methods)\n",
    "    return mlb.inverse_transform(easiest_methods.astype(int))\n",
    "\n",
    "# Produce predictions for the classification of your training dataset using your model:\n",
    "y_pred = model.predict(x_train)\n",
    "\n",
    "# plot the accuracies of said predictions\n",
    "print(\"Accuracy on training dataset:\",accuracy_score(y_train, y_pred))\n",
    "rf_acc_train = accuracy_score(y_train, y_pred)\n",
    "y_pred = model.predict(x_test)\n",
    "\n",
    "print(\"Accuracy on testing dataset:\", accuracy_score(y_test, y_pred))\n",
    "rf_acc_test = accuracy_score(y_test, y_pred)\n",
    "wandb.log({\"Accuracy\": rf_acc_test})\n",
    "\n",
    "if MULTI_OUTPUT_METHOD:\n",
    "    print(\"Accuracy on testing dataset (easiest method only):\", accuracy_score(get_easiest_method_names(y_test), get_easiest_method_names(y_pred)))\n",
    "\n"
   ]
  },
  {
   "cell_type": "markdown",
   "metadata": {},
   "source": [
    "## ROC curve"
   ]
  },
  {
   "cell_type": "code",
   "execution_count": 69,
   "metadata": {},
   "outputs": [
    {
     "name": "stdout",
     "output_type": "stream",
     "text": [
      "ROC curve 0.9721784432186324\n"
     ]
    }
   ],
   "source": [
    "# Get predicted class probabilities for the test set \n",
    "if MULTI_OUTPUT_METHOD:\n",
    "    #y_pred_prob = rf.predict_proba(x_test)\n",
    "    #roc_auc = roc_auc_score(y_test, y_pred_prob)\n",
    "    print(\"Not currently working\")\n",
    "elif MULTI_LABEL_METHOD:\n",
    "    y_pred_prob = model.predict_proba(x_test)\n",
    "    roc_auc = roc_auc_score(y_test, y_pred_prob, multi_class=\"ovr\")\n",
    "    print(f\"ROC curve {roc_auc}\")\n",
    "    wandb.log({\"ROC curve\" :roc_auc})\n",
    "else:\n",
    "    y_pred_prob = model.predict_proba(x_test)[:, 1] \n",
    "    roc_auc = roc_auc_score(y_test, y_pred_prob)\n",
    "    print(f\"ROC curve {roc_auc}\")\n",
    "    wandb.log({\"ROC curve\" :roc_auc})"
   ]
  },
  {
   "cell_type": "code",
   "execution_count": 70,
   "metadata": {},
   "outputs": [
    {
     "data": {
      "text/html": [
       "Waiting for W&B process to finish... <strong style=\"color:green\">(success).</strong>"
      ],
      "text/plain": [
       "<IPython.core.display.HTML object>"
      ]
     },
     "metadata": {},
     "output_type": "display_data"
    },
    {
     "name": "stderr",
     "output_type": "stream",
     "text": [
      "wandb: WARNING Source type is set to 'repo' but some required information is missing from the environment. A job will not be created from this run. See https://docs.wandb.ai/guides/launch/create-job\n"
     ]
    },
    {
     "data": {
      "text/html": [
       "<style>\n",
       "    table.wandb td:nth-child(1) { padding: 0 10px; text-align: left ; width: auto;} td:nth-child(2) {text-align: left ; width: 100%}\n",
       "    .wandb-row { display: flex; flex-direction: row; flex-wrap: wrap; justify-content: flex-start; width: 100% }\n",
       "    .wandb-col { display: flex; flex-direction: column; flex-basis: 100%; flex: 1; padding: 10px; }\n",
       "    </style>\n",
       "<div class=\"wandb-row\"><div class=\"wandb-col\"><h3>Run history:</h3><br/><table class=\"wandb\"><tr><td>Accuracy</td><td>▁</td></tr><tr><td>ROC curve</td><td>▁</td></tr><tr><td>epoch</td><td>▁▁▁▁▂▂▂▂▂▃▃▃▃▃▃▄▄▄▄▄▅▅▅▅▅▅▆▆▆▆▆▆▇▇▇▇▇███</td></tr></table><br/></div><div class=\"wandb-col\"><h3>Run summary:</h3><br/><table class=\"wandb\"><tr><td>Accuracy</td><td>0.93053</td></tr><tr><td>ROC curve</td><td>0.97218</td></tr><tr><td>epoch</td><td>49</td></tr></table><br/></div></div>"
      ],
      "text/plain": [
       "<IPython.core.display.HTML object>"
      ]
     },
     "metadata": {},
     "output_type": "display_data"
    },
    {
     "data": {
      "text/html": [
       " View run <strong style=\"color:#cdcd00\">rural-shadow-169</strong> at: <a href='https://wandb.ai/moon-phys/moon_visibility_xgboost/runs/0txabx3d' target=\"_blank\">https://wandb.ai/moon-phys/moon_visibility_xgboost/runs/0txabx3d</a><br/>Synced 6 W&B file(s), 1 media file(s), 1 artifact file(s) and 0 other file(s)"
      ],
      "text/plain": [
       "<IPython.core.display.HTML object>"
      ]
     },
     "metadata": {},
     "output_type": "display_data"
    },
    {
     "data": {
      "text/html": [
       "Find logs at: <code>./wandb/run-20231107_161822-0txabx3d/logs</code>"
      ],
      "text/plain": [
       "<IPython.core.display.HTML object>"
      ]
     },
     "metadata": {},
     "output_type": "display_data"
    }
   ],
   "source": [
    "wandb.finish()"
   ]
  },
  {
   "cell_type": "code",
   "execution_count": 71,
   "metadata": {},
   "outputs": [],
   "source": [
    "# if MULTI_OUTPUT_METHOD:\n",
    "#     # roc curve for Multi classes \n",
    "#     colors = ['orange','red','green','blue','purple'] \n",
    "#     print(\"Not currently working\")\n",
    "# else:\n",
    "#     # Compute the false positive rate (FPR) \n",
    "#     # and true positive rate (TPR) for different classification thresholds\n",
    "#     if MULTI_LABEL_METHOD:\n",
    "#         pos = 2\n",
    "#         fpr, tpr, thresholds = roc_curve(y_test, y_pred_prob[:,2], pos_label=pos)\n",
    "#     else:\n",
    "#         if XGBOOST:\n",
    "#             pos = 1\n",
    "#         fpr, tpr, thresholds = roc_curve(y_test, y_pred_prob, pos_label=pos)\n",
    "#     # Plot the ROC curve \n",
    "#     plt.plot(fpr, tpr, label='ROC curve (area = %0.2f)' % roc_auc) \n",
    "#     # roc curve for tpr = fpr  \n",
    "#     plt.plot([0, 1], [0, 1], 'k--', label='Random classifier') \n",
    "#     plt.xlabel('False Positive Rate') \n",
    "#     plt.ylabel('True Positive Rate') \n",
    "#     plt.title(f'ROC Curve ({TITLE})') \n",
    "#     plt.legend(loc=\"lower right\") \n",
    "#     plt.show()"
   ]
  },
  {
   "cell_type": "code",
   "execution_count": 72,
   "metadata": {},
   "outputs": [],
   "source": [
    "# # Plot the predicted class probabilities \n",
    "# if not MULTI_OUTPUT_METHOD:\n",
    "#     plt.hist(y_pred_prob, bins=10) \n",
    "#     plt.xlim(0, 1) \n",
    "#     plt.title(f'Histogram of predicted probabilities ({TITLE})') \n",
    "#     plt.xlabel('Predicted probability') \n",
    "#     plt.ylabel('Frequency') \n",
    "#     plt.show() "
   ]
  },
  {
   "cell_type": "code",
   "execution_count": 73,
   "metadata": {},
   "outputs": [],
   "source": [
    "# if REPEAT_ACCURACY:\n",
    "#     # Function to run thr random forest several times to get an average\n",
    "#     def random_forest(x_train, y_train, x_test, y_test, rf):\n",
    "#         accuracy_arr = []\n",
    "#         for i in range(20):\n",
    "#             # Fitting takes the input and \"truth\" data for classification purposes\n",
    "#             rf.fit(x_train, y_train)\n",
    "#             # Produce predictions for the classification of your training dataset using your model:\n",
    "#             y_pred = rf.predict(x_test)\n",
    "#             #print(\"Accuracy on testing dataset:\",accuracy_score(y_test, y_pred))\n",
    "#             accuracy_arr.append(accuracy_score(y_test, y_pred))\n",
    "        \n",
    "#         accuracy_avg = np.mean(accuracy_arr)\n",
    "#         accuracy_std = np.std(accuracy_arr)\n",
    "#         return accuracy_avg,accuracy_std\n",
    "\n",
    "#     rf = RandomForestClassifier(n_estimators=100, criterion='gini')#, criterion = 'gini', max_depth=12,random_state=0, oob_score=True)\n",
    "#     accuracy_val=random_forest(x_train, y_train, x_test, y_test, rf)\n",
    "\n",
    "#     print(r\"When run 20 times the accuracy is {:.5} \\pm {:.5}:\".format(accuracy_val[0],accuracy_val[1]))"
   ]
  },
  {
   "cell_type": "code",
   "execution_count": 74,
   "metadata": {},
   "outputs": [],
   "source": [
    "# print('Oob Score: ', model.score(x_test, y_test))"
   ]
  },
  {
   "cell_type": "code",
   "execution_count": 75,
   "metadata": {},
   "outputs": [],
   "source": [
    "# # plot your confusion matrix\n",
    "# if MULTI_OUTPUT_METHOD:\n",
    "#     cm = confusion_matrix(get_easiest_method_names(y_test), get_easiest_method_names(y_pred),normalize = 'true')\n",
    "# else:\n",
    "#     cm = confusion_matrix(y_test, y_pred,normalize = 'true')\n",
    "# disp = ConfusionMatrixDisplay(confusion_matrix=cm, display_labels=ptype)\n",
    "# disp.plot()\n",
    "# plt.title(f\"Confusion matrix ({TITLE})\")\n",
    "# plt.show()"
   ]
  },
  {
   "cell_type": "code",
   "execution_count": 76,
   "metadata": {},
   "outputs": [],
   "source": [
    "# # Plot importance\n",
    "# if not XGBOOST and MULTI_OUTPUT_METHOD:\n",
    "#     feat_impts = [] \n",
    "#     for clf in model.estimators_:\n",
    "#         feat_impts.append(clf.feature_importances_) \n",
    "\n",
    "#     importance = np.mean(feat_impts, axis=0)\n",
    "\n",
    "# else:\n",
    "#     importance = model.feature_importances_\n",
    "\n",
    "# ytix = features\n",
    "# plt.barh(range(len(features)), importance)\n",
    "# plt.yticks(range(len(features)), features)\n",
    "# plt.xlabel(\"Importance\")\n",
    "# plt.ylabel(\"Features\")\n",
    "# plt.title(f\"Importance Graph ({TITLE})\")\n",
    "# plt.show()"
   ]
  },
  {
   "cell_type": "markdown",
   "metadata": {},
   "source": [
    "## Hyperparameter adjustment"
   ]
  }
 ],
 "metadata": {
  "kernelspec": {
   "display_name": "Python 3 (ipykernel)",
   "language": "python",
   "name": "python3"
  },
  "language_info": {
   "codemirror_mode": {
    "name": "ipython",
    "version": 3
   },
   "file_extension": ".py",
   "mimetype": "text/x-python",
   "name": "python",
   "nbconvert_exporter": "python",
   "pygments_lexer": "ipython3",
   "version": "3.10.12"
  }
 },
 "nbformat": 4,
 "nbformat_minor": 4
}
