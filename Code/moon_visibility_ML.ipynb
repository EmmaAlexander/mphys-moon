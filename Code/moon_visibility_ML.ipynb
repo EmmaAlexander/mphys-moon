{
 "cells": [
  {
   "cell_type": "markdown",
   "metadata": {},
   "source": [
    "# Machine learning to predict new crescent moon visibility"
   ]
  },
  {
   "cell_type": "code",
   "execution_count": 399,
   "metadata": {},
   "outputs": [],
   "source": [
    "import pandas as pd\n",
    "import numpy as np\n",
    "import seaborn as sns\n",
    "import matplotlib.pyplot as plt\n",
    "\n",
    "# MACHINE LEARNING IMPORTS\n",
    "#import sklearn\n",
    "from sklearn import tree\n",
    "from sklearn.model_selection import train_test_split\n",
    "from sklearn import metrics\n",
    "from sklearn.ensemble import RandomForestClassifier\n",
    "from sklearn.metrics import confusion_matrix\n",
    "from sklearn.metrics import ConfusionMatrixDisplay\n",
    "from sklearn.metrics import roc_curve, roc_auc_score \n",
    "from sklearn.model_selection import GridSearchCV"
   ]
  },
  {
   "cell_type": "code",
   "execution_count": 400,
   "metadata": {},
   "outputs": [
    {
     "name": "stdout",
     "output_type": "stream",
     "text": [
      "Loaded 3626 rows\n"
     ]
    },
    {
     "data": {
      "text/html": [
       "<div>\n",
       "<style scoped>\n",
       "    .dataframe tbody tr th:only-of-type {\n",
       "        vertical-align: middle;\n",
       "    }\n",
       "\n",
       "    .dataframe tbody tr th {\n",
       "        vertical-align: top;\n",
       "    }\n",
       "\n",
       "    .dataframe thead th {\n",
       "        text-align: right;\n",
       "    }\n",
       "</style>\n",
       "<table border=\"1\" class=\"dataframe\">\n",
       "  <thead>\n",
       "    <tr style=\"text-align: right;\">\n",
       "      <th></th>\n",
       "      <th>Date</th>\n",
       "      <th>Latitude</th>\n",
       "      <th>Longitude</th>\n",
       "      <th>Moon Age</th>\n",
       "      <th>Sunset</th>\n",
       "      <th>Moonset</th>\n",
       "      <th>Lag</th>\n",
       "      <th>Moon Alt</th>\n",
       "      <th>Moon Az</th>\n",
       "      <th>Sun Alt</th>\n",
       "      <th>Sun Az</th>\n",
       "      <th>Moon-Earth Dist</th>\n",
       "      <th>Sun-Moon Dist</th>\n",
       "      <th>ARCL</th>\n",
       "      <th>ARCV</th>\n",
       "      <th>DAZ</th>\n",
       "      <th>Parallax</th>\n",
       "      <th>Cloud Level</th>\n",
       "      <th>Seen</th>\n",
       "    </tr>\n",
       "  </thead>\n",
       "  <tbody>\n",
       "    <tr>\n",
       "      <th>0</th>\n",
       "      <td>2.457309e+06</td>\n",
       "      <td>53.95763</td>\n",
       "      <td>-1.08271</td>\n",
       "      <td>0.722</td>\n",
       "      <td>2.457309e+06</td>\n",
       "      <td>2.457309e+06</td>\n",
       "      <td>27.05935</td>\n",
       "      <td>1.51838</td>\n",
       "      <td>252.00232</td>\n",
       "      <td>-1.73173</td>\n",
       "      <td>259.02584</td>\n",
       "      <td>0.00271</td>\n",
       "      <td>0.99508</td>\n",
       "      <td>7.73820</td>\n",
       "      <td>3.25011</td>\n",
       "      <td>7.02353</td>\n",
       "      <td>54.14174</td>\n",
       "      <td>1.0</td>\n",
       "      <td>Not_seen</td>\n",
       "    </tr>\n",
       "    <tr>\n",
       "      <th>1</th>\n",
       "      <td>2.457339e+06</td>\n",
       "      <td>53.95763</td>\n",
       "      <td>-1.08271</td>\n",
       "      <td>1.687</td>\n",
       "      <td>2.457339e+06</td>\n",
       "      <td>2.457339e+06</td>\n",
       "      <td>57.80819</td>\n",
       "      <td>3.36486</td>\n",
       "      <td>235.23797</td>\n",
       "      <td>-3.31808</td>\n",
       "      <td>243.97528</td>\n",
       "      <td>0.00266</td>\n",
       "      <td>0.98725</td>\n",
       "      <td>10.99616</td>\n",
       "      <td>6.68294</td>\n",
       "      <td>8.73731</td>\n",
       "      <td>55.04632</td>\n",
       "      <td>0.5</td>\n",
       "      <td>Not_seen</td>\n",
       "    </tr>\n",
       "    <tr>\n",
       "      <th>2</th>\n",
       "      <td>2.457398e+06</td>\n",
       "      <td>53.95763</td>\n",
       "      <td>-1.08271</td>\n",
       "      <td>0.685</td>\n",
       "      <td>2.457398e+06</td>\n",
       "      <td>2.457398e+06</td>\n",
       "      <td>67.20869</td>\n",
       "      <td>3.82122</td>\n",
       "      <td>233.19221</td>\n",
       "      <td>-3.52379</td>\n",
       "      <td>236.46999</td>\n",
       "      <td>0.00252</td>\n",
       "      <td>0.98095</td>\n",
       "      <td>8.04228</td>\n",
       "      <td>7.34501</td>\n",
       "      <td>3.27778</td>\n",
       "      <td>58.03155</td>\n",
       "      <td>0.5</td>\n",
       "      <td>Not_seen</td>\n",
       "    </tr>\n",
       "    <tr>\n",
       "      <th>3</th>\n",
       "      <td>2.457428e+06</td>\n",
       "      <td>53.58333</td>\n",
       "      <td>-2.43333</td>\n",
       "      <td>1.738</td>\n",
       "      <td>2.457428e+06</td>\n",
       "      <td>2.457428e+06</td>\n",
       "      <td>94.68585</td>\n",
       "      <td>6.40548</td>\n",
       "      <td>245.47535</td>\n",
       "      <td>-5.81151</td>\n",
       "      <td>253.06492</td>\n",
       "      <td>0.00244</td>\n",
       "      <td>0.98427</td>\n",
       "      <td>14.37485</td>\n",
       "      <td>12.21699</td>\n",
       "      <td>7.58956</td>\n",
       "      <td>59.59324</td>\n",
       "      <td>1.0</td>\n",
       "      <td>Not_seen</td>\n",
       "    </tr>\n",
       "    <tr>\n",
       "      <th>4</th>\n",
       "      <td>2.457428e+06</td>\n",
       "      <td>52.63860</td>\n",
       "      <td>-1.13169</td>\n",
       "      <td>1.736</td>\n",
       "      <td>2.457428e+06</td>\n",
       "      <td>2.457428e+06</td>\n",
       "      <td>93.09817</td>\n",
       "      <td>6.46498</td>\n",
       "      <td>246.07108</td>\n",
       "      <td>-5.86126</td>\n",
       "      <td>253.40983</td>\n",
       "      <td>0.00244</td>\n",
       "      <td>0.98427</td>\n",
       "      <td>14.33820</td>\n",
       "      <td>12.32624</td>\n",
       "      <td>7.33875</td>\n",
       "      <td>59.58563</td>\n",
       "      <td>0.0</td>\n",
       "      <td>Seen</td>\n",
       "    </tr>\n",
       "    <tr>\n",
       "      <th>5</th>\n",
       "      <td>2.457457e+06</td>\n",
       "      <td>52.63860</td>\n",
       "      <td>-1.13169</td>\n",
       "      <td>0.761</td>\n",
       "      <td>2.457457e+06</td>\n",
       "      <td>2.457457e+06</td>\n",
       "      <td>51.24933</td>\n",
       "      <td>3.50315</td>\n",
       "      <td>262.44978</td>\n",
       "      <td>-3.43885</td>\n",
       "      <td>267.72094</td>\n",
       "      <td>0.00240</td>\n",
       "      <td>0.99075</td>\n",
       "      <td>8.71450</td>\n",
       "      <td>6.94200</td>\n",
       "      <td>5.27116</td>\n",
       "      <td>60.83454</td>\n",
       "      <td>1.0</td>\n",
       "      <td>Not_seen</td>\n",
       "    </tr>\n",
       "    <tr>\n",
       "      <th>6</th>\n",
       "      <td>2.457457e+06</td>\n",
       "      <td>51.87967</td>\n",
       "      <td>-0.41748</td>\n",
       "      <td>0.759</td>\n",
       "      <td>2.457457e+06</td>\n",
       "      <td>2.457457e+06</td>\n",
       "      <td>50.69011</td>\n",
       "      <td>3.53057</td>\n",
       "      <td>262.58959</td>\n",
       "      <td>-3.46038</td>\n",
       "      <td>267.74070</td>\n",
       "      <td>0.00240</td>\n",
       "      <td>0.99075</td>\n",
       "      <td>8.68183</td>\n",
       "      <td>6.99094</td>\n",
       "      <td>5.15110</td>\n",
       "      <td>60.83247</td>\n",
       "      <td>0.5</td>\n",
       "      <td>Not_seen</td>\n",
       "    </tr>\n",
       "    <tr>\n",
       "      <th>7</th>\n",
       "      <td>2.457457e+06</td>\n",
       "      <td>51.39822</td>\n",
       "      <td>-0.19837</td>\n",
       "      <td>0.759</td>\n",
       "      <td>2.457457e+06</td>\n",
       "      <td>2.457457e+06</td>\n",
       "      <td>50.38849</td>\n",
       "      <td>3.55198</td>\n",
       "      <td>262.67600</td>\n",
       "      <td>-3.47683</td>\n",
       "      <td>267.75591</td>\n",
       "      <td>0.00240</td>\n",
       "      <td>0.99075</td>\n",
       "      <td>8.67048</td>\n",
       "      <td>7.02881</td>\n",
       "      <td>5.07991</td>\n",
       "      <td>60.83099</td>\n",
       "      <td>1.0</td>\n",
       "      <td>Not_seen</td>\n",
       "    </tr>\n",
       "    <tr>\n",
       "      <th>8</th>\n",
       "      <td>2.457457e+06</td>\n",
       "      <td>53.95763</td>\n",
       "      <td>-1.08271</td>\n",
       "      <td>0.760</td>\n",
       "      <td>2.457457e+06</td>\n",
       "      <td>2.457457e+06</td>\n",
       "      <td>51.96781</td>\n",
       "      <td>3.43075</td>\n",
       "      <td>262.20043</td>\n",
       "      <td>-3.37986</td>\n",
       "      <td>267.64850</td>\n",
       "      <td>0.00240</td>\n",
       "      <td>0.99075</td>\n",
       "      <td>8.71957</td>\n",
       "      <td>6.81061</td>\n",
       "      <td>5.44807</td>\n",
       "      <td>60.83909</td>\n",
       "      <td>1.0</td>\n",
       "      <td>Not_seen</td>\n",
       "    </tr>\n",
       "    <tr>\n",
       "      <th>9</th>\n",
       "      <td>2.457487e+06</td>\n",
       "      <td>53.58333</td>\n",
       "      <td>-2.43333</td>\n",
       "      <td>1.816</td>\n",
       "      <td>2.457487e+06</td>\n",
       "      <td>2.457487e+06</td>\n",
       "      <td>95.45765</td>\n",
       "      <td>6.69411</td>\n",
       "      <td>277.61713</td>\n",
       "      <td>-6.00369</td>\n",
       "      <td>291.47930</td>\n",
       "      <td>0.00240</td>\n",
       "      <td>0.99931</td>\n",
       "      <td>18.77762</td>\n",
       "      <td>12.69780</td>\n",
       "      <td>13.86218</td>\n",
       "      <td>60.77741</td>\n",
       "      <td>1.0</td>\n",
       "      <td>Not_seen</td>\n",
       "    </tr>\n",
       "  </tbody>\n",
       "</table>\n",
       "</div>"
      ],
      "text/plain": [
       "           Date  Latitude  Longitude  Moon Age        Sunset       Moonset  \\\n",
       "0  2.457309e+06  53.95763   -1.08271     0.722  2.457309e+06  2.457309e+06   \n",
       "1  2.457339e+06  53.95763   -1.08271     1.687  2.457339e+06  2.457339e+06   \n",
       "2  2.457398e+06  53.95763   -1.08271     0.685  2.457398e+06  2.457398e+06   \n",
       "3  2.457428e+06  53.58333   -2.43333     1.738  2.457428e+06  2.457428e+06   \n",
       "4  2.457428e+06  52.63860   -1.13169     1.736  2.457428e+06  2.457428e+06   \n",
       "5  2.457457e+06  52.63860   -1.13169     0.761  2.457457e+06  2.457457e+06   \n",
       "6  2.457457e+06  51.87967   -0.41748     0.759  2.457457e+06  2.457457e+06   \n",
       "7  2.457457e+06  51.39822   -0.19837     0.759  2.457457e+06  2.457457e+06   \n",
       "8  2.457457e+06  53.95763   -1.08271     0.760  2.457457e+06  2.457457e+06   \n",
       "9  2.457487e+06  53.58333   -2.43333     1.816  2.457487e+06  2.457487e+06   \n",
       "\n",
       "        Lag  Moon Alt    Moon Az  Sun Alt     Sun Az  Moon-Earth Dist  \\\n",
       "0  27.05935   1.51838  252.00232 -1.73173  259.02584          0.00271   \n",
       "1  57.80819   3.36486  235.23797 -3.31808  243.97528          0.00266   \n",
       "2  67.20869   3.82122  233.19221 -3.52379  236.46999          0.00252   \n",
       "3  94.68585   6.40548  245.47535 -5.81151  253.06492          0.00244   \n",
       "4  93.09817   6.46498  246.07108 -5.86126  253.40983          0.00244   \n",
       "5  51.24933   3.50315  262.44978 -3.43885  267.72094          0.00240   \n",
       "6  50.69011   3.53057  262.58959 -3.46038  267.74070          0.00240   \n",
       "7  50.38849   3.55198  262.67600 -3.47683  267.75591          0.00240   \n",
       "8  51.96781   3.43075  262.20043 -3.37986  267.64850          0.00240   \n",
       "9  95.45765   6.69411  277.61713 -6.00369  291.47930          0.00240   \n",
       "\n",
       "   Sun-Moon Dist      ARCL      ARCV       DAZ  Parallax  Cloud Level  \\\n",
       "0        0.99508   7.73820   3.25011   7.02353  54.14174          1.0   \n",
       "1        0.98725  10.99616   6.68294   8.73731  55.04632          0.5   \n",
       "2        0.98095   8.04228   7.34501   3.27778  58.03155          0.5   \n",
       "3        0.98427  14.37485  12.21699   7.58956  59.59324          1.0   \n",
       "4        0.98427  14.33820  12.32624   7.33875  59.58563          0.0   \n",
       "5        0.99075   8.71450   6.94200   5.27116  60.83454          1.0   \n",
       "6        0.99075   8.68183   6.99094   5.15110  60.83247          0.5   \n",
       "7        0.99075   8.67048   7.02881   5.07991  60.83099          1.0   \n",
       "8        0.99075   8.71957   6.81061   5.44807  60.83909          1.0   \n",
       "9        0.99931  18.77762  12.69780  13.86218  60.77741          1.0   \n",
       "\n",
       "       Seen  \n",
       "0  Not_seen  \n",
       "1  Not_seen  \n",
       "2  Not_seen  \n",
       "3  Not_seen  \n",
       "4      Seen  \n",
       "5  Not_seen  \n",
       "6  Not_seen  \n",
       "7  Not_seen  \n",
       "8  Not_seen  \n",
       "9  Not_seen  "
      ]
     },
     "execution_count": 400,
     "metadata": {},
     "output_type": "execute_result"
    }
   ],
   "source": [
    "icouk_data_file = '..\\\\Data\\\\icouk_sighting_data_with_params.csv'\n",
    "icop_data_file = '..\\\\Data\\\\icop_ahmed_2020_sighting_data_with_params.csv'\n",
    "alefray_data_file = '..\\\\Data\\\\alrefray_2018_sighting_data_with_params.csv'\n",
    "allawi_data_file = '..\\\\Data\\\\schaefer_odeh_allawi_2022_sighting_data_with_params.csv'\n",
    "\n",
    "icouk_data = pd.read_csv(icouk_data_file)\n",
    "icop_data = pd.read_csv(icop_data_file)\n",
    "alefray_data = pd.read_csv(alefray_data_file)\n",
    "allawi_data = pd.read_csv(allawi_data_file)\n",
    "\n",
    "data = pd.concat([icouk_data,icop_data,alefray_data,allawi_data])\n",
    "\n",
    "print(f\"Loaded {data.shape[0]} rows\")\n",
    "\n",
    "#data = data[data[\"Cloud Level\"] <= 0.5]\n",
    "data = data.drop([\"Index\",\"q\",\"W\",\"q'\",\"W'\"], axis = 1)\n",
    "\n",
    "#data.insert(1,\"Random1\",np.random.rand(data.shape[0],1))\n",
    "#data.insert(2,\"Random2\",np.random.rand(data.shape[0],1))\n",
    "#data = data[['Seen', \"Random1\",\"Random2\"]]\n",
    "\n",
    "data.head(10)"
   ]
  },
  {
   "cell_type": "code",
   "execution_count": 401,
   "metadata": {},
   "outputs": [],
   "source": [
    "# Visualising a couple of variables.\n",
    "variable_list =  data.columns.tolist() #['Hijri year', 'Month', 'Seen?','Lat','Lon']\n",
    " #print(variable_list)\n",
    "\n",
    "# List of label options\n",
    "ptype = [r\"Seen\", r\"Not_seen\"]\n",
    "\n",
    "# Plot data\n",
    "#diag_kind='kde'\n",
    "showpairplot = False\n",
    "if showpairplot == True:\n",
    "   fig = sns.pairplot(data[variable_list], hue = 'Seen', palette = 'bright')\n",
    "\n",
    "   # Change location of legend\n",
    "   fig._legend.set_bbox_to_anchor((1.05, 0.5))\n",
    "\n",
    "   # Add legend\n",
    "   for t, l in zip(fig._legend.texts, ptype):\n",
    "      t.set_text(str(t.get_text()) + \" - \" + str(l))\n",
    "\n",
    "\n",
    "   plt.show()\n"
   ]
  },
  {
   "cell_type": "code",
   "execution_count": 402,
   "metadata": {},
   "outputs": [],
   "source": [
    "# List of features without label feature\n",
    "features = variable_list\n",
    "features.remove('Seen')\n",
    "#print(features)\n",
    "\n",
    "X = data[features]\n",
    "y = np.array(data['Seen'])\n",
    "\n",
    "x_train, x_test, y_train, y_test = train_test_split(X, y, test_size=0.2) # 80/20 training/test split"
   ]
  },
  {
   "cell_type": "code",
   "execution_count": 403,
   "metadata": {},
   "outputs": [
    {
     "data": {
      "text/html": [
       "<style>#sk-container-id-29 {color: black;background-color: white;}#sk-container-id-29 pre{padding: 0;}#sk-container-id-29 div.sk-toggleable {background-color: white;}#sk-container-id-29 label.sk-toggleable__label {cursor: pointer;display: block;width: 100%;margin-bottom: 0;padding: 0.3em;box-sizing: border-box;text-align: center;}#sk-container-id-29 label.sk-toggleable__label-arrow:before {content: \"▸\";float: left;margin-right: 0.25em;color: #696969;}#sk-container-id-29 label.sk-toggleable__label-arrow:hover:before {color: black;}#sk-container-id-29 div.sk-estimator:hover label.sk-toggleable__label-arrow:before {color: black;}#sk-container-id-29 div.sk-toggleable__content {max-height: 0;max-width: 0;overflow: hidden;text-align: left;background-color: #f0f8ff;}#sk-container-id-29 div.sk-toggleable__content pre {margin: 0.2em;color: black;border-radius: 0.25em;background-color: #f0f8ff;}#sk-container-id-29 input.sk-toggleable__control:checked~div.sk-toggleable__content {max-height: 200px;max-width: 100%;overflow: auto;}#sk-container-id-29 input.sk-toggleable__control:checked~label.sk-toggleable__label-arrow:before {content: \"▾\";}#sk-container-id-29 div.sk-estimator input.sk-toggleable__control:checked~label.sk-toggleable__label {background-color: #d4ebff;}#sk-container-id-29 div.sk-label input.sk-toggleable__control:checked~label.sk-toggleable__label {background-color: #d4ebff;}#sk-container-id-29 input.sk-hidden--visually {border: 0;clip: rect(1px 1px 1px 1px);clip: rect(1px, 1px, 1px, 1px);height: 1px;margin: -1px;overflow: hidden;padding: 0;position: absolute;width: 1px;}#sk-container-id-29 div.sk-estimator {font-family: monospace;background-color: #f0f8ff;border: 1px dotted black;border-radius: 0.25em;box-sizing: border-box;margin-bottom: 0.5em;}#sk-container-id-29 div.sk-estimator:hover {background-color: #d4ebff;}#sk-container-id-29 div.sk-parallel-item::after {content: \"\";width: 100%;border-bottom: 1px solid gray;flex-grow: 1;}#sk-container-id-29 div.sk-label:hover label.sk-toggleable__label {background-color: #d4ebff;}#sk-container-id-29 div.sk-serial::before {content: \"\";position: absolute;border-left: 1px solid gray;box-sizing: border-box;top: 0;bottom: 0;left: 50%;z-index: 0;}#sk-container-id-29 div.sk-serial {display: flex;flex-direction: column;align-items: center;background-color: white;padding-right: 0.2em;padding-left: 0.2em;position: relative;}#sk-container-id-29 div.sk-item {position: relative;z-index: 1;}#sk-container-id-29 div.sk-parallel {display: flex;align-items: stretch;justify-content: center;background-color: white;position: relative;}#sk-container-id-29 div.sk-item::before, #sk-container-id-29 div.sk-parallel-item::before {content: \"\";position: absolute;border-left: 1px solid gray;box-sizing: border-box;top: 0;bottom: 0;left: 50%;z-index: -1;}#sk-container-id-29 div.sk-parallel-item {display: flex;flex-direction: column;z-index: 1;position: relative;background-color: white;}#sk-container-id-29 div.sk-parallel-item:first-child::after {align-self: flex-end;width: 50%;}#sk-container-id-29 div.sk-parallel-item:last-child::after {align-self: flex-start;width: 50%;}#sk-container-id-29 div.sk-parallel-item:only-child::after {width: 0;}#sk-container-id-29 div.sk-dashed-wrapped {border: 1px dashed gray;margin: 0 0.4em 0.5em 0.4em;box-sizing: border-box;padding-bottom: 0.4em;background-color: white;}#sk-container-id-29 div.sk-label label {font-family: monospace;font-weight: bold;display: inline-block;line-height: 1.2em;}#sk-container-id-29 div.sk-label-container {text-align: center;}#sk-container-id-29 div.sk-container {/* jupyter's `normalize.less` sets `[hidden] { display: none; }` but bootstrap.min.css set `[hidden] { display: none !important; }` so we also need the `!important` here to be able to override the default hidden behavior on the sphinx rendered scikit-learn.org. See: https://github.com/scikit-learn/scikit-learn/issues/21755 */display: inline-block !important;position: relative;}#sk-container-id-29 div.sk-text-repr-fallback {display: none;}</style><div id=\"sk-container-id-29\" class=\"sk-top-container\"><div class=\"sk-text-repr-fallback\"><pre>RandomForestClassifier()</pre><b>In a Jupyter environment, please rerun this cell to show the HTML representation or trust the notebook. <br />On GitHub, the HTML representation is unable to render, please try loading this page with nbviewer.org.</b></div><div class=\"sk-container\" hidden><div class=\"sk-item\"><div class=\"sk-estimator sk-toggleable\"><input class=\"sk-toggleable__control sk-hidden--visually\" id=\"sk-estimator-id-33\" type=\"checkbox\" checked><label for=\"sk-estimator-id-33\" class=\"sk-toggleable__label sk-toggleable__label-arrow\">RandomForestClassifier</label><div class=\"sk-toggleable__content\"><pre>RandomForestClassifier()</pre></div></div></div></div></div>"
      ],
      "text/plain": [
       "RandomForestClassifier()"
      ]
     },
     "execution_count": 403,
     "metadata": {},
     "output_type": "execute_result"
    }
   ],
   "source": [
    "# Produce randomforest classifier model and fit to training data\n",
    "# Keep the random_state=1 in your arguments\n",
    "# gini or entropy\n",
    "rf = RandomForestClassifier(n_estimators=100)#, criterion = 'gini', max_depth=12,random_state=0, oob_score=True)\n",
    "\n",
    "# Fitting takes the input and \"truth\" data for classification purposes\n",
    "rf.fit(x_train, y_train)"
   ]
  },
  {
   "cell_type": "code",
   "execution_count": 404,
   "metadata": {},
   "outputs": [
    {
     "name": "stdout",
     "output_type": "stream",
     "text": [
      "Accuracy on training dataset: 0.9968965517241379\n",
      "Accuracy on testing dataset: 0.8650137741046832\n"
     ]
    }
   ],
   "source": [
    "# Produce predictions for the classification of your training dataset using your model:\n",
    "y_pred = rf.predict(x_train)\n",
    "\n",
    "# plot the accuracies of said predictions\n",
    "print(\"Accuracy on training dataset:\",metrics.accuracy_score(y_train, y_pred))\n",
    "rf_acc_train = metrics.accuracy_score(y_train, y_pred)\n",
    "y_pred = rf.predict(x_test)\n",
    "print(\"Accuracy on testing dataset:\",metrics.accuracy_score(y_test, y_pred))\n",
    "rf_acc_test = metrics.accuracy_score(y_test, y_pred)"
   ]
  },
  {
   "cell_type": "markdown",
   "metadata": {},
   "source": [
    "ROC curve"
   ]
  },
  {
   "cell_type": "code",
   "execution_count": 405,
   "metadata": {},
   "outputs": [],
   "source": [
    "#y_train2 = y_train.copy()\n",
    "#y_test2 = y_test.copy()\n",
    "\n",
    "#y_train2[y_train2 == 'Seen'] = 1\n",
    "#y_train2[y_train2 == 'Not_seen'] = 0\n",
    "\n",
    "#y_test2[y_test2 == 'Seen'] = 1\n",
    "#y_test2[y_test2 == 'Not_seen'] = 0\n",
    "\n",
    "#print(y_train2)"
   ]
  },
  {
   "cell_type": "code",
   "execution_count": 406,
   "metadata": {},
   "outputs": [
    {
     "data": {
      "text/plain": [
       "0.9447691966775936"
      ]
     },
     "execution_count": 406,
     "metadata": {},
     "output_type": "execute_result"
    }
   ],
   "source": [
    "# Get predicted class probabilities for the test set \n",
    "y_pred_prob = rf.predict_proba(x_test)[:, 1] \n",
    "\n",
    "#y_pred_prob[y_pred_prob == 'Seen'] = 1\n",
    "#y_pred_prob[y_pred_prob == 'Not_seen'] = 0\n",
    "\n",
    "# Compute the false positive rate (FPR) \n",
    "# and true positive rate (TPR) for different classification thresholds \n",
    "fpr, tpr, thresholds = roc_curve(y_test, y_pred_prob, pos_label='Seen')\n",
    "\n",
    "# Compute the ROC AUC score \n",
    "roc_auc = roc_auc_score(y_test, y_pred_prob) \n",
    "roc_auc"
   ]
  },
  {
   "cell_type": "code",
   "execution_count": 407,
   "metadata": {},
   "outputs": [
    {
     "data": {
      "image/png": "[encoded data removed]",
      "text/plain": [
       "<Figure size 640x480 with 1 Axes>"
      ]
     },
     "metadata": {},
     "output_type": "display_data"
    }
   ],
   "source": [
    "\n",
    "# Plot the ROC curve \n",
    "plt.plot(fpr, tpr, label='ROC curve (area = %0.2f)' % roc_auc) \n",
    "# roc curve for tpr = fpr  \n",
    "plt.plot([0, 1], [0, 1], 'k--', label='Random classifier') \n",
    "plt.xlabel('False Positive Rate') \n",
    "plt.ylabel('True Positive Rate') \n",
    "plt.title('ROC Curve') \n",
    "plt.legend(loc=\"lower right\") \n",
    "plt.show()"
   ]
  },
  {
   "cell_type": "code",
   "execution_count": 408,
   "metadata": {},
   "outputs": [
    {
     "data": {
      "image/png": "[encoded data removed]",
      "text/plain": [
       "<Figure size 640x480 with 1 Axes>"
      ]
     },
     "metadata": {},
     "output_type": "display_data"
    }
   ],
   "source": [
    "# Plot the predicted class probabilities \n",
    "plt.hist(y_pred_prob, bins=10) \n",
    "plt.xlim(0, 1) \n",
    "plt.title('Histogram of predicted probabilities') \n",
    "plt.xlabel('Predicted probability') \n",
    "plt.ylabel('Frequency') \n",
    "plt.show() \n"
   ]
  },
  {
   "cell_type": "code",
   "execution_count": 409,
   "metadata": {},
   "outputs": [],
   "source": [
    "# Function to run thr random forest several times to get an average\n",
    "def random_forest(x_train, y_train, x_test, y_test, rf):\n",
    "    accuracy_arr = []\n",
    "    for i in range(20):\n",
    "        # Fitting takes the input and \"truth\" data for classification purposes\n",
    "        rf.fit(x_train, y_train)\n",
    "        # Produce predictions for the classification of your training dataset using your model:\n",
    "        y_pred = rf.predict(x_test)\n",
    "        #print(\"Accuracy on testing dataset:\",metrics.accuracy_score(y_test, y_pred))\n",
    "        accuracy_arr.append(metrics.accuracy_score(y_test, y_pred))\n",
    "    \n",
    "    accuracy_avg = np.mean(accuracy_arr)\n",
    "    accuracy_std = np.std(accuracy_arr)\n",
    "    return accuracy_avg,accuracy_std"
   ]
  },
  {
   "cell_type": "code",
   "execution_count": 410,
   "metadata": {},
   "outputs": [
    {
     "name": "stdout",
     "output_type": "stream",
     "text": [
      "When run 20 times the accuracy is 0.86419 \\pm 0.0034682:\n"
     ]
    }
   ],
   "source": [
    "rf = RandomForestClassifier(n_estimators=100, criterion='gini')#, criterion = 'gini', max_depth=12,random_state=0, oob_score=True)\n",
    "accuracy_val=random_forest(x_train, y_train, x_test, y_test, rf)\n",
    "\n",
    "print(r\"When run 20 times the accuracy is {:.5} \\pm {:.5}:\".format(accuracy_val[0],accuracy_val[1]))"
   ]
  },
  {
   "cell_type": "code",
   "execution_count": 411,
   "metadata": {},
   "outputs": [
    {
     "name": "stdout",
     "output_type": "stream",
     "text": [
      "Oob Score:  0.8636363636363636\n"
     ]
    }
   ],
   "source": [
    "print('Oob Score: ', rf.score(x_test, y_test))"
   ]
  },
  {
   "cell_type": "code",
   "execution_count": 412,
   "metadata": {},
   "outputs": [
    {
     "data": {
      "image/png": "[encoded data removed]",
      "text/plain": [
       "<Figure size 640x480 with 2 Axes>"
      ]
     },
     "metadata": {},
     "output_type": "display_data"
    }
   ],
   "source": [
    "# plot your confusion matrix\n",
    "cm = confusion_matrix(y_test, y_pred ,normalize = 'true')\n",
    "disp = ConfusionMatrixDisplay(confusion_matrix=cm, display_labels=ptype)\n",
    "disp.plot()\n",
    "plt.show()"
   ]
  },
  {
   "cell_type": "code",
   "execution_count": 413,
   "metadata": {},
   "outputs": [
    {
     "data": {
      "image/png": "[encoded data removed]",
      "text/plain": [
       "<Figure size 640x480 with 1 Axes>"
      ]
     },
     "metadata": {},
     "output_type": "display_data"
    }
   ],
   "source": [
    "# Plot importance\n",
    "importance = rf.feature_importances_\n",
    "ytix = features\n",
    "\n",
    "plt.barh(range(len(features)), importance)\n",
    "plt.yticks(range(len(features)), features)\n",
    "plt.xlabel(\"Importance\")\n",
    "plt.ylabel(\"Features\")\n",
    "plt.show()"
   ]
  },
  {
   "cell_type": "markdown",
   "metadata": {},
   "source": [
    "Hyperparameter adjustment - not of much note yet"
   ]
  },
  {
   "cell_type": "code",
   "execution_count": 414,
   "metadata": {},
   "outputs": [],
   "source": [
    "GRID_SEARCH = False\n",
    "\n",
    "if GRID_SEARCH:\n",
    "    rf = RandomForestClassifier(random_state=42)\n",
    "\n",
    "    params = {\n",
    "        'max_depth': [2,3,5,10,20],\n",
    "        'min_samples_leaf': [5,10,20,50,100,200],\n",
    "        'n_estimators': [10,25,30,50,100,200]\n",
    "    }\n",
    "\n",
    "    # Instantiate the grid search model\n",
    "    grid_search = GridSearchCV(estimator=rf,\n",
    "        param_grid=params,\n",
    "        cv = 4,\n",
    "         verbose=1, scoring=\"accuracy\")\n",
    "\n",
    "    grid_search.fit(x_train, y_train)\n",
    "    grid_search.best_score_\n",
    "    rf_best = grid_search.best_estimator_\n",
    "    rf_best\n",
    "\n",
    "    # Produce predictions for the classification of your training dataset using your model:\n",
    "    y_pred_best = rf_best.predict(x_train)\n",
    "\n",
    "    # plot the accuracies of said predictions\n",
    "    print(\"Accuracy on training dataset:\",metrics.accuracy_score(y_train, y_pred_best))\n",
    "    rf_best_acc_train = metrics.accuracy_score(y_train, y_pred_best)\n",
    "    y_pred_best = rf_best.predict(x_test)\n",
    "    print(\"Accuracy on testing dataset:\",metrics.accuracy_score(y_test, y_pred_best))\n",
    "    rf_best_acc_train = metrics.accuracy_score(y_test, y_pred_best)"
   ]
  },
  {
   "cell_type": "code",
   "execution_count": 415,
   "metadata": {},
   "outputs": [
    {
     "data": {
      "text/html": [
       "<style>#sk-container-id-30 {color: black;background-color: white;}#sk-container-id-30 pre{padding: 0;}#sk-container-id-30 div.sk-toggleable {background-color: white;}#sk-container-id-30 label.sk-toggleable__label {cursor: pointer;display: block;width: 100%;margin-bottom: 0;padding: 0.3em;box-sizing: border-box;text-align: center;}#sk-container-id-30 label.sk-toggleable__label-arrow:before {content: \"▸\";float: left;margin-right: 0.25em;color: #696969;}#sk-container-id-30 label.sk-toggleable__label-arrow:hover:before {color: black;}#sk-container-id-30 div.sk-estimator:hover label.sk-toggleable__label-arrow:before {color: black;}#sk-container-id-30 div.sk-toggleable__content {max-height: 0;max-width: 0;overflow: hidden;text-align: left;background-color: #f0f8ff;}#sk-container-id-30 div.sk-toggleable__content pre {margin: 0.2em;color: black;border-radius: 0.25em;background-color: #f0f8ff;}#sk-container-id-30 input.sk-toggleable__control:checked~div.sk-toggleable__content {max-height: 200px;max-width: 100%;overflow: auto;}#sk-container-id-30 input.sk-toggleable__control:checked~label.sk-toggleable__label-arrow:before {content: \"▾\";}#sk-container-id-30 div.sk-estimator input.sk-toggleable__control:checked~label.sk-toggleable__label {background-color: #d4ebff;}#sk-container-id-30 div.sk-label input.sk-toggleable__control:checked~label.sk-toggleable__label {background-color: #d4ebff;}#sk-container-id-30 input.sk-hidden--visually {border: 0;clip: rect(1px 1px 1px 1px);clip: rect(1px, 1px, 1px, 1px);height: 1px;margin: -1px;overflow: hidden;padding: 0;position: absolute;width: 1px;}#sk-container-id-30 div.sk-estimator {font-family: monospace;background-color: #f0f8ff;border: 1px dotted black;border-radius: 0.25em;box-sizing: border-box;margin-bottom: 0.5em;}#sk-container-id-30 div.sk-estimator:hover {background-color: #d4ebff;}#sk-container-id-30 div.sk-parallel-item::after {content: \"\";width: 100%;border-bottom: 1px solid gray;flex-grow: 1;}#sk-container-id-30 div.sk-label:hover label.sk-toggleable__label {background-color: #d4ebff;}#sk-container-id-30 div.sk-serial::before {content: \"\";position: absolute;border-left: 1px solid gray;box-sizing: border-box;top: 0;bottom: 0;left: 50%;z-index: 0;}#sk-container-id-30 div.sk-serial {display: flex;flex-direction: column;align-items: center;background-color: white;padding-right: 0.2em;padding-left: 0.2em;position: relative;}#sk-container-id-30 div.sk-item {position: relative;z-index: 1;}#sk-container-id-30 div.sk-parallel {display: flex;align-items: stretch;justify-content: center;background-color: white;position: relative;}#sk-container-id-30 div.sk-item::before, #sk-container-id-30 div.sk-parallel-item::before {content: \"\";position: absolute;border-left: 1px solid gray;box-sizing: border-box;top: 0;bottom: 0;left: 50%;z-index: -1;}#sk-container-id-30 div.sk-parallel-item {display: flex;flex-direction: column;z-index: 1;position: relative;background-color: white;}#sk-container-id-30 div.sk-parallel-item:first-child::after {align-self: flex-end;width: 50%;}#sk-container-id-30 div.sk-parallel-item:last-child::after {align-self: flex-start;width: 50%;}#sk-container-id-30 div.sk-parallel-item:only-child::after {width: 0;}#sk-container-id-30 div.sk-dashed-wrapped {border: 1px dashed gray;margin: 0 0.4em 0.5em 0.4em;box-sizing: border-box;padding-bottom: 0.4em;background-color: white;}#sk-container-id-30 div.sk-label label {font-family: monospace;font-weight: bold;display: inline-block;line-height: 1.2em;}#sk-container-id-30 div.sk-label-container {text-align: center;}#sk-container-id-30 div.sk-container {/* jupyter's `normalize.less` sets `[hidden] { display: none; }` but bootstrap.min.css set `[hidden] { display: none !important; }` so we also need the `!important` here to be able to override the default hidden behavior on the sphinx rendered scikit-learn.org. See: https://github.com/scikit-learn/scikit-learn/issues/21755 */display: inline-block !important;position: relative;}#sk-container-id-30 div.sk-text-repr-fallback {display: none;}</style><div id=\"sk-container-id-30\" class=\"sk-top-container\"><div class=\"sk-text-repr-fallback\"><pre>RandomForestClassifier(max_depth=2, min_samples_leaf=5, n_estimators=50,\n",
       "                       random_state=42)</pre><b>In a Jupyter environment, please rerun this cell to show the HTML representation or trust the notebook. <br />On GitHub, the HTML representation is unable to render, please try loading this page with nbviewer.org.</b></div><div class=\"sk-container\" hidden><div class=\"sk-item\"><div class=\"sk-estimator sk-toggleable\"><input class=\"sk-toggleable__control sk-hidden--visually\" id=\"sk-estimator-id-34\" type=\"checkbox\" checked><label for=\"sk-estimator-id-34\" class=\"sk-toggleable__label sk-toggleable__label-arrow\">RandomForestClassifier</label><div class=\"sk-toggleable__content\"><pre>RandomForestClassifier(max_depth=2, min_samples_leaf=5, n_estimators=50,\n",
       "                       random_state=42)</pre></div></div></div></div></div>"
      ],
      "text/plain": [
       "RandomForestClassifier(max_depth=2, min_samples_leaf=5, n_estimators=50,\n",
       "                       random_state=42)"
      ]
     },
     "execution_count": 415,
     "metadata": {},
     "output_type": "execute_result"
    }
   ],
   "source": [
    "rf_best"
   ]
  },
  {
   "cell_type": "code",
   "execution_count": 416,
   "metadata": {},
   "outputs": [],
   "source": [
    "#rf_best = grid_search.best_estimator_\n",
    "#rf_best"
   ]
  },
  {
   "cell_type": "code",
   "execution_count": 417,
   "metadata": {},
   "outputs": [],
   "source": [
    "# Produce predictions for the classification of your training dataset using your model:\n",
    "#y_pred_best = rf_best.predict(x_train)\n",
    "\n",
    "# plot the accuracies of said predictions\n",
    "#print(\"Accuracy on training dataset:\",metrics.accuracy_score(y_train, y_pred_best))\n",
    "#rf_best_acc_train = metrics.accuracy_score(y_train, y_pred_best)\n",
    "#y_pred_best = rf_best.predict(x_test)\n",
    "#print(\"Accuracy on testing dataset:\",metrics.accuracy_score(y_test, y_pred_best))\n",
    "#rf_best_acc_train = metrics.accuracy_score(y_test, y_pred_best)"
   ]
  }
 ],
 "metadata": {
  "kernelspec": {
   "display_name": "Python 3 (ipykernel)",
   "language": "python",
   "name": "python3"
  },
  "language_info": {
   "codemirror_mode": {
    "name": "ipython",
    "version": 3
   },
   "file_extension": ".py",
   "mimetype": "text/x-python",
   "name": "python",
   "nbconvert_exporter": "python",
   "pygments_lexer": "ipython3",
   "version": "3.11.5"
  }
 },
 "nbformat": 4,
 "nbformat_minor": 4
}
