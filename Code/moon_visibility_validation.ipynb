{
 "cells": [
  {
   "cell_type": "code",
   "execution_count": 69,
   "metadata": {},
   "outputs": [],
   "source": [
    "import pandas as pd\n",
    "import numpy as np\n",
    "from astropy.time import Time\n",
    "from datetime import datetime\n",
    "from sklearn.metrics import accuracy_score"
   ]
  },
  {
   "cell_type": "code",
   "execution_count": 70,
   "metadata": {},
   "outputs": [],
   "source": [
    "icouk_data_file = '..\\\\Data\\\\icouk_sighting_data_with_params.csv'\n",
    "icop_data_file = '..\\\\Data\\\\icop_ahmed_2020_sighting_data_with_params.csv'\n",
    "alrefay_data_file = '..\\\\Data\\\\alrefay_2018_sighting_data_with_params.csv'\n",
    "#allawi_data_file = '..\\\\Data\\\\schaefer_odeh_allawi_2022_sighting_data_with_params.csv'\n",
    "yallop_data_file = '..\\\\Data\\\\yallop_sighting_data_with_params.csv'\n",
    "\n",
    "icouk_data_file_orig = '..\\\\Data\\\\icouk_sighting_data.csv'\n",
    "icop_data_file_orig = '..\\\\Data\\\\icop_ahmed_2020_sighting_data.csv'\n",
    "alrefay_data_file_orig = '..\\\\Data\\\\alrefay_2018_sighting_data.csv'\n",
    "#allawi_data_file_orig = '..\\\\Data\\\\schaefer_odeh_allawi_2022_sighting_data.csv'\n",
    "yallop_data_file_orig = '..\\\\Data\\\\yallop_sighting_data.csv'\n",
    "\n",
    "icouk_data = pd.read_csv(icouk_data_file)\n",
    "icop_data = pd.read_csv(icop_data_file)\n",
    "alrefay_data = pd.read_csv(alrefay_data_file)\n",
    "yallop_data = pd.read_csv(yallop_data_file)\n",
    "\n",
    "icouk_data_orig = pd.read_csv(icouk_data_file_orig)\n",
    "icop_data_orig = pd.read_csv(icop_data_file_orig)\n",
    "alrefay_data_orig = pd.read_csv(alrefay_data_file_orig)\n",
    "yallop_data_orig = pd.read_csv(yallop_data_file_orig)"
   ]
  },
  {
   "cell_type": "code",
   "execution_count": 71,
   "metadata": {},
   "outputs": [],
   "source": [
    "#ICOUK file\n",
    "\n",
    "num_of_rows = icouk_data.shape[0]\n",
    "cols=[\"Orig Date\", \"Date\", \"Date diff\",\"Best time\", \"Lat\", \"Lon\", \"q\", \"Seen\"]\n",
    "data = pd.DataFrame(index=np.arange(0, num_of_rows), columns=cols[0:-5])\n",
    "data.index.name=\"Index\"\n",
    "\n",
    "orig_dates = Time.strptime(icouk_data_orig[\"Date\"].to_numpy().astype(str), \"%d-%b-%y\").to_datetime()\n",
    "dates = Time(icouk_data[\"Date\"],format=\"jd\").to_datetime()\n",
    "\n",
    "data[\"Orig Date\"] = Time(orig_dates).strftime(\"%d/%m/%Y\")\n",
    "data[\"Date\"] = Time(dates).strftime(\"%d/%m/%Y %H:%M\")\n",
    "data[\"Date diff\"] = dates - orig_dates\n",
    "data[\"Lat\"] = icouk_data[\"Latitude\"]\n",
    "data[\"Lon\"] = icouk_data[\"Longitude\"]\n",
    "data[\"q\"] = icouk_data[\"q'\"]\n",
    "data[\"Seen\"] = icouk_data_orig[\"Seen?\"]\n",
    "\n",
    "data.to_csv(\"..\\\\Data\\\\Validation\\\\icouk_validation.csv\")\n"
   ]
  },
  {
   "cell_type": "code",
   "execution_count": 72,
   "metadata": {},
   "outputs": [],
   "source": [
    "#ICOP file\n",
    "\n",
    "num_of_rows = icop_data.shape[0]\n",
    "cols=[\"Orig Date\", \"Date\", \"Date diff\",\"Best time\", \"Lat\", \"Lon\", \"Orig Age\", \"Age\", \"Age Diff\", \"q\", \"Seen\"]\n",
    "cols=[\"Orig Date\", \"Date\", \"Date diff\", \"Lat\", \"Lon\", \"Orig Sunset\", \"Sunset\", \"Sunset Diff\", \"q\", \"Seen\"]\n",
    "data = pd.DataFrame(index=np.arange(0, num_of_rows), columns=cols[0:-5])\n",
    "data.index.name=\"Index\"\n",
    "\n",
    "orig_dates = Time.strptime(icop_data_orig[\"Date\"].to_numpy().astype(str), \"%d/%m/%Y\").to_datetime()\n",
    "dates = Time(icop_data[\"Date\"],format=\"jd\").to_datetime()\n",
    "\n",
    "data[\"Orig Date\"] = Time(orig_dates).strftime(\"%d/%m/%Y\")\n",
    "data[\"Date\"] = Time(dates).strftime(\"%d/%m/%Y %H:%M\")\n",
    "data[\"Date diff\"] = dates - orig_dates\n",
    "\n",
    "orig_sunsets = Time.strptime(icop_data_orig[\"sunset\"].to_numpy().astype(str), \"%d/%m/%Y %H:%M\").to_datetime()\n",
    "sunsets = Time(icop_data[\"Sunset\"],format=\"jd\").to_datetime()\n",
    "\n",
    "data[\"Orig Sunset\"] = orig_sunsets\n",
    "data[\"Sunset\"] = sunsets\n",
    "data[\"Sunset diff\"] = sunsets - orig_sunsets\n",
    "\n",
    "data[\"Lat\"] = icop_data[\"Latitude\"]\n",
    "data[\"Lon\"] = icop_data[\"Longitude\"]\n",
    "data[\"q\"] = icop_data[\"q'\"]\n",
    "data[\"Seen\"] = icop_data[\"Seen\"]\n",
    "\n",
    "data.to_csv(\"..\\\\Data\\\\Validation\\\\icop_validation.csv\")"
   ]
  },
  {
   "cell_type": "code",
   "execution_count": 73,
   "metadata": {},
   "outputs": [],
   "source": [
    "#Alrefay file\n",
    "\n",
    "num_of_rows = alrefay_data.shape[0]\n",
    "cols=[\"Orig Date\", \"Date\", \"Date diff\",\"Best time\", \"Lat\", \"Lon\", \"Orig Age\", \"Age\", \"Age Diff\", \"q\", \"Seen\"]\n",
    "cols=[\"Orig Date\", \"Date\", \"Date diff\", \"Lat\", \"Lon\", \"Orig ARCV\", \"ARCV\", \"ARCV Diff\", \"q\", \"Seen\"]\n",
    "data = pd.DataFrame(index=np.arange(0, num_of_rows), columns=cols[0:-5])\n",
    "data.index.name=\"Index\"\n",
    "\n",
    "orig_dates = Time.strptime(alrefay_data_orig[\"Date\"].to_numpy().astype(str), \" %Y/%m/%d\").to_datetime()\n",
    "dates = Time(alrefay_data[\"Date\"],format=\"jd\").to_datetime()\n",
    "\n",
    "data[\"Orig Date\"] = Time(orig_dates).strftime(\"%d/%m/%Y\")\n",
    "data[\"Date\"] = Time(dates).strftime(\"%d/%m/%Y %H:%M\")\n",
    "data[\"Date diff\"] = dates - orig_dates\n",
    "\n",
    "data[\"Orig ARCV\"] = alrefay_data_orig[\" ARCV\"]\n",
    "data[\"ARCV\"] = alrefay_data[\"ARCV\"]\n",
    "data[\"ARCV diff\"] = round(alrefay_data[\"ARCV\"] - alrefay_data_orig[\" ARCV\"],5)\n",
    "\n",
    "data[\"Lat\"] = alrefay_data[\"Latitude\"]\n",
    "data[\"Lon\"] = alrefay_data[\"Longitude\"]\n",
    "data[\"q\"] = alrefay_data[\"q'\"]\n",
    "data[\"Seen\"] = alrefay_data[\"Seen\"]\n",
    "\n",
    "data.to_csv(\"..\\\\Data\\\\Validation\\\\alrefay_validation.csv\")"
   ]
  },
  {
   "cell_type": "code",
   "execution_count": 75,
   "metadata": {},
   "outputs": [
    {
     "name": "stderr",
     "output_type": "stream",
     "text": [
      "c:\\ProgramData\\miniconda3\\Lib\\site-packages\\erfa\\core.py:154: ErfaWarning: ERFA function \"dtf2d\" yielded 125 of \"dubious year (Note 6)\"\n",
      "  warnings.warn('ERFA function \"{}\" yielded {}'.format(func_name, wmsg),\n",
      "c:\\ProgramData\\miniconda3\\Lib\\site-packages\\erfa\\core.py:154: ErfaWarning: ERFA function \"d2dtf\" yielded 125 of \"dubious year (Note 5)\"\n",
      "  warnings.warn('ERFA function \"{}\" yielded {}'.format(func_name, wmsg),\n"
     ]
    }
   ],
   "source": [
    "#Yallop file\n",
    "\n",
    "num_of_rows = yallop_data.shape[0]\n",
    "cols=[\"Orig Date\", \"Date\", \"Date diff\",\"Best time\", \"Lat\", \"Lon\", \"Orig Age\", \"Age\", \"Age Diff\", \"q\", \"Seen\"]\n",
    "cols=[\"Orig Date\", \"Date\", \"Date diff\", \"Lat\", \"Lon\", \"Orig ARCV\", \"ARCV\", \"ARCV Diff\", \"q\", \"Seen\"]\n",
    "data = pd.DataFrame(index=np.arange(0, num_of_rows), columns=cols[0:-5])\n",
    "data.index.name=\"Index\"\n",
    "\n",
    "date_text = yallop_data_orig['D'].astype(str)+\"/\"+yallop_data_orig['M'].astype(str)+\"/\"+yallop_data_orig['Y'].astype(str)\n",
    "orig_dates = Time.strptime(date_text.to_numpy().astype(str), \"%d/%m/%Y\").to_datetime()\n",
    "\n",
    "dates = Time(yallop_data[\"Date\"],format=\"jd\").to_datetime()\n",
    "\n",
    "data[\"Orig Date\"] = Time(orig_dates).strftime(\"%d/%m/%Y\")\n",
    "data[\"Date\"] = Time(dates).strftime(\"%d/%m/%Y %H:%M\")\n",
    "data[\"Date diff\"] = dates - orig_dates\n",
    "\n",
    "data[\"Orig ARCV\"] = yallop_data_orig[\"ARCV\"]\n",
    "data[\"ARCV\"] = yallop_data[\"ARCV\"]\n",
    "data[\"ARCV diff\"] = round(yallop_data[\"ARCV\"] - yallop_data_orig[\"ARCV\"],5)\n",
    "\n",
    "data[\"Lat\"] = yallop_data[\"Latitude\"]\n",
    "data[\"Lon\"] = yallop_data[\"Longitude\"]\n",
    "data[\"q\"] = yallop_data[\"q'\"]\n",
    "data[\"Seen\"] = yallop_data[\"Seen\"]\n",
    "\n",
    "data.to_csv(\"..\\\\Data\\\\Validation\\\\yallop_validation.csv\")"
   ]
  }
 ],
 "metadata": {
  "kernelspec": {
   "display_name": "base",
   "language": "python",
   "name": "python3"
  },
  "language_info": {
   "codemirror_mode": {
    "name": "ipython",
    "version": 3
   },
   "file_extension": ".py",
   "mimetype": "text/x-python",
   "name": "python",
   "nbconvert_exporter": "python",
   "pygments_lexer": "ipython3",
   "version": "3.11.5"
  }
 },
 "nbformat": 4,
 "nbformat_minor": 2
}
