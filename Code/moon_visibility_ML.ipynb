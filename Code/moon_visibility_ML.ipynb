{
 "cells": [
  {
   "cell_type": "markdown",
   "metadata": {},
   "source": [
    "# Machine learning to predict new crescent moon visibility"
   ]
  },
  {
   "cell_type": "code",
   "execution_count": 96,
   "metadata": {},
   "outputs": [],
   "source": [
    "import pandas as pd\n",
    "import numpy as np\n",
    "import seaborn as sns\n",
    "import matplotlib.pyplot as plt\n",
    "\n",
    "# MACHINE LEARNING IMPORTS\n",
    "#import sklearn\n",
    "from sklearn import tree\n",
    "from sklearn.model_selection import train_test_split\n",
    "from sklearn import metrics\n",
    "from sklearn.ensemble import RandomForestClassifier\n",
    "from sklearn.metrics import confusion_matrix, ConfusionMatrixDisplay, roc_curve, roc_auc_score \n",
    "from sklearn.model_selection import GridSearchCV"
   ]
  },
  {
   "cell_type": "code",
   "execution_count": 97,
   "metadata": {},
   "outputs": [],
   "source": [
    "METHOD = True # replace seen column with method seen column\n",
    "RANDOM = False # replace data with random arrays\n",
    "CLOUDCUT = False # cut all complete cloud cover data points\n",
    "GRID_SEARCH = False # gridsearch for best random forest hyperparameters"
   ]
  },
  {
   "cell_type": "code",
   "execution_count": 98,
   "metadata": {},
   "outputs": [
    {
     "name": "stdout",
     "output_type": "stream",
     "text": [
      "Loaded 3260 rows\n"
     ]
    },
    {
     "data": {
      "text/html": [
       "<div>\n",
       "<style scoped>\n",
       "    .dataframe tbody tr th:only-of-type {\n",
       "        vertical-align: middle;\n",
       "    }\n",
       "\n",
       "    .dataframe tbody tr th {\n",
       "        vertical-align: top;\n",
       "    }\n",
       "\n",
       "    .dataframe thead th {\n",
       "        text-align: right;\n",
       "    }\n",
       "</style>\n",
       "<table border=\"1\" class=\"dataframe\">\n",
       "  <thead>\n",
       "    <tr style=\"text-align: right;\">\n",
       "      <th></th>\n",
       "      <th>Date</th>\n",
       "      <th>Latitude</th>\n",
       "      <th>Longitude</th>\n",
       "      <th>Moon Age</th>\n",
       "      <th>Sunset</th>\n",
       "      <th>Moonset</th>\n",
       "      <th>Lag</th>\n",
       "      <th>Moon Alt</th>\n",
       "      <th>Moon Az</th>\n",
       "      <th>Sun Alt</th>\n",
       "      <th>Sun Az</th>\n",
       "      <th>Moon-Earth Dist</th>\n",
       "      <th>Sun-Moon Dist</th>\n",
       "      <th>ARCL</th>\n",
       "      <th>ARCV</th>\n",
       "      <th>DAZ</th>\n",
       "      <th>Parallax</th>\n",
       "      <th>Cloud Level</th>\n",
       "      <th>Method</th>\n",
       "    </tr>\n",
       "  </thead>\n",
       "  <tbody>\n",
       "    <tr>\n",
       "      <th>0</th>\n",
       "      <td>2457309.222</td>\n",
       "      <td>53.95763</td>\n",
       "      <td>-1.08271</td>\n",
       "      <td>0.722</td>\n",
       "      <td>2457309.213</td>\n",
       "      <td>2457309.232</td>\n",
       "      <td>27.05935</td>\n",
       "      <td>1.51838</td>\n",
       "      <td>252.00232</td>\n",
       "      <td>-1.73173</td>\n",
       "      <td>259.02584</td>\n",
       "      <td>0.00271</td>\n",
       "      <td>0.99508</td>\n",
       "      <td>7.73820</td>\n",
       "      <td>3.25011</td>\n",
       "      <td>7.02353</td>\n",
       "      <td>54.14174</td>\n",
       "      <td>1.0</td>\n",
       "      <td>Not_seen</td>\n",
       "    </tr>\n",
       "    <tr>\n",
       "      <th>1</th>\n",
       "      <td>2457339.187</td>\n",
       "      <td>53.95763</td>\n",
       "      <td>-1.08271</td>\n",
       "      <td>1.687</td>\n",
       "      <td>2457339.170</td>\n",
       "      <td>2457339.210</td>\n",
       "      <td>57.80819</td>\n",
       "      <td>3.36486</td>\n",
       "      <td>235.23797</td>\n",
       "      <td>-3.31808</td>\n",
       "      <td>243.97528</td>\n",
       "      <td>0.00266</td>\n",
       "      <td>0.98725</td>\n",
       "      <td>10.99616</td>\n",
       "      <td>6.68294</td>\n",
       "      <td>8.73731</td>\n",
       "      <td>55.04632</td>\n",
       "      <td>0.5</td>\n",
       "      <td>Not_seen</td>\n",
       "    </tr>\n",
       "    <tr>\n",
       "      <th>2</th>\n",
       "      <td>2457398.185</td>\n",
       "      <td>53.95763</td>\n",
       "      <td>-1.08271</td>\n",
       "      <td>0.685</td>\n",
       "      <td>2457398.165</td>\n",
       "      <td>2457398.211</td>\n",
       "      <td>67.20869</td>\n",
       "      <td>3.82122</td>\n",
       "      <td>233.19221</td>\n",
       "      <td>-3.52379</td>\n",
       "      <td>236.46999</td>\n",
       "      <td>0.00252</td>\n",
       "      <td>0.98095</td>\n",
       "      <td>8.04228</td>\n",
       "      <td>7.34501</td>\n",
       "      <td>3.27778</td>\n",
       "      <td>58.03155</td>\n",
       "      <td>0.5</td>\n",
       "      <td>Not_seen</td>\n",
       "    </tr>\n",
       "    <tr>\n",
       "      <th>3</th>\n",
       "      <td>2457428.238</td>\n",
       "      <td>53.58333</td>\n",
       "      <td>-2.43333</td>\n",
       "      <td>1.738</td>\n",
       "      <td>2457428.209</td>\n",
       "      <td>2457428.275</td>\n",
       "      <td>94.68585</td>\n",
       "      <td>6.40548</td>\n",
       "      <td>245.47535</td>\n",
       "      <td>-5.81151</td>\n",
       "      <td>253.06492</td>\n",
       "      <td>0.00244</td>\n",
       "      <td>0.98427</td>\n",
       "      <td>14.37485</td>\n",
       "      <td>12.21699</td>\n",
       "      <td>7.58956</td>\n",
       "      <td>59.59324</td>\n",
       "      <td>1.0</td>\n",
       "      <td>Not_seen</td>\n",
       "    </tr>\n",
       "    <tr>\n",
       "      <th>4</th>\n",
       "      <td>2457428.236</td>\n",
       "      <td>52.63860</td>\n",
       "      <td>-1.13169</td>\n",
       "      <td>1.736</td>\n",
       "      <td>2457428.207</td>\n",
       "      <td>2457428.272</td>\n",
       "      <td>93.09817</td>\n",
       "      <td>6.46498</td>\n",
       "      <td>246.07108</td>\n",
       "      <td>-5.86126</td>\n",
       "      <td>253.40983</td>\n",
       "      <td>0.00244</td>\n",
       "      <td>0.98427</td>\n",
       "      <td>14.33820</td>\n",
       "      <td>12.32624</td>\n",
       "      <td>7.33875</td>\n",
       "      <td>59.58563</td>\n",
       "      <td>0.0</td>\n",
       "      <td>Seen_eye</td>\n",
       "    </tr>\n",
       "    <tr>\n",
       "      <th>5</th>\n",
       "      <td>2457457.261</td>\n",
       "      <td>52.63860</td>\n",
       "      <td>-1.13169</td>\n",
       "      <td>0.761</td>\n",
       "      <td>2457457.245</td>\n",
       "      <td>2457457.281</td>\n",
       "      <td>51.24933</td>\n",
       "      <td>3.50315</td>\n",
       "      <td>262.44978</td>\n",
       "      <td>-3.43885</td>\n",
       "      <td>267.72094</td>\n",
       "      <td>0.00240</td>\n",
       "      <td>0.99075</td>\n",
       "      <td>8.71450</td>\n",
       "      <td>6.94200</td>\n",
       "      <td>5.27116</td>\n",
       "      <td>60.83454</td>\n",
       "      <td>1.0</td>\n",
       "      <td>Not_seen</td>\n",
       "    </tr>\n",
       "    <tr>\n",
       "      <th>6</th>\n",
       "      <td>2457457.259</td>\n",
       "      <td>51.87967</td>\n",
       "      <td>-0.41748</td>\n",
       "      <td>0.759</td>\n",
       "      <td>2457457.244</td>\n",
       "      <td>2457457.279</td>\n",
       "      <td>50.69011</td>\n",
       "      <td>3.53057</td>\n",
       "      <td>262.58959</td>\n",
       "      <td>-3.46038</td>\n",
       "      <td>267.74070</td>\n",
       "      <td>0.00240</td>\n",
       "      <td>0.99075</td>\n",
       "      <td>8.68183</td>\n",
       "      <td>6.99094</td>\n",
       "      <td>5.15110</td>\n",
       "      <td>60.83247</td>\n",
       "      <td>0.5</td>\n",
       "      <td>Not_seen</td>\n",
       "    </tr>\n",
       "    <tr>\n",
       "      <th>7</th>\n",
       "      <td>2457457.259</td>\n",
       "      <td>51.39822</td>\n",
       "      <td>-0.19837</td>\n",
       "      <td>0.759</td>\n",
       "      <td>2457457.243</td>\n",
       "      <td>2457457.278</td>\n",
       "      <td>50.38849</td>\n",
       "      <td>3.55198</td>\n",
       "      <td>262.67600</td>\n",
       "      <td>-3.47683</td>\n",
       "      <td>267.75591</td>\n",
       "      <td>0.00240</td>\n",
       "      <td>0.99075</td>\n",
       "      <td>8.67048</td>\n",
       "      <td>7.02881</td>\n",
       "      <td>5.07991</td>\n",
       "      <td>60.83099</td>\n",
       "      <td>1.0</td>\n",
       "      <td>Not_seen</td>\n",
       "    </tr>\n",
       "    <tr>\n",
       "      <th>8</th>\n",
       "      <td>2457457.260</td>\n",
       "      <td>53.95763</td>\n",
       "      <td>-1.08271</td>\n",
       "      <td>0.760</td>\n",
       "      <td>2457457.244</td>\n",
       "      <td>2457457.280</td>\n",
       "      <td>51.96781</td>\n",
       "      <td>3.43075</td>\n",
       "      <td>262.20043</td>\n",
       "      <td>-3.37986</td>\n",
       "      <td>267.64850</td>\n",
       "      <td>0.00240</td>\n",
       "      <td>0.99075</td>\n",
       "      <td>8.71957</td>\n",
       "      <td>6.81061</td>\n",
       "      <td>5.44807</td>\n",
       "      <td>60.83909</td>\n",
       "      <td>1.0</td>\n",
       "      <td>Not_seen</td>\n",
       "    </tr>\n",
       "    <tr>\n",
       "      <th>9</th>\n",
       "      <td>2457487.316</td>\n",
       "      <td>53.58333</td>\n",
       "      <td>-2.43333</td>\n",
       "      <td>1.816</td>\n",
       "      <td>2457487.287</td>\n",
       "      <td>2457487.353</td>\n",
       "      <td>95.45765</td>\n",
       "      <td>6.69411</td>\n",
       "      <td>277.61713</td>\n",
       "      <td>-6.00369</td>\n",
       "      <td>291.47930</td>\n",
       "      <td>0.00240</td>\n",
       "      <td>0.99931</td>\n",
       "      <td>18.77762</td>\n",
       "      <td>12.69780</td>\n",
       "      <td>13.86218</td>\n",
       "      <td>60.77741</td>\n",
       "      <td>1.0</td>\n",
       "      <td>Not_seen</td>\n",
       "    </tr>\n",
       "  </tbody>\n",
       "</table>\n",
       "</div>"
      ],
      "text/plain": [
       "          Date  Latitude  Longitude  Moon Age       Sunset      Moonset  \\\n",
       "0  2457309.222  53.95763   -1.08271     0.722  2457309.213  2457309.232   \n",
       "1  2457339.187  53.95763   -1.08271     1.687  2457339.170  2457339.210   \n",
       "2  2457398.185  53.95763   -1.08271     0.685  2457398.165  2457398.211   \n",
       "3  2457428.238  53.58333   -2.43333     1.738  2457428.209  2457428.275   \n",
       "4  2457428.236  52.63860   -1.13169     1.736  2457428.207  2457428.272   \n",
       "5  2457457.261  52.63860   -1.13169     0.761  2457457.245  2457457.281   \n",
       "6  2457457.259  51.87967   -0.41748     0.759  2457457.244  2457457.279   \n",
       "7  2457457.259  51.39822   -0.19837     0.759  2457457.243  2457457.278   \n",
       "8  2457457.260  53.95763   -1.08271     0.760  2457457.244  2457457.280   \n",
       "9  2457487.316  53.58333   -2.43333     1.816  2457487.287  2457487.353   \n",
       "\n",
       "        Lag  Moon Alt    Moon Az  Sun Alt     Sun Az  Moon-Earth Dist  \\\n",
       "0  27.05935   1.51838  252.00232 -1.73173  259.02584          0.00271   \n",
       "1  57.80819   3.36486  235.23797 -3.31808  243.97528          0.00266   \n",
       "2  67.20869   3.82122  233.19221 -3.52379  236.46999          0.00252   \n",
       "3  94.68585   6.40548  245.47535 -5.81151  253.06492          0.00244   \n",
       "4  93.09817   6.46498  246.07108 -5.86126  253.40983          0.00244   \n",
       "5  51.24933   3.50315  262.44978 -3.43885  267.72094          0.00240   \n",
       "6  50.69011   3.53057  262.58959 -3.46038  267.74070          0.00240   \n",
       "7  50.38849   3.55198  262.67600 -3.47683  267.75591          0.00240   \n",
       "8  51.96781   3.43075  262.20043 -3.37986  267.64850          0.00240   \n",
       "9  95.45765   6.69411  277.61713 -6.00369  291.47930          0.00240   \n",
       "\n",
       "   Sun-Moon Dist      ARCL      ARCV       DAZ  Parallax  Cloud Level  \\\n",
       "0        0.99508   7.73820   3.25011   7.02353  54.14174          1.0   \n",
       "1        0.98725  10.99616   6.68294   8.73731  55.04632          0.5   \n",
       "2        0.98095   8.04228   7.34501   3.27778  58.03155          0.5   \n",
       "3        0.98427  14.37485  12.21699   7.58956  59.59324          1.0   \n",
       "4        0.98427  14.33820  12.32624   7.33875  59.58563          0.0   \n",
       "5        0.99075   8.71450   6.94200   5.27116  60.83454          1.0   \n",
       "6        0.99075   8.68183   6.99094   5.15110  60.83247          0.5   \n",
       "7        0.99075   8.67048   7.02881   5.07991  60.83099          1.0   \n",
       "8        0.99075   8.71957   6.81061   5.44807  60.83909          1.0   \n",
       "9        0.99931  18.77762  12.69780  13.86218  60.77741          1.0   \n",
       "\n",
       "     Method  \n",
       "0  Not_seen  \n",
       "1  Not_seen  \n",
       "2  Not_seen  \n",
       "3  Not_seen  \n",
       "4  Seen_eye  \n",
       "5  Not_seen  \n",
       "6  Not_seen  \n",
       "7  Not_seen  \n",
       "8  Not_seen  \n",
       "9  Not_seen  "
      ]
     },
     "execution_count": 98,
     "metadata": {},
     "output_type": "execute_result"
    }
   ],
   "source": [
    "icouk_data_file = '..\\\\Data\\\\icouk_sighting_data_with_params.csv'\n",
    "icop_data_file = '..\\\\Data\\\\icop_ahmed_2020_sighting_data_with_params.csv'\n",
    "alrefay_data_file = '..\\\\Data\\\\alrefay_2018_sighting_data_with_params.csv'\n",
    "allawi_data_file = '..\\\\Data\\\\schaefer_odeh_allawi_2022_sighting_data_with_params.csv'\n",
    "\n",
    "icouk_data = pd.read_csv(icouk_data_file)\n",
    "icop_data = pd.read_csv(icop_data_file)\n",
    "alrefay_data = pd.read_csv(alrefay_data_file)\n",
    "allawi_data = pd.read_csv(allawi_data_file)\n",
    "\n",
    "data = pd.concat([icouk_data,icop_data,alrefay_data])\n",
    "\n",
    "print(f\"Loaded {data.shape[0]} rows\")\n",
    "\n",
    "data = data.drop([\"Index\",\"q\",\"W\",\"q'\",\"W'\"], axis = 1)\n",
    "\n",
    "if METHOD:\n",
    "    data = data.drop('Seen', axis = 1) # replaced by method column\n",
    "    ptype = [r\"Not_seen\", r\"Seen_eye\", r\"Seen_binoculars\", r\"Seen_telescope\", r\"Seen_ccd\"] # CHANGE THIS\n",
    "else:\n",
    "    data=data.drop('Method', axis = 1)\n",
    "    # List of label options\n",
    "    ptype = [r\"Seen\", r\"Not_seen\"]\n",
    "\n",
    "if RANDOM:\n",
    "    data.insert(1,\"Random1\",np.random.rand(data.shape[0],1))\n",
    "    data.insert(2,\"Random2\",np.random.rand(data.shape[0],1))\n",
    "    data = data[['Seen', \"Random1\",\"Random2\"]]\n",
    "\n",
    "if CLOUDCUT:\n",
    "    data = data[data[\"Cloud Level\"] <= 0.5]\n",
    "\n",
    "\n",
    "data.head(10)"
   ]
  },
  {
   "cell_type": "code",
   "execution_count": 99,
   "metadata": {},
   "outputs": [],
   "source": [
    "# Visualising a couple of variables.\n",
    "variable_list =  data.columns.tolist()\n",
    "#print(variable_list)\n",
    "\n",
    "# Plot data\n",
    "showpairplot = False\n",
    "if showpairplot == True:\n",
    "   fig = sns.pairplot(data[variable_list], hue = 'Seen', palette = 'bright')\n",
    "\n",
    "   # Change location of legend\n",
    "   fig._legend.set_bbox_to_anchor((1.05, 0.5))\n",
    "\n",
    "   # Add legend\n",
    "   for t, l in zip(fig._legend.texts, ptype):\n",
    "      t.set_text(str(t.get_text()) + \" - \" + str(l))\n",
    "\n",
    "   plt.show()\n"
   ]
  },
  {
   "cell_type": "code",
   "execution_count": 100,
   "metadata": {},
   "outputs": [],
   "source": [
    "# List of features without label feature\n",
    "features = variable_list\n",
    "#features.remove('Seen')\n",
    "#print(features)\n",
    "\n",
    "\n",
    "if METHOD:\n",
    "    y = np.array(data['Method'])\n",
    "    features.remove('Method')\n",
    "    pos = 'Seen_eye' # for ROC curve +ve result\n",
    "else:\n",
    "    y = np.array(data['Seen'])\n",
    "    features.remove('Seen')\n",
    "    pos = 'Seen' # for ROC curve +ve result\n",
    "\n",
    "X = data[features]\n",
    "\n",
    "x_train, x_test, y_train, y_test = train_test_split(X, y, test_size=0.2) # 80/20 training/test split"
   ]
  },
  {
   "cell_type": "code",
   "execution_count": 101,
   "metadata": {},
   "outputs": [],
   "source": [
    "# Produce randomforest classifier model and fit to training data\n",
    "# Keep the random_state=1 in your arguments\n",
    "# gini or entropy\n",
    "rf = RandomForestClassifier(n_estimators=100)#, criterion = 'gini', max_depth=12,random_state=0, oob_score=True)\n",
    "\n",
    "# Fitting takes the input and \"truth\" data for classification purposes\n",
    "rf.fit(x_train, y_train)"
   ]
  },
  {
   "cell_type": "code",
   "execution_count": null,
   "metadata": {},
   "outputs": [
    {
     "name": "stdout",
     "output_type": "stream",
     "text": [
      "Accuracy on training dataset: 0.9934815950920245\n",
      "Accuracy on testing dataset: 0.8144171779141104\n"
     ]
    }
   ],
   "source": [
    "# Produce predictions for the classification of your training dataset using your model:\n",
    "y_pred = rf.predict(x_train)\n",
    "\n",
    "# plot the accuracies of said predictions\n",
    "print(\"Accuracy on training dataset:\",metrics.accuracy_score(y_train, y_pred))\n",
    "rf_acc_train = metrics.accuracy_score(y_train, y_pred)\n",
    "y_pred = rf.predict(x_test)\n",
    "print(\"Accuracy on testing dataset:\",metrics.accuracy_score(y_test, y_pred))\n",
    "rf_acc_test = metrics.accuracy_score(y_test, y_pred)"
   ]
  },
  {
   "cell_type": "markdown",
   "metadata": {},
   "source": [
    "ROC curve"
   ]
  },
  {
   "cell_type": "code",
   "execution_count": null,
   "metadata": {},
   "outputs": [],
   "source": [
    "#y_train2 = y_train.copy()\n",
    "#y_test2 = y_test.copy()\n",
    "\n",
    "#y_train2[y_train2 == 'Seen'] = 1\n",
    "#y_train2[y_train2 == 'Not_seen'] = 0\n",
    "\n",
    "#y_test2[y_test2 == 'Seen'] = 1\n",
    "#y_test2[y_test2 == 'Not_seen'] = 0\n",
    "\n",
    "#print(y_train2)"
   ]
  },
  {
   "cell_type": "code",
   "execution_count": null,
   "metadata": {},
   "outputs": [
    {
     "ename": "AxisError",
     "evalue": "axis 1 is out of bounds for array of dimension 1",
     "output_type": "error",
     "traceback": [
      "\u001b[1;31m---------------------------------------------------------------------------\u001b[0m",
      "\u001b[1;31mAxisError\u001b[0m                                 Traceback (most recent call last)",
      "\u001b[1;32mc:\\Users\\Neil Power\\OneDrive - The University of Manchester\\Physics\\Year 4\\MoonPhys\\mphys-moon\\Code\\moon_visibility_ML.ipynb Cell 11\u001b[0m line \u001b[0;36m1\n\u001b[0;32m     <a href='vscode-notebook-cell:/c%3A/Users/Neil%20Power/OneDrive%20-%20The%20University%20of%20Manchester/Physics/Year%204/MoonPhys/mphys-moon/Code/moon_visibility_ML.ipynb#X12sZmlsZQ%3D%3D?line=10'>11</a>\u001b[0m \u001b[39m# Compute the ROC AUC score \u001b[39;00m\n\u001b[0;32m     <a href='vscode-notebook-cell:/c%3A/Users/Neil%20Power/OneDrive%20-%20The%20University%20of%20Manchester/Physics/Year%204/MoonPhys/mphys-moon/Code/moon_visibility_ML.ipynb#X12sZmlsZQ%3D%3D?line=12'>13</a>\u001b[0m \u001b[39mif\u001b[39;00m METHOD:\n\u001b[1;32m---> <a href='vscode-notebook-cell:/c%3A/Users/Neil%20Power/OneDrive%20-%20The%20University%20of%20Manchester/Physics/Year%204/MoonPhys/mphys-moon/Code/moon_visibility_ML.ipynb#X12sZmlsZQ%3D%3D?line=13'>14</a>\u001b[0m     roc_auc \u001b[39m=\u001b[39m roc_auc_score(y_test, y_pred_prob, multi_class\u001b[39m=\u001b[39m\u001b[39m'\u001b[39m\u001b[39movo\u001b[39m\u001b[39m'\u001b[39m)\n\u001b[0;32m     <a href='vscode-notebook-cell:/c%3A/Users/Neil%20Power/OneDrive%20-%20The%20University%20of%20Manchester/Physics/Year%204/MoonPhys/mphys-moon/Code/moon_visibility_ML.ipynb#X12sZmlsZQ%3D%3D?line=14'>15</a>\u001b[0m \u001b[39melse\u001b[39;00m:\n\u001b[0;32m     <a href='vscode-notebook-cell:/c%3A/Users/Neil%20Power/OneDrive%20-%20The%20University%20of%20Manchester/Physics/Year%204/MoonPhys/mphys-moon/Code/moon_visibility_ML.ipynb#X12sZmlsZQ%3D%3D?line=15'>16</a>\u001b[0m     roc_auc \u001b[39m=\u001b[39m roc_auc_score(y_test, y_pred_prob)\n",
      "File \u001b[1;32mc:\\ProgramData\\miniconda3\\Lib\\site-packages\\sklearn\\metrics\\_ranking.py:566\u001b[0m, in \u001b[0;36mroc_auc_score\u001b[1;34m(y_true, y_score, average, sample_weight, max_fpr, multi_class, labels)\u001b[0m\n\u001b[0;32m    564\u001b[0m     \u001b[39mif\u001b[39;00m multi_class \u001b[39m==\u001b[39m \u001b[39m\"\u001b[39m\u001b[39mraise\u001b[39m\u001b[39m\"\u001b[39m:\n\u001b[0;32m    565\u001b[0m         \u001b[39mraise\u001b[39;00m \u001b[39mValueError\u001b[39;00m(\u001b[39m\"\u001b[39m\u001b[39mmulti_class must be in (\u001b[39m\u001b[39m'\u001b[39m\u001b[39movo\u001b[39m\u001b[39m'\u001b[39m\u001b[39m, \u001b[39m\u001b[39m'\u001b[39m\u001b[39movr\u001b[39m\u001b[39m'\u001b[39m\u001b[39m)\u001b[39m\u001b[39m\"\u001b[39m)\n\u001b[1;32m--> 566\u001b[0m     \u001b[39mreturn\u001b[39;00m _multiclass_roc_auc_score(\n\u001b[0;32m    567\u001b[0m         y_true, y_score, labels, multi_class, average, sample_weight\n\u001b[0;32m    568\u001b[0m     )\n\u001b[0;32m    569\u001b[0m \u001b[39melif\u001b[39;00m y_type \u001b[39m==\u001b[39m \u001b[39m\"\u001b[39m\u001b[39mbinary\u001b[39m\u001b[39m\"\u001b[39m:\n\u001b[0;32m    570\u001b[0m     labels \u001b[39m=\u001b[39m np\u001b[39m.\u001b[39munique(y_true)\n",
      "File \u001b[1;32mc:\\ProgramData\\miniconda3\\Lib\\site-packages\\sklearn\\metrics\\_ranking.py:638\u001b[0m, in \u001b[0;36m_multiclass_roc_auc_score\u001b[1;34m(y_true, y_score, labels, multi_class, average, sample_weight)\u001b[0m\n\u001b[0;32m    592\u001b[0m \u001b[39m\u001b[39m\u001b[39m\"\"\"Multiclass roc auc score.\u001b[39;00m\n\u001b[0;32m    593\u001b[0m \n\u001b[0;32m    594\u001b[0m \u001b[39mParameters\u001b[39;00m\n\u001b[1;32m   (...)\u001b[0m\n\u001b[0;32m    635\u001b[0m \n\u001b[0;32m    636\u001b[0m \u001b[39m\"\"\"\u001b[39;00m\n\u001b[0;32m    637\u001b[0m \u001b[39m# validation of the input y_score\u001b[39;00m\n\u001b[1;32m--> 638\u001b[0m \u001b[39mif\u001b[39;00m \u001b[39mnot\u001b[39;00m np\u001b[39m.\u001b[39mallclose(\u001b[39m1\u001b[39m, y_score\u001b[39m.\u001b[39msum(axis\u001b[39m=\u001b[39m\u001b[39m1\u001b[39m)):\n\u001b[0;32m    639\u001b[0m     \u001b[39mraise\u001b[39;00m \u001b[39mValueError\u001b[39;00m(\n\u001b[0;32m    640\u001b[0m         \u001b[39m\"\u001b[39m\u001b[39mTarget scores need to be probabilities for multiclass \u001b[39m\u001b[39m\"\u001b[39m\n\u001b[0;32m    641\u001b[0m         \u001b[39m\"\u001b[39m\u001b[39mroc_auc, i.e. they should sum up to 1.0 over classes\u001b[39m\u001b[39m\"\u001b[39m\n\u001b[0;32m    642\u001b[0m     )\n\u001b[0;32m    644\u001b[0m \u001b[39m# validation for multiclass parameter specifications\u001b[39;00m\n",
      "File \u001b[1;32mc:\\ProgramData\\miniconda3\\Lib\\site-packages\\numpy\\core\\_methods.py:49\u001b[0m, in \u001b[0;36m_sum\u001b[1;34m(a, axis, dtype, out, keepdims, initial, where)\u001b[0m\n\u001b[0;32m     47\u001b[0m \u001b[39mdef\u001b[39;00m \u001b[39m_sum\u001b[39m(a, axis\u001b[39m=\u001b[39m\u001b[39mNone\u001b[39;00m, dtype\u001b[39m=\u001b[39m\u001b[39mNone\u001b[39;00m, out\u001b[39m=\u001b[39m\u001b[39mNone\u001b[39;00m, keepdims\u001b[39m=\u001b[39m\u001b[39mFalse\u001b[39;00m,\n\u001b[0;32m     48\u001b[0m          initial\u001b[39m=\u001b[39m_NoValue, where\u001b[39m=\u001b[39m\u001b[39mTrue\u001b[39;00m):\n\u001b[1;32m---> 49\u001b[0m     \u001b[39mreturn\u001b[39;00m umr_sum(a, axis, dtype, out, keepdims, initial, where)\n",
      "\u001b[1;31mAxisError\u001b[0m: axis 1 is out of bounds for array of dimension 1"
     ]
    }
   ],
   "source": [
    "# Get predicted class probabilities for the test set \n",
    "y_pred_prob = rf.predict_proba(x_test)#[:, 1] \n",
    "\n",
    "#y_pred_prob[y_pred_prob == 'Seen'] = 1\n",
    "#y_pred_prob[y_pred_prob == 'Not_seen'] = 0\n",
    "\n",
    "# Compute the false positive rate (FPR) \n",
    "# and true positive rate (TPR) for different classification thresholds \n",
    "fpr, tpr, thresholds = roc_curve(y_test, y_pred_prob, pos_label=pos)\n",
    "\n",
    "# Compute the ROC AUC score \n",
    "\n",
    "if METHOD:\n",
    "    roc_auc = roc_auc_score(y_test, y_pred_prob, multi_class='ovr')\n",
    "else:\n",
    "    roc_auc = roc_auc_score(y_test, y_pred_prob)\n",
    "\n",
    "roc_auc"
   ]
  },
  {
   "cell_type": "code",
   "execution_count": null,
   "metadata": {},
   "outputs": [
    {
     "data": {
      "image/png": "[encoded data removed]",
      "text/plain": [
       "<Figure size 640x480 with 1 Axes>"
      ]
     },
     "metadata": {},
     "output_type": "display_data"
    }
   ],
   "source": [
    "\n",
    "# Plot the ROC curve \n",
    "plt.plot(fpr, tpr, label='ROC curve (area = %0.2f)' % roc_auc) \n",
    "# roc curve for tpr = fpr  \n",
    "plt.plot([0, 1], [0, 1], 'k--', label='Random classifier') \n",
    "plt.xlabel('False Positive Rate') \n",
    "plt.ylabel('True Positive Rate') \n",
    "plt.title('ROC Curve') \n",
    "plt.legend(loc=\"lower right\") \n",
    "plt.show()"
   ]
  },
  {
   "cell_type": "code",
   "execution_count": null,
   "metadata": {},
   "outputs": [
    {
     "data": {
      "image/png": "[encoded data removed]",
      "text/plain": [
       "<Figure size 640x480 with 1 Axes>"
      ]
     },
     "metadata": {},
     "output_type": "display_data"
    }
   ],
   "source": [
    "# Plot the predicted class probabilities \n",
    "plt.hist(y_pred_prob, bins=10) \n",
    "plt.xlim(0, 1) \n",
    "plt.title('Histogram of predicted probabilities') \n",
    "plt.xlabel('Predicted probability') \n",
    "plt.ylabel('Frequency') \n",
    "plt.show() \n"
   ]
  },
  {
   "cell_type": "code",
   "execution_count": null,
   "metadata": {},
   "outputs": [],
   "source": [
    "# Function to run thr random forest several times to get an average\n",
    "def random_forest(x_train, y_train, x_test, y_test, rf):\n",
    "    accuracy_arr = []\n",
    "    for i in range(20):\n",
    "        # Fitting takes the input and \"truth\" data for classification purposes\n",
    "        rf.fit(x_train, y_train)\n",
    "        # Produce predictions for the classification of your training dataset using your model:\n",
    "        y_pred = rf.predict(x_test)\n",
    "        #print(\"Accuracy on testing dataset:\",metrics.accuracy_score(y_test, y_pred))\n",
    "        accuracy_arr.append(metrics.accuracy_score(y_test, y_pred))\n",
    "    \n",
    "    accuracy_avg = np.mean(accuracy_arr)\n",
    "    accuracy_std = np.std(accuracy_arr)\n",
    "    return accuracy_avg,accuracy_std"
   ]
  },
  {
   "cell_type": "code",
   "execution_count": null,
   "metadata": {},
   "outputs": [
    {
     "name": "stdout",
     "output_type": "stream",
     "text": [
      "When run 20 times the accuracy is 0.87293 \\pm 0.0044179:\n"
     ]
    }
   ],
   "source": [
    "rf = RandomForestClassifier(n_estimators=100, criterion='gini')#, criterion = 'gini', max_depth=12,random_state=0, oob_score=True)\n",
    "accuracy_val=random_forest(x_train, y_train, x_test, y_test, rf)\n",
    "\n",
    "print(r\"When run 20 times the accuracy is {:.5} \\pm {:.5}:\".format(accuracy_val[0],accuracy_val[1]))"
   ]
  },
  {
   "cell_type": "code",
   "execution_count": null,
   "metadata": {},
   "outputs": [
    {
     "name": "stdout",
     "output_type": "stream",
     "text": [
      "Oob Score:  0.8760330578512396\n"
     ]
    }
   ],
   "source": [
    "print('Oob Score: ', rf.score(x_test, y_test))"
   ]
  },
  {
   "cell_type": "code",
   "execution_count": null,
   "metadata": {},
   "outputs": [
    {
     "data": {
      "image/png": "[encoded data removed]",
      "text/plain": [
       "<Figure size 640x480 with 2 Axes>"
      ]
     },
     "metadata": {},
     "output_type": "display_data"
    }
   ],
   "source": [
    "# plot your confusion matrix\n",
    "cm = confusion_matrix(y_test, y_pred ,normalize = 'true')\n",
    "disp = ConfusionMatrixDisplay(confusion_matrix=cm, display_labels=ptype)\n",
    "disp.plot()\n",
    "plt.show()"
   ]
  },
  {
   "cell_type": "code",
   "execution_count": null,
   "metadata": {},
   "outputs": [
    {
     "data": {
      "image/png": "[encoded data removed]",
      "text/plain": [
       "<Figure size 640x480 with 1 Axes>"
      ]
     },
     "metadata": {},
     "output_type": "display_data"
    }
   ],
   "source": [
    "# Plot importance\n",
    "importance = rf.feature_importances_\n",
    "ytix = features\n",
    "\n",
    "plt.barh(range(len(features)), importance)\n",
    "plt.yticks(range(len(features)), features)\n",
    "plt.xlabel(\"Importance\")\n",
    "plt.ylabel(\"Features\")\n",
    "plt.show()"
   ]
  },
  {
   "cell_type": "markdown",
   "metadata": {},
   "source": [
    "Hyperparameter adjustment - not of much note yet"
   ]
  },
  {
   "cell_type": "code",
   "execution_count": null,
   "metadata": {},
   "outputs": [],
   "source": [
    "if GRID_SEARCH:\n",
    "    rf = RandomForestClassifier(random_state=42)\n",
    "\n",
    "    params = {\n",
    "        'max_depth': [2,3,5,10,20],\n",
    "        'min_samples_leaf': [5,10,20,50,100,200],\n",
    "        'n_estimators': [10,25,30,50,100,200]\n",
    "    }\n",
    "\n",
    "    # Instantiate the grid search model\n",
    "    grid_search = GridSearchCV(estimator=rf,\n",
    "        param_grid=params,\n",
    "        cv = 4,\n",
    "         verbose=1, scoring=\"accuracy\")\n",
    "\n",
    "    grid_search.fit(x_train, y_train)\n",
    "    grid_search.best_score_\n",
    "    rf_best = grid_search.best_estimator_\n",
    "    rf_best\n",
    "\n",
    "    # Produce predictions for the classification of your training dataset using your model:\n",
    "    y_pred_best = rf_best.predict(x_train)\n",
    "\n",
    "    # plot the accuracies of said predictions\n",
    "    print(\"Accuracy on training dataset:\",metrics.accuracy_score(y_train, y_pred_best))\n",
    "    rf_best_acc_train = metrics.accuracy_score(y_train, y_pred_best)\n",
    "    y_pred_best = rf_best.predict(x_test)\n",
    "    print(\"Accuracy on testing dataset:\",metrics.accuracy_score(y_test, y_pred_best))\n",
    "    rf_best_acc_train = metrics.accuracy_score(y_test, y_pred_best)"
   ]
  },
  {
   "cell_type": "code",
   "execution_count": null,
   "metadata": {},
   "outputs": [
    {
     "ename": "NameError",
     "evalue": "name 'rf_best' is not defined",
     "output_type": "error",
     "traceback": [
      "\u001b[1;31m---------------------------------------------------------------------------\u001b[0m",
      "\u001b[1;31mNameError\u001b[0m                                 Traceback (most recent call last)",
      "\u001b[1;32mc:\\Users\\Neil Power\\OneDrive - The University of Manchester\\Physics\\Year 4\\MoonPhys\\mphys-moon\\Code\\moon_visibility_ML.ipynb Cell 20\u001b[0m line \u001b[0;36m1\n\u001b[1;32m----> <a href='vscode-notebook-cell:/c%3A/Users/Neil%20Power/OneDrive%20-%20The%20University%20of%20Manchester/Physics/Year%204/MoonPhys/mphys-moon/Code/moon_visibility_ML.ipynb#X25sZmlsZQ%3D%3D?line=0'>1</a>\u001b[0m rf_best\n",
      "\u001b[1;31mNameError\u001b[0m: name 'rf_best' is not defined"
     ]
    }
   ],
   "source": [
    "rf_best"
   ]
  },
  {
   "cell_type": "code",
   "execution_count": null,
   "metadata": {},
   "outputs": [],
   "source": [
    "#rf_best = grid_search.best_estimator_\n",
    "#rf_best"
   ]
  },
  {
   "cell_type": "code",
   "execution_count": null,
   "metadata": {},
   "outputs": [],
   "source": [
    "# Produce predictions for the classification of your training dataset using your model:\n",
    "#y_pred_best = rf_best.predict(x_train)\n",
    "\n",
    "# plot the accuracies of said predictions\n",
    "#print(\"Accuracy on training dataset:\",metrics.accuracy_score(y_train, y_pred_best))\n",
    "#rf_best_acc_train = metrics.accuracy_score(y_train, y_pred_best)\n",
    "#y_pred_best = rf_best.predict(x_test)\n",
    "#print(\"Accuracy on testing dataset:\",metrics.accuracy_score(y_test, y_pred_best))\n",
    "#rf_best_acc_train = metrics.accuracy_score(y_test, y_pred_best)"
   ]
  }
 ],
 "metadata": {
  "kernelspec": {
   "display_name": "Python 3 (ipykernel)",
   "language": "python",
   "name": "python3"
  },
  "language_info": {
   "codemirror_mode": {
    "name": "ipython",
    "version": 3
   },
   "file_extension": ".py",
   "mimetype": "text/x-python",
   "name": "python",
   "nbconvert_exporter": "python",
   "pygments_lexer": "ipython3",
   "version": "3.11.5"
  }
 },
 "nbformat": 4,
 "nbformat_minor": 4
}
